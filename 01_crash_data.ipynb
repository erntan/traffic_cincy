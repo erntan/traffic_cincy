{
 "cells": [
  {
   "cell_type": "code",
   "execution_count": 96,
   "metadata": {},
   "outputs": [],
   "source": [
    "import pandas as pd\n",
    "from clean_crash_data import crash_data"
   ]
  },
  {
   "attachments": {},
   "cell_type": "markdown",
   "metadata": {},
   "source": [
    "# Where are crashes happening most frequently?"
   ]
  },
  {
   "cell_type": "code",
   "execution_count": 97,
   "metadata": {},
   "outputs": [
    {
     "data": {
      "text/html": [
       "<div>\n",
       "<style scoped>\n",
       "    .dataframe tbody tr th:only-of-type {\n",
       "        vertical-align: middle;\n",
       "    }\n",
       "\n",
       "    .dataframe tbody tr th {\n",
       "        vertical-align: top;\n",
       "    }\n",
       "\n",
       "    .dataframe thead th {\n",
       "        text-align: right;\n",
       "    }\n",
       "</style>\n",
       "<table border=\"1\" class=\"dataframe\">\n",
       "  <thead>\n",
       "    <tr style=\"text-align: right;\">\n",
       "      <th></th>\n",
       "      <th>LOCALREPORTNO</th>\n",
       "    </tr>\n",
       "    <tr>\n",
       "      <th>ADDRESS_X</th>\n",
       "      <th></th>\n",
       "    </tr>\n",
       "  </thead>\n",
       "  <tbody>\n",
       "    <tr>\n",
       "      <th>% N I75 AT 2.7%</th>\n",
       "      <td>1</td>\n",
       "    </tr>\n",
       "    <tr>\n",
       "      <th>0-X W 562 AT I75</th>\n",
       "      <td>4</td>\n",
       "    </tr>\n",
       "    <tr>\n",
       "      <th>0-X W NORWOOD LATERAL</th>\n",
       "      <td>9</td>\n",
       "    </tr>\n",
       "    <tr>\n",
       "      <th>0.0X S I71 EX</th>\n",
       "      <td>1</td>\n",
       "    </tr>\n",
       "    <tr>\n",
       "      <th>0.X E NORWOOD LATERAL</th>\n",
       "      <td>7</td>\n",
       "    </tr>\n",
       "    <tr>\n",
       "      <th>...</th>\n",
       "      <td>...</td>\n",
       "    </tr>\n",
       "    <tr>\n",
       "      <th>XX WILLIAM HOWARD</th>\n",
       "      <td>2</td>\n",
       "    </tr>\n",
       "    <tr>\n",
       "      <th>XX WILLIAM HOWARD TAFT</th>\n",
       "      <td>19</td>\n",
       "    </tr>\n",
       "    <tr>\n",
       "      <th>XX WILLIAM HOWARD TAFT RD</th>\n",
       "      <td>156</td>\n",
       "    </tr>\n",
       "    <tr>\n",
       "      <th>XX WOODSDALE AVE</th>\n",
       "      <td>2</td>\n",
       "    </tr>\n",
       "    <tr>\n",
       "      <th>XX WUEST ST</th>\n",
       "      <td>12</td>\n",
       "    </tr>\n",
       "  </tbody>\n",
       "</table>\n",
       "<p>13347 rows × 1 columns</p>\n",
       "</div>"
      ],
      "text/plain": [
       "                           LOCALREPORTNO\n",
       "ADDRESS_X                               \n",
       "% N I75 AT 2.7%                        1\n",
       "0-X W 562 AT I75                       4\n",
       "0-X W NORWOOD LATERAL                  9\n",
       "0.0X S I71 EX                          1\n",
       "0.X E NORWOOD LATERAL                  7\n",
       "...                                  ...\n",
       "XX WILLIAM HOWARD                      2\n",
       "XX WILLIAM HOWARD TAFT                19\n",
       "XX WILLIAM HOWARD TAFT RD            156\n",
       "XX WOODSDALE AVE                       2\n",
       "XX WUEST ST                           12\n",
       "\n",
       "[13347 rows x 1 columns]"
      ]
     },
     "execution_count": 97,
     "metadata": {},
     "output_type": "execute_result"
    }
   ],
   "source": [
    "crash_data[['LOCALREPORTNO', 'ADDRESS_X']].groupby('ADDRESS_X').nunique()"
   ]
  },
  {
   "cell_type": "markdown",
   "metadata": {},
   "source": [
    "It looks like there are very few locations where there are more than 100 traffic incidents."
   ]
  },
  {
   "cell_type": "code",
   "execution_count": 98,
   "metadata": {},
   "outputs": [
    {
     "data": {
      "text/plain": [
       "13347"
      ]
     },
     "execution_count": 98,
     "metadata": {},
     "output_type": "execute_result"
    }
   ],
   "source": [
    "crash_data.ADDRESS_X.nunique()"
   ]
  },
  {
   "cell_type": "code",
   "execution_count": 99,
   "metadata": {},
   "outputs": [],
   "source": [
    "# crash_data[['LOCALREPORTNO', 'ADDRESS_X']].groupby('ADDRESS_X').nunique().plot(kind='bar')"
   ]
  },
  {
   "cell_type": "markdown",
   "metadata": {},
   "source": [
    "There are 13,573 unique addresses out of 328,558 records / 169,706 reports."
   ]
  },
  {
   "cell_type": "code",
   "execution_count": 100,
   "metadata": {},
   "outputs": [],
   "source": [
    "addr_incs = crash_data[['ADDRESS_X', 'LOCALREPORTNO']]"
   ]
  },
  {
   "cell_type": "code",
   "execution_count": 101,
   "metadata": {},
   "outputs": [],
   "source": [
    "addr_incs_grp = addr_incs.groupby('ADDRESS_X').nunique().sort_values(by='LOCALREPORTNO', ascending=False)"
   ]
  },
  {
   "cell_type": "code",
   "execution_count": 102,
   "metadata": {},
   "outputs": [],
   "source": [
    "# addr_incs_grp.plot(kind='bar')"
   ]
  },
  {
   "cell_type": "code",
   "execution_count": 103,
   "metadata": {},
   "outputs": [
    {
     "data": {
      "text/html": [
       "<div>\n",
       "<style scoped>\n",
       "    .dataframe tbody tr th:only-of-type {\n",
       "        vertical-align: middle;\n",
       "    }\n",
       "\n",
       "    .dataframe tbody tr th {\n",
       "        vertical-align: top;\n",
       "    }\n",
       "\n",
       "    .dataframe thead th {\n",
       "        text-align: right;\n",
       "    }\n",
       "</style>\n",
       "<table border=\"1\" class=\"dataframe\">\n",
       "  <thead>\n",
       "    <tr style=\"text-align: right;\">\n",
       "      <th></th>\n",
       "      <th>LOCALREPORTNO</th>\n",
       "    </tr>\n",
       "  </thead>\n",
       "  <tbody>\n",
       "    <tr>\n",
       "      <th>count</th>\n",
       "      <td>13347.000000</td>\n",
       "    </tr>\n",
       "    <tr>\n",
       "      <th>mean</th>\n",
       "      <td>12.713793</td>\n",
       "    </tr>\n",
       "    <tr>\n",
       "      <th>std</th>\n",
       "      <td>29.533590</td>\n",
       "    </tr>\n",
       "    <tr>\n",
       "      <th>min</th>\n",
       "      <td>1.000000</td>\n",
       "    </tr>\n",
       "    <tr>\n",
       "      <th>25%</th>\n",
       "      <td>1.000000</td>\n",
       "    </tr>\n",
       "    <tr>\n",
       "      <th>50%</th>\n",
       "      <td>3.000000</td>\n",
       "    </tr>\n",
       "    <tr>\n",
       "      <th>75%</th>\n",
       "      <td>10.000000</td>\n",
       "    </tr>\n",
       "    <tr>\n",
       "      <th>max</th>\n",
       "      <td>575.000000</td>\n",
       "    </tr>\n",
       "  </tbody>\n",
       "</table>\n",
       "</div>"
      ],
      "text/plain": [
       "       LOCALREPORTNO\n",
       "count   13347.000000\n",
       "mean       12.713793\n",
       "std        29.533590\n",
       "min         1.000000\n",
       "25%         1.000000\n",
       "50%         3.000000\n",
       "75%        10.000000\n",
       "max       575.000000"
      ]
     },
     "execution_count": 103,
     "metadata": {},
     "output_type": "execute_result"
    }
   ],
   "source": [
    "addr_incs_grp.describe()"
   ]
  },
  {
   "attachments": {},
   "cell_type": "markdown",
   "metadata": {},
   "source": [
    "While most addresses have 10 or fewer crashes over the last decade, the most crashes that have occurred at a single address is 575! Let's look at the top 25%."
   ]
  },
  {
   "cell_type": "code",
   "execution_count": 104,
   "metadata": {},
   "outputs": [],
   "source": [
    "top_qtr = addr_incs_grp.loc[addr_incs_grp.LOCALREPORTNO > 10]"
   ]
  },
  {
   "cell_type": "code",
   "execution_count": 105,
   "metadata": {},
   "outputs": [],
   "source": [
    "top_qtr_data = crash_data[crash_data.ADDRESS_X.isin(top_qtr.index)]"
   ]
  },
  {
   "cell_type": "code",
   "execution_count": 106,
   "metadata": {},
   "outputs": [
    {
     "data": {
      "text/plain": [
       "141371"
      ]
     },
     "execution_count": 106,
     "metadata": {},
     "output_type": "execute_result"
    }
   ],
   "source": [
    "top_qtr_data.LOCALREPORTNO.nunique()"
   ]
  },
  {
   "cell_type": "code",
   "execution_count": 107,
   "metadata": {},
   "outputs": [],
   "source": [
    "top_qtr_crashes = top_qtr_data.groupby('ADDRESS_X').nunique().sort_values(by='LOCALREPORTNO', ascending=False)['LOCALREPORTNO']"
   ]
  },
  {
   "cell_type": "code",
   "execution_count": 108,
   "metadata": {},
   "outputs": [
    {
     "data": {
      "text/plain": [
       "ADDRESS_X\n",
       "2XX W MITCHELL AVE    575\n",
       "1XX W MITCHELL AVE    483\n",
       "61XX GLENWAY AVE      472\n",
       "2XX CALHOUN ST        404\n",
       "44XX COLERAIN AVE     399\n",
       "49XX GLENWAY AVE      375\n",
       "16XX WESTWOOD AVE     368\n",
       "35XX READING RD       352\n",
       "39XX VINE ST          350\n",
       "55XX COLERAIN AVE     349\n",
       "Name: LOCALREPORTNO, dtype: int64"
      ]
     },
     "execution_count": 108,
     "metadata": {},
     "output_type": "execute_result"
    }
   ],
   "source": [
    "top_qtr_crashes[0:10]"
   ]
  },
  {
   "attachments": {},
   "cell_type": "markdown",
   "metadata": {},
   "source": [
    "2XX W Mitchell Avenue is the location with 575 crashes. Interestingly, 1XX W Mitchell Avenue is the next highest at 483 crashes."
   ]
  },
  {
   "cell_type": "code",
   "execution_count": 109,
   "metadata": {},
   "outputs": [
    {
     "data": {
      "text/plain": [
       "3204"
      ]
     },
     "execution_count": 109,
     "metadata": {},
     "output_type": "execute_result"
    }
   ],
   "source": [
    "len(top_qtr_crashes)"
   ]
  },
  {
   "attachments": {},
   "cell_type": "markdown",
   "metadata": {},
   "source": [
    "3,204 addresses make up the top quarter of crashes. Streets would be a more useful measure (but there might be different clusters on the same street)"
   ]
  },
  {
   "attachments": {},
   "cell_type": "markdown",
   "metadata": {},
   "source": [
    "# Crashes by Street"
   ]
  },
  {
   "cell_type": "code",
   "execution_count": 111,
   "metadata": {},
   "outputs": [],
   "source": [
    "data_by_st = crash_data\n",
    "data_by_st['STREET'] = data_by_st.ADDRESS_X.str.replace('^\\d+X+ ', '', regex=True)"
   ]
  },
  {
   "cell_type": "code",
   "execution_count": 113,
   "metadata": {},
   "outputs": [
    {
     "data": {
      "text/plain": [
       "0         S I75 AT 2-7 MM\n",
       "1            E LIBERTY ST\n",
       "2            E LIBERTY ST\n",
       "3             CENTRAL AVE\n",
       "4             CENTRAL AVE\n",
       "               ...       \n",
       "328553        SYCAMORE ST\n",
       "328554          WALNUT ST\n",
       "328555          WALNUT ST\n",
       "328556       HARRISON AVE\n",
       "328557       HARRISON AVE\n",
       "Name: STREET, Length: 328558, dtype: object"
      ]
     },
     "execution_count": 113,
     "metadata": {},
     "output_type": "execute_result"
    }
   ],
   "source": [
    "data_by_st.STREET"
   ]
  },
  {
   "cell_type": "code",
   "execution_count": 117,
   "metadata": {},
   "outputs": [
    {
     "data": {
      "text/plain": [
       "6446"
      ]
     },
     "execution_count": 117,
     "metadata": {},
     "output_type": "execute_result"
    }
   ],
   "source": [
    "data_by_st.STREET.nunique()"
   ]
  },
  {
   "attachments": {},
   "cell_type": "markdown",
   "metadata": {},
   "source": [
    "There are about 6,446 unique streets with car crashes."
   ]
  },
  {
   "cell_type": "code",
   "execution_count": 122,
   "metadata": {},
   "outputs": [
    {
     "data": {
      "text/html": [
       "<div>\n",
       "<style scoped>\n",
       "    .dataframe tbody tr th:only-of-type {\n",
       "        vertical-align: middle;\n",
       "    }\n",
       "\n",
       "    .dataframe tbody tr th {\n",
       "        vertical-align: top;\n",
       "    }\n",
       "\n",
       "    .dataframe thead th {\n",
       "        text-align: right;\n",
       "    }\n",
       "</style>\n",
       "<table border=\"1\" class=\"dataframe\">\n",
       "  <thead>\n",
       "    <tr style=\"text-align: right;\">\n",
       "      <th></th>\n",
       "      <th>LATITUDE_X</th>\n",
       "      <th>LONGITUDE_X</th>\n",
       "      <th>AGE</th>\n",
       "      <th>CRASHSEVERITY</th>\n",
       "      <th>INJURIES</th>\n",
       "      <th>MANNEROFCRASH</th>\n",
       "      <th>ROADCONTOUR</th>\n",
       "      <th>ROADSURFACE</th>\n",
       "      <th>ROADCLASS</th>\n",
       "      <th>LIGHTCONDITIONS</th>\n",
       "      <th>ROADCONDITIONS</th>\n",
       "    </tr>\n",
       "  </thead>\n",
       "  <tbody>\n",
       "    <tr>\n",
       "      <th>count</th>\n",
       "      <td>3.285290e+05</td>\n",
       "      <td>3.285270e+05</td>\n",
       "      <td>287961.000000</td>\n",
       "      <td>328551.0</td>\n",
       "      <td>328250.0</td>\n",
       "      <td>328537.0</td>\n",
       "      <td>328537.0</td>\n",
       "      <td>328537.0</td>\n",
       "      <td>203133.000000</td>\n",
       "      <td>328537.0</td>\n",
       "      <td>328537.0</td>\n",
       "    </tr>\n",
       "    <tr>\n",
       "      <th>mean</th>\n",
       "      <td>2.633354e+03</td>\n",
       "      <td>-1.199095e+04</td>\n",
       "      <td>37.465070</td>\n",
       "      <td>3.481904</td>\n",
       "      <td>2.663829</td>\n",
       "      <td>4.262655</td>\n",
       "      <td>1.469451</td>\n",
       "      <td>1.853091</td>\n",
       "      <td>2.825745</td>\n",
       "      <td>1.79539</td>\n",
       "      <td>1.551956</td>\n",
       "    </tr>\n",
       "    <tr>\n",
       "      <th>std</th>\n",
       "      <td>1.469781e+06</td>\n",
       "      <td>6.819152e+06</td>\n",
       "      <td>16.585971</td>\n",
       "      <td>1.080332</td>\n",
       "      <td>1.837182</td>\n",
       "      <td>2.441715</td>\n",
       "      <td>0.857321</td>\n",
       "      <td>0.408198</td>\n",
       "      <td>1.484126</td>\n",
       "      <td>1.336644</td>\n",
       "      <td>4.998746</td>\n",
       "    </tr>\n",
       "    <tr>\n",
       "      <th>min</th>\n",
       "      <td>-8.449023e+01</td>\n",
       "      <td>-3.908552e+09</td>\n",
       "      <td>0.000000</td>\n",
       "      <td>1.0</td>\n",
       "      <td>1.0</td>\n",
       "      <td>1.0</td>\n",
       "      <td>1.0</td>\n",
       "      <td>1.0</td>\n",
       "      <td>0.000000</td>\n",
       "      <td>1.0</td>\n",
       "      <td>1.0</td>\n",
       "    </tr>\n",
       "    <tr>\n",
       "      <th>25%</th>\n",
       "      <td>3.911740e+01</td>\n",
       "      <td>-8.454953e+01</td>\n",
       "      <td>24.000000</td>\n",
       "      <td>3.0</td>\n",
       "      <td>1.0</td>\n",
       "      <td>2.0</td>\n",
       "      <td>1.0</td>\n",
       "      <td>2.0</td>\n",
       "      <td>2.000000</td>\n",
       "      <td>1.0</td>\n",
       "      <td>1.0</td>\n",
       "    </tr>\n",
       "    <tr>\n",
       "      <th>50%</th>\n",
       "      <td>3.913663e+01</td>\n",
       "      <td>-8.451502e+01</td>\n",
       "      <td>34.000000</td>\n",
       "      <td>3.0</td>\n",
       "      <td>1.0</td>\n",
       "      <td>6.0</td>\n",
       "      <td>1.0</td>\n",
       "      <td>2.0</td>\n",
       "      <td>2.000000</td>\n",
       "      <td>1.0</td>\n",
       "      <td>1.0</td>\n",
       "    </tr>\n",
       "    <tr>\n",
       "      <th>75%</th>\n",
       "      <td>3.916096e+01</td>\n",
       "      <td>-8.448473e+01</td>\n",
       "      <td>49.000000</td>\n",
       "      <td>5.0</td>\n",
       "      <td>5.0</td>\n",
       "      <td>6.0</td>\n",
       "      <td>2.0</td>\n",
       "      <td>2.0</td>\n",
       "      <td>4.000000</td>\n",
       "      <td>3.0</td>\n",
       "      <td>1.0</td>\n",
       "    </tr>\n",
       "    <tr>\n",
       "      <th>max</th>\n",
       "      <td>8.424329e+08</td>\n",
       "      <td>1.000000e-03</td>\n",
       "      <td>933.000000</td>\n",
       "      <td>5.0</td>\n",
       "      <td>5.0</td>\n",
       "      <td>9.0</td>\n",
       "      <td>9.0</td>\n",
       "      <td>9.0</td>\n",
       "      <td>10.000000</td>\n",
       "      <td>9.0</td>\n",
       "      <td>99.0</td>\n",
       "    </tr>\n",
       "  </tbody>\n",
       "</table>\n",
       "</div>"
      ],
      "text/plain": [
       "         LATITUDE_X   LONGITUDE_X            AGE  CRASHSEVERITY  INJURIES  \\\n",
       "count  3.285290e+05  3.285270e+05  287961.000000       328551.0  328250.0   \n",
       "mean   2.633354e+03 -1.199095e+04      37.465070       3.481904  2.663829   \n",
       "std    1.469781e+06  6.819152e+06      16.585971       1.080332  1.837182   \n",
       "min   -8.449023e+01 -3.908552e+09       0.000000            1.0       1.0   \n",
       "25%    3.911740e+01 -8.454953e+01      24.000000            3.0       1.0   \n",
       "50%    3.913663e+01 -8.451502e+01      34.000000            3.0       1.0   \n",
       "75%    3.916096e+01 -8.448473e+01      49.000000            5.0       5.0   \n",
       "max    8.424329e+08  1.000000e-03     933.000000            5.0       5.0   \n",
       "\n",
       "       MANNEROFCRASH  ROADCONTOUR  ROADSURFACE      ROADCLASS  \\\n",
       "count       328537.0     328537.0     328537.0  203133.000000   \n",
       "mean        4.262655     1.469451     1.853091       2.825745   \n",
       "std         2.441715     0.857321     0.408198       1.484126   \n",
       "min              1.0          1.0          1.0       0.000000   \n",
       "25%              2.0          1.0          2.0       2.000000   \n",
       "50%              6.0          1.0          2.0       2.000000   \n",
       "75%              6.0          2.0          2.0       4.000000   \n",
       "max              9.0          9.0          9.0      10.000000   \n",
       "\n",
       "       LIGHTCONDITIONS  ROADCONDITIONS  \n",
       "count         328537.0        328537.0  \n",
       "mean           1.79539        1.551956  \n",
       "std           1.336644        4.998746  \n",
       "min                1.0             1.0  \n",
       "25%                1.0             1.0  \n",
       "50%                1.0             1.0  \n",
       "75%                3.0             1.0  \n",
       "max                9.0            99.0  "
      ]
     },
     "execution_count": 122,
     "metadata": {},
     "output_type": "execute_result"
    }
   ],
   "source": [
    "data_by_st.describe()"
   ]
  },
  {
   "cell_type": "code",
   "execution_count": 119,
   "metadata": {},
   "outputs": [
    {
     "data": {
      "text/plain": [
       "STREET\n",
       "READING RD           6997\n",
       "GLENWAY AVE          5378\n",
       "VINE ST              4698\n",
       "HARRISON AVE         2988\n",
       "COLERAIN AVE         2639\n",
       "                     ... \n",
       "OAKTREE                 1\n",
       "BRACKETT AL             1\n",
       "OBERLIN BOULEVARD       1\n",
       "OBRYON                  1\n",
       "  VINE ST               1\n",
       "Name: LOCALREPORTNO, Length: 6446, dtype: int64"
      ]
     },
     "execution_count": 119,
     "metadata": {},
     "output_type": "execute_result"
    }
   ],
   "source": [
    "data_by_st.groupby(by='STREET').nunique().sort_values(by='LOCALREPORTNO', ascending=False).LOCALREPORTNO"
   ]
  },
  {
   "attachments": {},
   "cell_type": "markdown",
   "metadata": {},
   "source": [
    "When grouped by street rather than address, Reading Rd has the most crashes, with Glenway second."
   ]
  },
  {
   "attachments": {},
   "cell_type": "markdown",
   "metadata": {},
   "source": [
    "# W Mitchell Avea"
   ]
  },
  {
   "cell_type": "code",
   "execution_count": 82,
   "metadata": {},
   "outputs": [],
   "source": [
    "w_mitchell_avenue = crash_data[crash_data['ADDRESS_X'].str.contains('W MITCHELL AV', case=False, na=False)]"
   ]
  },
  {
   "cell_type": "code",
   "execution_count": 83,
   "metadata": {},
   "outputs": [
    {
     "data": {
      "text/plain": [
       "ADDRESS_X\n",
       "2XX W MITCHELL AVE     575\n",
       "1XX W MITCHELL AVE     483\n",
       "XX W MITCHELL AVE      260\n",
       "X W MITCHELL AVE       101\n",
       "W MITCHELL AVE          63\n",
       "45XX W MITCHELL AVE     54\n",
       "44XX W MITCHELL AVE     52\n",
       "3XX W MITCHELL AVE      24\n",
       "46XX W MITCHELL AVE      8\n",
       "2XX  W MITCHELL AVE      1\n",
       "47XX W MITCHELL AVE      1\n",
       "4XX W MITCHELL AVE       1\n",
       "Name: LOCALREPORTNO, dtype: int64"
      ]
     },
     "execution_count": 83,
     "metadata": {},
     "output_type": "execute_result"
    }
   ],
   "source": [
    "w_mitchell_avenue.groupby(by='ADDRESS_X').nunique().sort_values(by='LOCALREPORTNO', ascending=False).LOCALREPORTNO"
   ]
  },
  {
   "attachments": {},
   "cell_type": "markdown",
   "metadata": {},
   "source": [
    "Google Maps From 4600 W Mitchell Ave to 1 W Mitchell Ave\n",
    "https://www.google.com/maps/dir/1+W+Mitchell+Ave,+Cincinnati,+OH+45217/4600+W+Mitchell+Ave,+Cincinnati,+OH+45232/@39.1661648,-84.5191883,15z/data=!3m1!4b1!4m13!4m12!1m5!1m1!1s0x8841b36d88f31241:0x8e4b4ba441fad80e!2m2!1d-84.5044751!2d39.1603458!1m5!1m1!1s0x8841b35d97dc6419:0xb01843254e6d7e95!2m2!1d-84.5149961!2d39.1719619"
   ]
  },
  {
   "cell_type": "code",
   "execution_count": 84,
   "metadata": {},
   "outputs": [],
   "source": [
    "crashes_on_w_mitchell = w_mitchell_avenue.LOCALREPORTNO.nunique()"
   ]
  },
  {
   "cell_type": "code",
   "execution_count": 85,
   "metadata": {},
   "outputs": [
    {
     "data": {
      "text/plain": [
       "1623"
      ]
     },
     "execution_count": 85,
     "metadata": {},
     "output_type": "execute_result"
    }
   ],
   "source": [
    "crashes_on_w_mitchell"
   ]
  },
  {
   "cell_type": "code",
   "execution_count": 86,
   "metadata": {},
   "outputs": [
    {
     "data": {
      "text/plain": [
       "0.009563598222808858"
      ]
     },
     "execution_count": 86,
     "metadata": {},
     "output_type": "execute_result"
    }
   ],
   "source": [
    "crashes_on_w_mitchell / crash_data.LOCALREPORTNO.nunique()"
   ]
  },
  {
   "attachments": {},
   "cell_type": "markdown",
   "metadata": {},
   "source": [
    "W Mitchell Avenue accounts for .96% of crashes over the last decade, so that doesn't sound extreme."
   ]
  },
  {
   "attachments": {},
   "cell_type": "markdown",
   "metadata": {},
   "source": [
    "# Glenway ave"
   ]
  },
  {
   "cell_type": "code",
   "execution_count": 87,
   "metadata": {},
   "outputs": [],
   "source": [
    "glenway_ave = crash_data[crash_data['ADDRESS_X'].str.contains('GLENWAY', case=False, na=False)]"
   ]
  },
  {
   "cell_type": "code",
   "execution_count": 92,
   "metadata": {},
   "outputs": [],
   "source": [
    "crashes_on_glenway = glenway_ave.LOCALREPORTNO.nunique()"
   ]
  },
  {
   "cell_type": "code",
   "execution_count": 93,
   "metadata": {},
   "outputs": [
    {
     "data": {
      "text/plain": [
       "6018"
      ]
     },
     "execution_count": 93,
     "metadata": {},
     "output_type": "execute_result"
    }
   ],
   "source": [
    "crashes_on_glenway"
   ]
  },
  {
   "attachments": {},
   "cell_type": "markdown",
   "metadata": {},
   "source": [
    "There are actually more crashes that occur on Glenway Avenue than W Mitchell Ave."
   ]
  },
  {
   "cell_type": "code",
   "execution_count": 88,
   "metadata": {},
   "outputs": [
    {
     "data": {
      "text/plain": [
       "ADDRESS_X\n",
       "61XX GLENWAY AVE    472\n",
       "49XX GLENWAY AVE    375\n",
       "53XX GLENWAY AVE    251\n",
       "60XX GLENWAY AVE    237\n",
       "48XX GLENWAY AVE    225\n",
       "                   ... \n",
       "64XX GLENWAY AVE      2\n",
       "65XX GLENWAY AVE      2\n",
       "GLENWAY AVE           2\n",
       "43XX GLENWAY          1\n",
       "69XX GLENWAY AVE      1\n",
       "Name: LOCALREPORTNO, Length: 85, dtype: int64"
      ]
     },
     "execution_count": 88,
     "metadata": {},
     "output_type": "execute_result"
    }
   ],
   "source": [
    "glenway_ave.groupby(by='ADDRESS_X').nunique().sort_values(by='LOCALREPORTNO', ascending=False).LOCALREPORTNO"
   ]
  },
  {
   "cell_type": "code",
   "execution_count": 94,
   "metadata": {},
   "outputs": [
    {
     "data": {
      "text/plain": [
       "0.03546132723651491"
      ]
     },
     "execution_count": 94,
     "metadata": {},
     "output_type": "execute_result"
    }
   ],
   "source": [
    "crashes_on_glenway / crash_data.LOCALREPORTNO.nunique()"
   ]
  },
  {
   "attachments": {},
   "cell_type": "markdown",
   "metadata": {},
   "source": [
    "Crashes on Glenway Avenue account for 3.55% of all crashes."
   ]
  },
  {
   "cell_type": "code",
   "execution_count": null,
   "metadata": {},
   "outputs": [
    {
     "data": {
      "text/plain": [
       "ADDRESS_X\n",
       "23XX GLENWAY AVE     88\n",
       "24XX GLENWAY AVE     52\n",
       "25XX GLENWAY AVE     28\n",
       "26XX GLENWAY AVE     22\n",
       "27XX GLENWAY AVE     17\n",
       "                   ... \n",
       "61XX GLENWAY         54\n",
       "61XX GLENWAY AVE    472\n",
       "62XX GLENWAY         12\n",
       "62XX GLENWAY AVE    151\n",
       "63XX GLENWAY AVE     30\n",
       "Name: LOCALREPORTNO, Length: 66, dtype: int64"
      ]
     },
     "execution_count": 52,
     "metadata": {},
     "output_type": "execute_result"
    }
   ],
   "source": [
    "top_qtr_crashes.filter(regex='GLENWAY').sort_index()"
   ]
  },
  {
   "attachments": {},
   "cell_type": "markdown",
   "metadata": {},
   "source": [
    "Glenway Avenue-- it's a pretty big strip, maybe separating into clusters would be more useful. https://www.google.com/maps/dir/6300+Glenway+Ave,+Cincinnati,+OH+45211/2300+Glenway+Ave,+Cincinnati,+OH+45204/@39.1250156,-84.6122592,13z/data=!4m13!4m12!1m5!1m1!1s0x8841ca6665f3b8a9:0xb7a4b0818c4ab315!2m2!1d-84.6227301!2d39.1472094!1m5!1m1!1s0x8841b6834b810fab:0x2e34cd800837f19b!2m2!1d-84.5537986!2d39.105488"
   ]
  },
  {
   "cell_type": "code",
   "execution_count": null,
   "metadata": {},
   "outputs": [
    {
     "data": {
      "text/plain": [
       "ADDRESS_X\n",
       "2XX W MITCHELL AVE    575\n",
       "1XX W MITCHELL AVE    483\n",
       "61XX GLENWAY AVE      472\n",
       "2XX CALHOUN ST        404\n",
       "44XX COLERAIN AVE     399\n",
       "                     ... \n",
       "51XX GRAFTON AVE       11\n",
       "32XX DAYTONA AVE       11\n",
       "51XX RIDGE AVE         11\n",
       "24XX BEEKMAN           11\n",
       "16XX HEWITT AVE        11\n",
       "Name: LOCALREPORTNO, Length: 3204, dtype: int64"
      ]
     },
     "execution_count": 53,
     "metadata": {},
     "output_type": "execute_result"
    }
   ],
   "source": [
    "top_qtr_crashes"
   ]
  },
  {
   "attachments": {},
   "cell_type": "markdown",
   "metadata": {},
   "source": [
    "# Reading Road"
   ]
  },
  {
   "cell_type": "code",
   "execution_count": 124,
   "metadata": {},
   "outputs": [],
   "source": [
    "crashes_on_reading = crash_data[crash_data.ADDRESS_X.str.contains('READING', na=False)]"
   ]
  },
  {
   "cell_type": "code",
   "execution_count": 127,
   "metadata": {},
   "outputs": [],
   "source": [
    "num_crashes_on_reading = crashes_on_reading.groupby('ADDRESS_X').nunique().sort_values(by='LOCALREPORTNO', ascending=False).LOCALREPORTNO"
   ]
  },
  {
   "cell_type": "code",
   "execution_count": 135,
   "metadata": {},
   "outputs": [
    {
     "data": {
      "text/plain": [
       "ADDRESS_X\n",
       "71XX READING RD              295\n",
       "71XX READING RD.               1\n",
       "72XX READING                   3\n",
       "72XX READING RD              100\n",
       "73XX READING                   1\n",
       "73XX READING RD               70\n",
       "74XX READING RD               14\n",
       "75XX READING                   7\n",
       "75XX READING RD              154\n",
       "76XX  READING RD               2\n",
       "76XX READING                  18\n",
       "76XX READING RD              193\n",
       "76XX READING RD.               1\n",
       "77XX READING                  15\n",
       "77XX READING RD              180\n",
       "78XX READING RD               23\n",
       "79XX READING                   3\n",
       "79XX READING RD               45\n",
       "7XX READING                    6\n",
       "7XX READING RD               140\n",
       "7XX READING ROAD               1\n",
       "82XX READING RD                1\n",
       "9XX READING RD                 1\n",
       "N I471 AT READING              1\n",
       "N I71 AT READING               1\n",
       "READING RD                     3\n",
       "W 562 WO READING              10\n",
       "WB SR 562 RAMP TO READING      4\n",
       "Name: LOCALREPORTNO, dtype: int64"
      ]
     },
     "execution_count": 135,
     "metadata": {},
     "output_type": "execute_result"
    }
   ],
   "source": [
    "num_crashes_on_reading.sort_index()[120:]"
   ]
  },
  {
   "cell_type": "markdown",
   "metadata": {},
   "source": []
  }
 ],
 "metadata": {
  "kernelspec": {
   "display_name": "Python 3",
   "language": "python",
   "name": "python3"
  },
  "language_info": {
   "codemirror_mode": {
    "name": "ipython",
    "version": 3
   },
   "file_extension": ".py",
   "mimetype": "text/x-python",
   "name": "python",
   "nbconvert_exporter": "python",
   "pygments_lexer": "ipython3",
   "version": "3.11.0"
  },
  "orig_nbformat": 4
 },
 "nbformat": 4,
 "nbformat_minor": 2
}
