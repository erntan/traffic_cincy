{
 "cells": [
  {
   "cell_type": "code",
   "execution_count": 1,
   "metadata": {},
   "outputs": [],
   "source": [
    "import pandas as pd \n",
    "# from sodapy import Socrata  # API for data"
   ]
  },
  {
   "cell_type": "code",
   "execution_count": 103,
   "metadata": {},
   "outputs": [
    {
     "name": "stderr",
     "output_type": "stream",
     "text": [
      "WARNING:root:Requests made without an app_token will be subject to strict throttling limits.\n"
     ]
    }
   ],
   "source": [
    "# client = Socrata(\"data.cincinnati-oh.gov\", None)\n",
    "# crash_raw = pd.DataFrame.from_records(\n",
    "#                 client.get('rvmt-pkmq', limit=1000000)\n",
    "#             )\n",
    "\n",
    "# Using the API is faster than using pd.read_json"
   ]
  },
  {
   "cell_type": "code",
   "execution_count": 105,
   "metadata": {},
   "outputs": [],
   "source": []
  },
  {
   "attachments": {},
   "cell_type": "markdown",
   "metadata": {},
   "source": [
    "# Crash Data Exploration"
   ]
  },
  {
   "cell_type": "code",
   "execution_count": 106,
   "metadata": {},
   "outputs": [
    {
     "data": {
      "text/plain": [
       "(324723, 28)"
      ]
     },
     "execution_count": 106,
     "metadata": {},
     "output_type": "execute_result"
    }
   ],
   "source": [
    "crash_raw.shape"
   ]
  },
  {
   "cell_type": "code",
   "execution_count": 107,
   "metadata": {},
   "outputs": [
    {
     "data": {
      "text/html": [
       "<div>\n",
       "<style scoped>\n",
       "    .dataframe tbody tr th:only-of-type {\n",
       "        vertical-align: middle;\n",
       "    }\n",
       "\n",
       "    .dataframe tbody tr th {\n",
       "        vertical-align: top;\n",
       "    }\n",
       "\n",
       "    .dataframe thead th {\n",
       "        text-align: right;\n",
       "    }\n",
       "</style>\n",
       "<table border=\"1\" class=\"dataframe\">\n",
       "  <thead>\n",
       "    <tr style=\"text-align: right;\">\n",
       "      <th></th>\n",
       "      <th>address_x</th>\n",
       "      <th>latitude_x</th>\n",
       "      <th>longitude_x</th>\n",
       "      <th>community_council_neighborhood</th>\n",
       "      <th>cpd_neighborhood</th>\n",
       "      <th>sna_neighborhood</th>\n",
       "      <th>crashdate</th>\n",
       "      <th>crashseverity</th>\n",
       "      <th>crashseverityid</th>\n",
       "      <th>datecrashreported</th>\n",
       "      <th>...</th>\n",
       "      <th>roadcontour</th>\n",
       "      <th>roadsurface</th>\n",
       "      <th>roadclass</th>\n",
       "      <th>roadclassdesc</th>\n",
       "      <th>unittype</th>\n",
       "      <th>typeofperson</th>\n",
       "      <th>weather</th>\n",
       "      <th>age</th>\n",
       "      <th>gender</th>\n",
       "      <th>crashlocation</th>\n",
       "    </tr>\n",
       "  </thead>\n",
       "  <tbody>\n",
       "    <tr>\n",
       "      <th>0</th>\n",
       "      <td>36XX READING RD</td>\n",
       "      <td>39.148761</td>\n",
       "      <td>-84.512611</td>\n",
       "      <td>CLIFTON</td>\n",
       "      <td>CLIFTON</td>\n",
       "      <td>CLIFTON</td>\n",
       "      <td>2023-02-08T23:04:17.000</td>\n",
       "      <td>5 - PROPERTY DAMAGE ONLY</td>\n",
       "      <td>201905</td>\n",
       "      <td>2023-02-08T23:02:41.000</td>\n",
       "      <td>...</td>\n",
       "      <td>NaN</td>\n",
       "      <td>NaN</td>\n",
       "      <td>NaN</td>\n",
       "      <td>NaN</td>\n",
       "      <td>NaN</td>\n",
       "      <td>NaN</td>\n",
       "      <td>NaN</td>\n",
       "      <td>NaN</td>\n",
       "      <td>NaN</td>\n",
       "      <td>NaN</td>\n",
       "    </tr>\n",
       "    <tr>\n",
       "      <th>1</th>\n",
       "      <td>47XX READING RD</td>\n",
       "      <td>39.171042</td>\n",
       "      <td>-84.469211</td>\n",
       "      <td>BOND HILL</td>\n",
       "      <td>BONDHILL</td>\n",
       "      <td>BOND HILL</td>\n",
       "      <td>2023-02-08T22:30:00.000</td>\n",
       "      <td>4 - INJURY POSSIBLE</td>\n",
       "      <td>201904</td>\n",
       "      <td>2023-02-08T22:30:00.000</td>\n",
       "      <td>...</td>\n",
       "      <td>1 - STRAIGHT LEVEL</td>\n",
       "      <td>2 - BLACKTOP, BITUMINOUS, ASPHALT</td>\n",
       "      <td>2</td>\n",
       "      <td>Major Arterial Roads</td>\n",
       "      <td>99 - UNKNOWN OR HIT/SKIP</td>\n",
       "      <td>D - DRIVER</td>\n",
       "      <td>4 - RAIN</td>\n",
       "      <td>NaN</td>\n",
       "      <td>NaN</td>\n",
       "      <td>NaN</td>\n",
       "    </tr>\n",
       "    <tr>\n",
       "      <th>2</th>\n",
       "      <td>47XX READING RD</td>\n",
       "      <td>39.170372</td>\n",
       "      <td>-84.468331</td>\n",
       "      <td>BOND HILL</td>\n",
       "      <td>BONDHILL</td>\n",
       "      <td>BOND HILL</td>\n",
       "      <td>2023-02-08T22:30:00.000</td>\n",
       "      <td>4 - INJURY POSSIBLE</td>\n",
       "      <td>201904</td>\n",
       "      <td>2023-02-08T22:30:00.000</td>\n",
       "      <td>...</td>\n",
       "      <td>1 - STRAIGHT LEVEL</td>\n",
       "      <td>2 - BLACKTOP, BITUMINOUS, ASPHALT</td>\n",
       "      <td>2</td>\n",
       "      <td>Major Arterial Roads</td>\n",
       "      <td>03 - SPORT UTILITY VEHICLE</td>\n",
       "      <td>D - DRIVER</td>\n",
       "      <td>4 - RAIN</td>\n",
       "      <td>20</td>\n",
       "      <td>F - FEMALE</td>\n",
       "      <td>NaN</td>\n",
       "    </tr>\n",
       "    <tr>\n",
       "      <th>3</th>\n",
       "      <td>4XX W  KING DR</td>\n",
       "      <td>39.135472</td>\n",
       "      <td>-84.501351</td>\n",
       "      <td>CORRYVILLE</td>\n",
       "      <td>CORRYVILLE</td>\n",
       "      <td>CORRYVILLE</td>\n",
       "      <td>2023-02-08T22:10:00.000</td>\n",
       "      <td>5 - PROPERTY DAMAGE ONLY</td>\n",
       "      <td>201905</td>\n",
       "      <td>2023-02-08T22:12:00.000</td>\n",
       "      <td>...</td>\n",
       "      <td>3 - CURVE LEVEL</td>\n",
       "      <td>2 - BLACKTOP, BITUMINOUS, ASPHALT</td>\n",
       "      <td>2</td>\n",
       "      <td>Major Arterial Roads</td>\n",
       "      <td>01 - PASSENGER CAR</td>\n",
       "      <td>D - DRIVER</td>\n",
       "      <td>4 - RAIN</td>\n",
       "      <td>18</td>\n",
       "      <td>M - MALE</td>\n",
       "      <td>NaN</td>\n",
       "    </tr>\n",
       "    <tr>\n",
       "      <th>4</th>\n",
       "      <td>15XX HARRISON AV</td>\n",
       "      <td>39.125139</td>\n",
       "      <td>-84.549324</td>\n",
       "      <td>SOUTH FAIRMOUNT</td>\n",
       "      <td>SOUTH  FAIRMOUNT</td>\n",
       "      <td>SOUTH FAIRMOUNT</td>\n",
       "      <td>2023-02-08T21:30:00.000</td>\n",
       "      <td>5 - PROPERTY DAMAGE ONLY</td>\n",
       "      <td>201905</td>\n",
       "      <td>2023-02-08T21:40:00.000</td>\n",
       "      <td>...</td>\n",
       "      <td>1 - STRAIGHT LEVEL</td>\n",
       "      <td>2 - BLACKTOP, BITUMINOUS, ASPHALT</td>\n",
       "      <td>NaN</td>\n",
       "      <td>NaN</td>\n",
       "      <td>01 - PASSENGER CAR</td>\n",
       "      <td>D - DRIVER</td>\n",
       "      <td>4 - RAIN</td>\n",
       "      <td>42</td>\n",
       "      <td>M - MALE</td>\n",
       "      <td>NaN</td>\n",
       "    </tr>\n",
       "  </tbody>\n",
       "</table>\n",
       "<p>5 rows × 28 columns</p>\n",
       "</div>"
      ],
      "text/plain": [
       "          address_x latitude_x longitude_x community_council_neighborhood  \\\n",
       "0   36XX READING RD  39.148761  -84.512611                        CLIFTON   \n",
       "1   47XX READING RD  39.171042  -84.469211                      BOND HILL   \n",
       "2   47XX READING RD  39.170372  -84.468331                      BOND HILL   \n",
       "3    4XX W  KING DR  39.135472  -84.501351                     CORRYVILLE   \n",
       "4  15XX HARRISON AV  39.125139  -84.549324                SOUTH FAIRMOUNT   \n",
       "\n",
       "   cpd_neighborhood sna_neighborhood                crashdate  \\\n",
       "0           CLIFTON          CLIFTON  2023-02-08T23:04:17.000   \n",
       "1          BONDHILL        BOND HILL  2023-02-08T22:30:00.000   \n",
       "2          BONDHILL        BOND HILL  2023-02-08T22:30:00.000   \n",
       "3        CORRYVILLE       CORRYVILLE  2023-02-08T22:10:00.000   \n",
       "4  SOUTH  FAIRMOUNT  SOUTH FAIRMOUNT  2023-02-08T21:30:00.000   \n",
       "\n",
       "              crashseverity crashseverityid        datecrashreported  ...  \\\n",
       "0  5 - PROPERTY DAMAGE ONLY          201905  2023-02-08T23:02:41.000  ...   \n",
       "1       4 - INJURY POSSIBLE          201904  2023-02-08T22:30:00.000  ...   \n",
       "2       4 - INJURY POSSIBLE          201904  2023-02-08T22:30:00.000  ...   \n",
       "3  5 - PROPERTY DAMAGE ONLY          201905  2023-02-08T22:12:00.000  ...   \n",
       "4  5 - PROPERTY DAMAGE ONLY          201905  2023-02-08T21:40:00.000  ...   \n",
       "\n",
       "          roadcontour                        roadsurface roadclass  \\\n",
       "0                 NaN                                NaN       NaN   \n",
       "1  1 - STRAIGHT LEVEL  2 - BLACKTOP, BITUMINOUS, ASPHALT         2   \n",
       "2  1 - STRAIGHT LEVEL  2 - BLACKTOP, BITUMINOUS, ASPHALT         2   \n",
       "3     3 - CURVE LEVEL  2 - BLACKTOP, BITUMINOUS, ASPHALT         2   \n",
       "4  1 - STRAIGHT LEVEL  2 - BLACKTOP, BITUMINOUS, ASPHALT       NaN   \n",
       "\n",
       "          roadclassdesc                    unittype typeofperson   weather  \\\n",
       "0                   NaN                         NaN          NaN       NaN   \n",
       "1  Major Arterial Roads    99 - UNKNOWN OR HIT/SKIP   D - DRIVER  4 - RAIN   \n",
       "2  Major Arterial Roads  03 - SPORT UTILITY VEHICLE   D - DRIVER  4 - RAIN   \n",
       "3  Major Arterial Roads          01 - PASSENGER CAR   D - DRIVER  4 - RAIN   \n",
       "4                   NaN          01 - PASSENGER CAR   D - DRIVER  4 - RAIN   \n",
       "\n",
       "   age      gender crashlocation  \n",
       "0  NaN         NaN           NaN  \n",
       "1  NaN         NaN           NaN  \n",
       "2   20  F - FEMALE           NaN  \n",
       "3   18    M - MALE           NaN  \n",
       "4   42    M - MALE           NaN  \n",
       "\n",
       "[5 rows x 28 columns]"
      ]
     },
     "execution_count": 107,
     "metadata": {},
     "output_type": "execute_result"
    }
   ],
   "source": [
    "crash_raw.head()  # What does the table look like?"
   ]
  },
  {
   "cell_type": "code",
   "execution_count": 108,
   "metadata": {},
   "outputs": [
    {
     "data": {
      "text/plain": [
       "address_x                         object\n",
       "latitude_x                        object\n",
       "longitude_x                       object\n",
       "community_council_neighborhood    object\n",
       "cpd_neighborhood                  object\n",
       "sna_neighborhood                  object\n",
       "crashdate                         object\n",
       "crashseverity                     object\n",
       "crashseverityid                   object\n",
       "datecrashreported                 object\n",
       "dayofweek                         object\n",
       "instanceid                        object\n",
       "localreportno                     object\n",
       "zip                               object\n",
       "injuries                          object\n",
       "lightconditionsprimary            object\n",
       "mannerofcrash                     object\n",
       "roadconditionsprimary             object\n",
       "roadcontour                       object\n",
       "roadsurface                       object\n",
       "roadclass                         object\n",
       "roadclassdesc                     object\n",
       "unittype                          object\n",
       "typeofperson                      object\n",
       "weather                           object\n",
       "age                               object\n",
       "gender                            object\n",
       "crashlocation                     object\n",
       "dtype: object"
      ]
     },
     "execution_count": 108,
     "metadata": {},
     "output_type": "execute_result"
    }
   ],
   "source": [
    "crash_raw.dtypes  # Columns and data types"
   ]
  },
  {
   "attachments": {},
   "cell_type": "markdown",
   "metadata": {},
   "source": [
    "## Reformatting Data"
   ]
  },
  {
   "cell_type": "code",
   "execution_count": 88,
   "metadata": {},
   "outputs": [],
   "source": [
    "crash_data = crash_raw "
   ]
  },
  {
   "cell_type": "code",
   "execution_count": 89,
   "metadata": {},
   "outputs": [
    {
     "name": "stderr",
     "output_type": "stream",
     "text": [
      "C:\\Users\\Ern\\AppData\\Local\\Temp\\ipykernel_8432\\1890883014.py:2: FutureWarning: In a future version, `df.iloc[:, i] = newvals` will attempt to set the values inplace instead of always setting a new array. To retain the old behavior, use either `df[df.columns[i]] = newvals` or, if columns are non-unique, `df.isetitem(i, newvals)`\n",
      "  crash_data.loc[:, 'crashdate'] = pd.to_datetime(crash_data.crashdate)\n",
      "C:\\Users\\Ern\\AppData\\Local\\Temp\\ipykernel_8432\\1890883014.py:3: FutureWarning: In a future version, `df.iloc[:, i] = newvals` will attempt to set the values inplace instead of always setting a new array. To retain the old behavior, use either `df[df.columns[i]] = newvals` or, if columns are non-unique, `df.isetitem(i, newvals)`\n",
      "  crash_data.loc[:, 'datecrashreported'] = pd.to_datetime(crash_data.datecrashreported)\n"
     ]
    }
   ],
   "source": [
    "# Converting strings to dates\n",
    "crash_data.loc[:, 'crashdate'] = pd.to_datetime(crash_data.crashdate)\n",
    "crash_data.loc[:, 'datecrashreported'] = pd.to_datetime(crash_data.datecrashreported)"
   ]
  },
  {
   "cell_type": "code",
   "execution_count": 90,
   "metadata": {},
   "outputs": [],
   "source": [
    "# Renaming to snake_case \n",
    "crash_data.rename(columns={'crashdate':'crash_date', \n",
    "                           'crashseverity':'crash_severity', \n",
    "                           'crashseverityid':'crash_severity_id',\n",
    "                           'datecrashreported':'date_crash_reported',\n",
    "                           'dayofweek':'day_of_week',\n",
    "                           'instanceid':'instance_id',\n",
    "                           'localreportno':'local_report_no',\n",
    "                           'lightconditionsprimary':'light_condits_prim',\n",
    "                           'mannerofcrash':'manner_of_crash',\n",
    "                           'roadconditionsprimary':'rd_condits_prim',\n",
    "                           'roadcontour':'rd_contour',\n",
    "                           'roadsurface':'rd_surface',\n",
    "                           'roadclass':'rd_class',\n",
    "                           'roadclassdesc':'rd_class_descr',\n",
    "                           'unittype':'unit_type',\n",
    "                           'typeofperson':'person_type'}, \n",
    "                        inplace=True)"
   ]
  },
  {
   "cell_type": "code",
   "execution_count": 91,
   "metadata": {},
   "outputs": [],
   "source": [
    "# Converting float zip codes to zip codes \n",
    "crash_data.loc[:,'zip'] = crash_data.zip.astype(str)\n",
    "crash_data.loc[:,'zip'] = crash_data.zip.str[:5]"
   ]
  },
  {
   "cell_type": "code",
   "execution_count": 92,
   "metadata": {},
   "outputs": [
    {
     "data": {
      "text/plain": [
       "address_x                                 object\n",
       "latitude_x                               float64\n",
       "longitude_x                              float64\n",
       "community_council_neighborhood            object\n",
       "cpd_neighborhood                          object\n",
       "sna_neighborhood                          object\n",
       "crash_date                        datetime64[ns]\n",
       "crash_severity                            object\n",
       "crash_severity_id                        float64\n",
       "date_crash_reported               datetime64[ns]\n",
       "day_of_week                               object\n",
       "instance_id                               object\n",
       "local_report_no                            int64\n",
       "zip                                       object\n",
       "injuries                                  object\n",
       "light_condits_prim                        object\n",
       "manner_of_crash                           object\n",
       "rd_condits_prim                           object\n",
       "rd_contour                                object\n",
       "rd_surface                                object\n",
       "rd_class                                 float64\n",
       "rd_class_descr                            object\n",
       "unit_type                                 object\n",
       "person_type                               object\n",
       "weather                                   object\n",
       "age                                      float64\n",
       "gender                                    object\n",
       "crashlocation                             object\n",
       "dtype: object"
      ]
     },
     "execution_count": 92,
     "metadata": {},
     "output_type": "execute_result"
    }
   ],
   "source": [
    "crash_data.dtypes   # Check that conversions worked"
   ]
  },
  {
   "cell_type": "code",
   "execution_count": 93,
   "metadata": {},
   "outputs": [
    {
     "data": {
      "text/html": [
       "<div>\n",
       "<style scoped>\n",
       "    .dataframe tbody tr th:only-of-type {\n",
       "        vertical-align: middle;\n",
       "    }\n",
       "\n",
       "    .dataframe tbody tr th {\n",
       "        vertical-align: top;\n",
       "    }\n",
       "\n",
       "    .dataframe thead th {\n",
       "        text-align: right;\n",
       "    }\n",
       "</style>\n",
       "<table border=\"1\" class=\"dataframe\">\n",
       "  <thead>\n",
       "    <tr style=\"text-align: right;\">\n",
       "      <th></th>\n",
       "      <th>latitude_x</th>\n",
       "      <th>longitude_x</th>\n",
       "      <th>crash_severity_id</th>\n",
       "      <th>local_report_no</th>\n",
       "      <th>rd_class</th>\n",
       "      <th>age</th>\n",
       "    </tr>\n",
       "  </thead>\n",
       "  <tbody>\n",
       "    <tr>\n",
       "      <th>count</th>\n",
       "      <td>3.246970e+05</td>\n",
       "      <td>3.246950e+05</td>\n",
       "      <td>324713.000000</td>\n",
       "      <td>3.247230e+05</td>\n",
       "      <td>200951.000000</td>\n",
       "      <td>284662.000000</td>\n",
       "    </tr>\n",
       "    <tr>\n",
       "      <th>mean</th>\n",
       "      <td>2.663970e+03</td>\n",
       "      <td>-1.213147e+04</td>\n",
       "      <td>81324.190106</td>\n",
       "      <td>1.840774e+08</td>\n",
       "      <td>2.824748</td>\n",
       "      <td>37.470249</td>\n",
       "    </tr>\n",
       "    <tr>\n",
       "      <th>std</th>\n",
       "      <td>1.478429e+06</td>\n",
       "      <td>6.859273e+06</td>\n",
       "      <td>99024.233885</td>\n",
       "      <td>7.724166e+08</td>\n",
       "      <td>1.484080</td>\n",
       "      <td>16.495234</td>\n",
       "    </tr>\n",
       "    <tr>\n",
       "      <th>min</th>\n",
       "      <td>-8.449010e+01</td>\n",
       "      <td>-3.908552e+09</td>\n",
       "      <td>1.000000</td>\n",
       "      <td>1.400000e+01</td>\n",
       "      <td>0.000000</td>\n",
       "      <td>0.000000</td>\n",
       "    </tr>\n",
       "    <tr>\n",
       "      <th>25%</th>\n",
       "      <td>3.911737e+01</td>\n",
       "      <td>-8.454949e+01</td>\n",
       "      <td>3.000000</td>\n",
       "      <td>1.550166e+08</td>\n",
       "      <td>2.000000</td>\n",
       "      <td>24.000000</td>\n",
       "    </tr>\n",
       "    <tr>\n",
       "      <th>50%</th>\n",
       "      <td>3.913662e+01</td>\n",
       "      <td>-8.451499e+01</td>\n",
       "      <td>3.000000</td>\n",
       "      <td>1.850018e+08</td>\n",
       "      <td>2.000000</td>\n",
       "      <td>34.000000</td>\n",
       "    </tr>\n",
       "    <tr>\n",
       "      <th>75%</th>\n",
       "      <td>3.916096e+01</td>\n",
       "      <td>-8.448473e+01</td>\n",
       "      <td>201905.000000</td>\n",
       "      <td>2.050078e+08</td>\n",
       "      <td>4.000000</td>\n",
       "      <td>49.000000</td>\n",
       "    </tr>\n",
       "    <tr>\n",
       "      <th>max</th>\n",
       "      <td>8.424329e+08</td>\n",
       "      <td>9.800000e-04</td>\n",
       "      <td>201905.000000</td>\n",
       "      <td>2.201140e+11</td>\n",
       "      <td>10.000000</td>\n",
       "      <td>123.000000</td>\n",
       "    </tr>\n",
       "  </tbody>\n",
       "</table>\n",
       "</div>"
      ],
      "text/plain": [
       "         latitude_x   longitude_x  crash_severity_id  local_report_no  \\\n",
       "count  3.246970e+05  3.246950e+05      324713.000000     3.247230e+05   \n",
       "mean   2.663970e+03 -1.213147e+04       81324.190106     1.840774e+08   \n",
       "std    1.478429e+06  6.859273e+06       99024.233885     7.724166e+08   \n",
       "min   -8.449010e+01 -3.908552e+09           1.000000     1.400000e+01   \n",
       "25%    3.911737e+01 -8.454949e+01           3.000000     1.550166e+08   \n",
       "50%    3.913662e+01 -8.451499e+01           3.000000     1.850018e+08   \n",
       "75%    3.916096e+01 -8.448473e+01      201905.000000     2.050078e+08   \n",
       "max    8.424329e+08  9.800000e-04      201905.000000     2.201140e+11   \n",
       "\n",
       "            rd_class            age  \n",
       "count  200951.000000  284662.000000  \n",
       "mean        2.824748      37.470249  \n",
       "std         1.484080      16.495234  \n",
       "min         0.000000       0.000000  \n",
       "25%         2.000000      24.000000  \n",
       "50%         2.000000      34.000000  \n",
       "75%         4.000000      49.000000  \n",
       "max        10.000000     123.000000  "
      ]
     },
     "execution_count": 93,
     "metadata": {},
     "output_type": "execute_result"
    }
   ],
   "source": [
    "crash_raw.describe()"
   ]
  },
  {
   "cell_type": "code",
   "execution_count": 94,
   "metadata": {},
   "outputs": [
    {
     "data": {
      "text/plain": [
       "0                36XX READING RD\n",
       "1                47XX READING RD\n",
       "2                47XX READING RD\n",
       "3                 4XX W  KING DR\n",
       "4               15XX HARRISON AV\n",
       "                   ...          \n",
       "324718    30XX WESTWOOD NORTHERN\n",
       "324719    30XX WESTWOOD NORTHERN\n",
       "324720              1XX E 9TH ST\n",
       "324721              1XX E 9TH ST\n",
       "324722            8XX NORTH BEND\n",
       "Name: address_x, Length: 324723, dtype: object"
      ]
     },
     "execution_count": 94,
     "metadata": {},
     "output_type": "execute_result"
    }
   ],
   "source": [
    "crash_data.address_x    # Will want to separate block # from street."
   ]
  },
  {
   "cell_type": "code",
   "execution_count": 95,
   "metadata": {},
   "outputs": [
    {
     "data": {
      "text/html": [
       "<div>\n",
       "<style scoped>\n",
       "    .dataframe tbody tr th:only-of-type {\n",
       "        vertical-align: middle;\n",
       "    }\n",
       "\n",
       "    .dataframe tbody tr th {\n",
       "        vertical-align: top;\n",
       "    }\n",
       "\n",
       "    .dataframe thead th {\n",
       "        text-align: right;\n",
       "    }\n",
       "</style>\n",
       "<table border=\"1\" class=\"dataframe\">\n",
       "  <thead>\n",
       "    <tr style=\"text-align: right;\">\n",
       "      <th></th>\n",
       "      <th>address_x</th>\n",
       "      <th>latitude_x</th>\n",
       "      <th>longitude_x</th>\n",
       "      <th>community_council_neighborhood</th>\n",
       "      <th>cpd_neighborhood</th>\n",
       "      <th>sna_neighborhood</th>\n",
       "      <th>crash_date</th>\n",
       "      <th>crash_severity</th>\n",
       "      <th>crash_severity_id</th>\n",
       "      <th>date_crash_reported</th>\n",
       "      <th>...</th>\n",
       "      <th>rd_contour</th>\n",
       "      <th>rd_surface</th>\n",
       "      <th>rd_class</th>\n",
       "      <th>rd_class_descr</th>\n",
       "      <th>unit_type</th>\n",
       "      <th>person_type</th>\n",
       "      <th>weather</th>\n",
       "      <th>age</th>\n",
       "      <th>gender</th>\n",
       "      <th>crashlocation</th>\n",
       "    </tr>\n",
       "  </thead>\n",
       "  <tbody>\n",
       "    <tr>\n",
       "      <th>0</th>\n",
       "      <td>36XX READING RD</td>\n",
       "      <td>39.148761</td>\n",
       "      <td>-84.512611</td>\n",
       "      <td>CLIFTON</td>\n",
       "      <td>CLIFTON</td>\n",
       "      <td>CLIFTON</td>\n",
       "      <td>2023-02-08 23:04:17</td>\n",
       "      <td>5 - PROPERTY DAMAGE ONLY</td>\n",
       "      <td>201905.0</td>\n",
       "      <td>2023-02-08 23:02:41</td>\n",
       "      <td>...</td>\n",
       "      <td>NaN</td>\n",
       "      <td>NaN</td>\n",
       "      <td>NaN</td>\n",
       "      <td>NaN</td>\n",
       "      <td>NaN</td>\n",
       "      <td>NaN</td>\n",
       "      <td>NaN</td>\n",
       "      <td>NaN</td>\n",
       "      <td>NaN</td>\n",
       "      <td>NaN</td>\n",
       "    </tr>\n",
       "    <tr>\n",
       "      <th>1</th>\n",
       "      <td>47XX READING RD</td>\n",
       "      <td>39.171042</td>\n",
       "      <td>-84.469211</td>\n",
       "      <td>BOND HILL</td>\n",
       "      <td>BONDHILL</td>\n",
       "      <td>BOND HILL</td>\n",
       "      <td>2023-02-08 22:30:00</td>\n",
       "      <td>4 - INJURY POSSIBLE</td>\n",
       "      <td>201904.0</td>\n",
       "      <td>2023-02-08 22:30:00</td>\n",
       "      <td>...</td>\n",
       "      <td>1 - STRAIGHT LEVEL</td>\n",
       "      <td>2 - BLACKTOP, BITUMINOUS, ASPHALT</td>\n",
       "      <td>2.0</td>\n",
       "      <td>Major Arterial Roads</td>\n",
       "      <td>99 - UNKNOWN OR HIT/SKIP</td>\n",
       "      <td>D - DRIVER</td>\n",
       "      <td>4 - RAIN</td>\n",
       "      <td>NaN</td>\n",
       "      <td>NaN</td>\n",
       "      <td>NaN</td>\n",
       "    </tr>\n",
       "    <tr>\n",
       "      <th>2</th>\n",
       "      <td>47XX READING RD</td>\n",
       "      <td>39.170372</td>\n",
       "      <td>-84.468331</td>\n",
       "      <td>BOND HILL</td>\n",
       "      <td>BONDHILL</td>\n",
       "      <td>BOND HILL</td>\n",
       "      <td>2023-02-08 22:30:00</td>\n",
       "      <td>4 - INJURY POSSIBLE</td>\n",
       "      <td>201904.0</td>\n",
       "      <td>2023-02-08 22:30:00</td>\n",
       "      <td>...</td>\n",
       "      <td>1 - STRAIGHT LEVEL</td>\n",
       "      <td>2 - BLACKTOP, BITUMINOUS, ASPHALT</td>\n",
       "      <td>2.0</td>\n",
       "      <td>Major Arterial Roads</td>\n",
       "      <td>03 - SPORT UTILITY VEHICLE</td>\n",
       "      <td>D - DRIVER</td>\n",
       "      <td>4 - RAIN</td>\n",
       "      <td>20.0</td>\n",
       "      <td>F - FEMALE</td>\n",
       "      <td>NaN</td>\n",
       "    </tr>\n",
       "    <tr>\n",
       "      <th>3</th>\n",
       "      <td>4XX W  KING DR</td>\n",
       "      <td>39.135472</td>\n",
       "      <td>-84.501351</td>\n",
       "      <td>CORRYVILLE</td>\n",
       "      <td>CORRYVILLE</td>\n",
       "      <td>CORRYVILLE</td>\n",
       "      <td>2023-02-08 22:10:00</td>\n",
       "      <td>5 - PROPERTY DAMAGE ONLY</td>\n",
       "      <td>201905.0</td>\n",
       "      <td>2023-02-08 22:12:00</td>\n",
       "      <td>...</td>\n",
       "      <td>3 - CURVE LEVEL</td>\n",
       "      <td>2 - BLACKTOP, BITUMINOUS, ASPHALT</td>\n",
       "      <td>2.0</td>\n",
       "      <td>Major Arterial Roads</td>\n",
       "      <td>01 - PASSENGER CAR</td>\n",
       "      <td>D - DRIVER</td>\n",
       "      <td>4 - RAIN</td>\n",
       "      <td>18.0</td>\n",
       "      <td>M - MALE</td>\n",
       "      <td>NaN</td>\n",
       "    </tr>\n",
       "    <tr>\n",
       "      <th>4</th>\n",
       "      <td>15XX HARRISON AV</td>\n",
       "      <td>39.125139</td>\n",
       "      <td>-84.549324</td>\n",
       "      <td>SOUTH FAIRMOUNT</td>\n",
       "      <td>SOUTH  FAIRMOUNT</td>\n",
       "      <td>SOUTH FAIRMOUNT</td>\n",
       "      <td>2023-02-08 21:30:00</td>\n",
       "      <td>5 - PROPERTY DAMAGE ONLY</td>\n",
       "      <td>201905.0</td>\n",
       "      <td>2023-02-08 21:40:00</td>\n",
       "      <td>...</td>\n",
       "      <td>1 - STRAIGHT LEVEL</td>\n",
       "      <td>2 - BLACKTOP, BITUMINOUS, ASPHALT</td>\n",
       "      <td>NaN</td>\n",
       "      <td>NaN</td>\n",
       "      <td>01 - PASSENGER CAR</td>\n",
       "      <td>D - DRIVER</td>\n",
       "      <td>4 - RAIN</td>\n",
       "      <td>42.0</td>\n",
       "      <td>M - MALE</td>\n",
       "      <td>NaN</td>\n",
       "    </tr>\n",
       "  </tbody>\n",
       "</table>\n",
       "<p>5 rows × 28 columns</p>\n",
       "</div>"
      ],
      "text/plain": [
       "          address_x  latitude_x  longitude_x community_council_neighborhood  \\\n",
       "0   36XX READING RD   39.148761   -84.512611                        CLIFTON   \n",
       "1   47XX READING RD   39.171042   -84.469211                      BOND HILL   \n",
       "2   47XX READING RD   39.170372   -84.468331                      BOND HILL   \n",
       "3    4XX W  KING DR   39.135472   -84.501351                     CORRYVILLE   \n",
       "4  15XX HARRISON AV   39.125139   -84.549324                SOUTH FAIRMOUNT   \n",
       "\n",
       "   cpd_neighborhood sna_neighborhood          crash_date  \\\n",
       "0           CLIFTON          CLIFTON 2023-02-08 23:04:17   \n",
       "1          BONDHILL        BOND HILL 2023-02-08 22:30:00   \n",
       "2          BONDHILL        BOND HILL 2023-02-08 22:30:00   \n",
       "3        CORRYVILLE       CORRYVILLE 2023-02-08 22:10:00   \n",
       "4  SOUTH  FAIRMOUNT  SOUTH FAIRMOUNT 2023-02-08 21:30:00   \n",
       "\n",
       "             crash_severity  crash_severity_id date_crash_reported  ...  \\\n",
       "0  5 - PROPERTY DAMAGE ONLY           201905.0 2023-02-08 23:02:41  ...   \n",
       "1       4 - INJURY POSSIBLE           201904.0 2023-02-08 22:30:00  ...   \n",
       "2       4 - INJURY POSSIBLE           201904.0 2023-02-08 22:30:00  ...   \n",
       "3  5 - PROPERTY DAMAGE ONLY           201905.0 2023-02-08 22:12:00  ...   \n",
       "4  5 - PROPERTY DAMAGE ONLY           201905.0 2023-02-08 21:40:00  ...   \n",
       "\n",
       "           rd_contour                         rd_surface  rd_class  \\\n",
       "0                 NaN                                NaN       NaN   \n",
       "1  1 - STRAIGHT LEVEL  2 - BLACKTOP, BITUMINOUS, ASPHALT       2.0   \n",
       "2  1 - STRAIGHT LEVEL  2 - BLACKTOP, BITUMINOUS, ASPHALT       2.0   \n",
       "3     3 - CURVE LEVEL  2 - BLACKTOP, BITUMINOUS, ASPHALT       2.0   \n",
       "4  1 - STRAIGHT LEVEL  2 - BLACKTOP, BITUMINOUS, ASPHALT       NaN   \n",
       "\n",
       "         rd_class_descr                   unit_type person_type   weather  \\\n",
       "0                   NaN                         NaN         NaN       NaN   \n",
       "1  Major Arterial Roads    99 - UNKNOWN OR HIT/SKIP  D - DRIVER  4 - RAIN   \n",
       "2  Major Arterial Roads  03 - SPORT UTILITY VEHICLE  D - DRIVER  4 - RAIN   \n",
       "3  Major Arterial Roads          01 - PASSENGER CAR  D - DRIVER  4 - RAIN   \n",
       "4                   NaN          01 - PASSENGER CAR  D - DRIVER  4 - RAIN   \n",
       "\n",
       "    age      gender crashlocation  \n",
       "0   NaN         NaN           NaN  \n",
       "1   NaN         NaN           NaN  \n",
       "2  20.0  F - FEMALE           NaN  \n",
       "3  18.0    M - MALE           NaN  \n",
       "4  42.0    M - MALE           NaN  \n",
       "\n",
       "[5 rows x 28 columns]"
      ]
     },
     "execution_count": 95,
     "metadata": {},
     "output_type": "execute_result"
    }
   ],
   "source": [
    "crash_data.head()"
   ]
  },
  {
   "cell_type": "code",
   "execution_count": 96,
   "metadata": {},
   "outputs": [
    {
     "data": {
      "text/plain": [
       "array([nan, '1 - STRAIGHT LEVEL', '3 - CURVE LEVEL', '4 - CURVE GRADE',\n",
       "       '2 - STRAIGHT GRADE', '9 - UNKNOWN'], dtype=object)"
      ]
     },
     "execution_count": 96,
     "metadata": {},
     "output_type": "execute_result"
    }
   ],
   "source": [
    "crash_data.rd_contour.unique()"
   ]
  },
  {
   "cell_type": "code",
   "execution_count": 97,
   "metadata": {},
   "outputs": [],
   "source": [
    "# Separate scores from descriptions\n",
    "crash_data[['crash_severity','crash_severity_descr']] = crash_data.crash_severity.str.split(pat = ' - ', expand=True)\n",
    "crash_data[['rd_contour','rd_contour_descr']] = crash_data.rd_contour.str.split(pat = ' - ', expand=True)\n",
    "crash_data.rd_contour = crash_data.rd_contour.astype('Int64')"
   ]
  },
  {
   "cell_type": "code",
   "execution_count": 98,
   "metadata": {},
   "outputs": [
    {
     "data": {
      "text/plain": [
       "address_x                                 object\n",
       "latitude_x                               float64\n",
       "longitude_x                              float64\n",
       "community_council_neighborhood            object\n",
       "cpd_neighborhood                          object\n",
       "sna_neighborhood                          object\n",
       "crash_date                        datetime64[ns]\n",
       "crash_severity                            object\n",
       "crash_severity_id                        float64\n",
       "date_crash_reported               datetime64[ns]\n",
       "day_of_week                               object\n",
       "instance_id                               object\n",
       "local_report_no                            int64\n",
       "zip                                       object\n",
       "injuries                                  object\n",
       "light_condits_prim                        object\n",
       "manner_of_crash                           object\n",
       "rd_condits_prim                           object\n",
       "rd_contour                                 Int64\n",
       "rd_surface                                object\n",
       "rd_class                                 float64\n",
       "rd_class_descr                            object\n",
       "unit_type                                 object\n",
       "person_type                               object\n",
       "weather                                   object\n",
       "age                                      float64\n",
       "gender                                    object\n",
       "crashlocation                             object\n",
       "crash_severity_descr                      object\n",
       "rd_contour_descr                          object\n",
       "dtype: object"
      ]
     },
     "execution_count": 98,
     "metadata": {},
     "output_type": "execute_result"
    }
   ],
   "source": [
    "crash_data.dtypes"
   ]
  },
  {
   "cell_type": "code",
   "execution_count": 99,
   "metadata": {},
   "outputs": [
    {
     "data": {
      "text/plain": [
       "(324723, 30)"
      ]
     },
     "execution_count": 99,
     "metadata": {},
     "output_type": "execute_result"
    }
   ],
   "source": [
    "crash_data.shape"
   ]
  },
  {
   "cell_type": "code",
   "execution_count": 100,
   "metadata": {},
   "outputs": [
    {
     "data": {
      "text/plain": [
       "167783"
      ]
     },
     "execution_count": 100,
     "metadata": {},
     "output_type": "execute_result"
    }
   ],
   "source": [
    "len(crash_data.instance_id.unique())"
   ]
  },
  {
   "attachments": {},
   "cell_type": "markdown",
   "metadata": {},
   "source": [
    "Since the size of the table is larger than the number of unique IDs, we know that one accident may be captured in several rows."
   ]
  }
 ],
 "metadata": {
  "kernelspec": {
   "display_name": "Python 3",
   "language": "python",
   "name": "python3"
  },
  "language_info": {
   "codemirror_mode": {
    "name": "ipython",
    "version": 3
   },
   "file_extension": ".py",
   "mimetype": "text/x-python",
   "name": "python",
   "nbconvert_exporter": "python",
   "pygments_lexer": "ipython3",
   "version": "3.11.0"
  },
  "orig_nbformat": 4,
  "vscode": {
   "interpreter": {
    "hash": "c3e96ec3f1cdb663977cb46f8728562ce9615f76831617ef0e10c94e3ade3df4"
   }
  }
 },
 "nbformat": 4,
 "nbformat_minor": 2
}
