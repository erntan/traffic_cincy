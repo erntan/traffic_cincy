{
 "cells": [
  {
   "cell_type": "code",
   "execution_count": 29,
   "metadata": {},
   "outputs": [],
   "source": [
    "import pandas as pd \n",
    "# from sodapy import Socrata  # API for data"
   ]
  },
  {
   "cell_type": "code",
   "execution_count": 30,
   "metadata": {},
   "outputs": [],
   "source": [
    "# Use the API to get raw data \n",
    "# client = Socrata(\"data.cincinnati-oh.gov\", None)\n",
    "# crash_raw = pd.DataFrame.from_records(\n",
    "#                 client.get('rvmt-pkmq', limit=1000000)\n",
    "#             )\n",
    "\n",
    "# Using the API is faster than using pd.read_json"
   ]
  },
  {
   "cell_type": "code",
   "execution_count": 31,
   "metadata": {},
   "outputs": [
    {
     "name": "stderr",
     "output_type": "stream",
     "text": [
      "C:\\Users\\Ern\\AppData\\Local\\Temp\\ipykernel_17800\\1786469094.py:2: DtypeWarning: Columns (8,27) have mixed types. Specify dtype option on import or set low_memory=False.\n",
      "  raw = pd.read_csv(\"Traffic_Crash_Reports__CPD_.csv\")\n"
     ]
    }
   ],
   "source": [
    "# Get the raw data \n",
    "raw = pd.read_csv(\"Traffic_Crash_Reports__CPD_.csv\")"
   ]
  },
  {
   "attachments": {},
   "cell_type": "markdown",
   "metadata": {},
   "source": [
    "#  Overview of the Raw Data"
   ]
  },
  {
   "cell_type": "code",
   "execution_count": 32,
   "metadata": {},
   "outputs": [
    {
     "data": {
      "text/plain": [
       "(328558, 28)"
      ]
     },
     "execution_count": 32,
     "metadata": {},
     "output_type": "execute_result"
    }
   ],
   "source": [
    "raw.shape"
   ]
  },
  {
   "cell_type": "code",
   "execution_count": 33,
   "metadata": {},
   "outputs": [
    {
     "data": {
      "text/plain": [
       "Index(['ADDRESS_X', 'LATITUDE_X', 'LONGITUDE_X', 'AGE',\n",
       "       'COMMUNITY_COUNCIL_NEIGHBORHOOD', 'CPD_NEIGHBORHOOD',\n",
       "       'SNA_NEIGHBORHOOD', 'CRASHDATE', 'CRASHLOCATION', 'CRASHSEVERITY',\n",
       "       'CRASHSEVERITYID', 'DATECRASHREPORTED', 'DAYOFWEEK', 'GENDER',\n",
       "       'INJURIES', 'INSTANCEID', 'LIGHTCONDITIONSPRIMARY', 'LOCALREPORTNO',\n",
       "       'MANNEROFCRASH', 'ROADCONDITIONSPRIMARY', 'ROADCONTOUR', 'ROADSURFACE',\n",
       "       'ROADCLASS', 'ROADCLASSDESC', 'UNITTYPE', 'TYPEOFPERSON', 'WEATHER',\n",
       "       'ZIP'],\n",
       "      dtype='object')"
      ]
     },
     "execution_count": 33,
     "metadata": {},
     "output_type": "execute_result"
    }
   ],
   "source": [
    "raw.columns"
   ]
  },
  {
   "cell_type": "code",
   "execution_count": 34,
   "metadata": {},
   "outputs": [
    {
     "data": {
      "text/html": [
       "<div>\n",
       "<style scoped>\n",
       "    .dataframe tbody tr th:only-of-type {\n",
       "        vertical-align: middle;\n",
       "    }\n",
       "\n",
       "    .dataframe tbody tr th {\n",
       "        vertical-align: top;\n",
       "    }\n",
       "\n",
       "    .dataframe thead th {\n",
       "        text-align: right;\n",
       "    }\n",
       "</style>\n",
       "<table border=\"1\" class=\"dataframe\">\n",
       "  <thead>\n",
       "    <tr style=\"text-align: right;\">\n",
       "      <th></th>\n",
       "      <th>ADDRESS_X</th>\n",
       "      <th>LATITUDE_X</th>\n",
       "      <th>LONGITUDE_X</th>\n",
       "      <th>AGE</th>\n",
       "      <th>COMMUNITY_COUNCIL_NEIGHBORHOOD</th>\n",
       "      <th>CPD_NEIGHBORHOOD</th>\n",
       "      <th>SNA_NEIGHBORHOOD</th>\n",
       "      <th>CRASHDATE</th>\n",
       "      <th>CRASHLOCATION</th>\n",
       "      <th>CRASHSEVERITY</th>\n",
       "    </tr>\n",
       "  </thead>\n",
       "  <tbody>\n",
       "    <tr>\n",
       "      <th>0</th>\n",
       "      <td>S I75 AT 2-7 MM</td>\n",
       "      <td>39.125153</td>\n",
       "      <td>-84.537191</td>\n",
       "      <td>NaN</td>\n",
       "      <td>WEST END</td>\n",
       "      <td>QUEENSGATE</td>\n",
       "      <td>QUEENSGATE</td>\n",
       "      <td>03/30/2023 12:57:00 AM</td>\n",
       "      <td>NaN</td>\n",
       "      <td>5 - PROPERTY DAMAGE ONLY</td>\n",
       "    </tr>\n",
       "    <tr>\n",
       "      <th>1</th>\n",
       "      <td>2XX E LIBERTY ST</td>\n",
       "      <td>39.113294</td>\n",
       "      <td>-84.513194</td>\n",
       "      <td>32.0</td>\n",
       "      <td>MOUNT AUBURN</td>\n",
       "      <td>MOUNT  AUBURN</td>\n",
       "      <td>OVER-THE-RHINE</td>\n",
       "      <td>03/29/2023 11:45:00 PM</td>\n",
       "      <td>NaN</td>\n",
       "      <td>5 - PROPERTY DAMAGE ONLY</td>\n",
       "    </tr>\n",
       "    <tr>\n",
       "      <th>2</th>\n",
       "      <td>2XX E LIBERTY ST</td>\n",
       "      <td>39.112334</td>\n",
       "      <td>-84.513164</td>\n",
       "      <td>24.0</td>\n",
       "      <td>MOUNT AUBURN</td>\n",
       "      <td>MOUNT  AUBURN</td>\n",
       "      <td>OVER-THE-RHINE</td>\n",
       "      <td>03/29/2023 11:45:00 PM</td>\n",
       "      <td>NaN</td>\n",
       "      <td>5 - PROPERTY DAMAGE ONLY</td>\n",
       "    </tr>\n",
       "    <tr>\n",
       "      <th>3</th>\n",
       "      <td>6XX CENTRAL AV</td>\n",
       "      <td>39.101560</td>\n",
       "      <td>-84.519050</td>\n",
       "      <td>45.0</td>\n",
       "      <td>WEST END</td>\n",
       "      <td>QUEENSGATE</td>\n",
       "      <td>WEST END</td>\n",
       "      <td>03/29/2023 10:29:00 PM</td>\n",
       "      <td>NaN</td>\n",
       "      <td>5 - PROPERTY DAMAGE ONLY</td>\n",
       "    </tr>\n",
       "    <tr>\n",
       "      <th>4</th>\n",
       "      <td>6XX CENTRAL AV</td>\n",
       "      <td>39.102170</td>\n",
       "      <td>-84.519620</td>\n",
       "      <td>38.0</td>\n",
       "      <td>WEST END</td>\n",
       "      <td>QUEENSGATE</td>\n",
       "      <td>WEST END</td>\n",
       "      <td>03/29/2023 10:29:00 PM</td>\n",
       "      <td>NaN</td>\n",
       "      <td>5 - PROPERTY DAMAGE ONLY</td>\n",
       "    </tr>\n",
       "  </tbody>\n",
       "</table>\n",
       "</div>"
      ],
      "text/plain": [
       "          ADDRESS_X  LATITUDE_X  LONGITUDE_X   AGE  \\\n",
       "0   S I75 AT 2-7 MM   39.125153   -84.537191   NaN   \n",
       "1  2XX E LIBERTY ST   39.113294   -84.513194  32.0   \n",
       "2  2XX E LIBERTY ST   39.112334   -84.513164  24.0   \n",
       "3    6XX CENTRAL AV   39.101560   -84.519050  45.0   \n",
       "4    6XX CENTRAL AV   39.102170   -84.519620  38.0   \n",
       "\n",
       "  COMMUNITY_COUNCIL_NEIGHBORHOOD CPD_NEIGHBORHOOD SNA_NEIGHBORHOOD  \\\n",
       "0                       WEST END       QUEENSGATE       QUEENSGATE   \n",
       "1                   MOUNT AUBURN    MOUNT  AUBURN   OVER-THE-RHINE   \n",
       "2                   MOUNT AUBURN    MOUNT  AUBURN   OVER-THE-RHINE   \n",
       "3                       WEST END       QUEENSGATE         WEST END   \n",
       "4                       WEST END       QUEENSGATE         WEST END   \n",
       "\n",
       "                CRASHDATE CRASHLOCATION             CRASHSEVERITY  \n",
       "0  03/30/2023 12:57:00 AM           NaN  5 - PROPERTY DAMAGE ONLY  \n",
       "1  03/29/2023 11:45:00 PM           NaN  5 - PROPERTY DAMAGE ONLY  \n",
       "2  03/29/2023 11:45:00 PM           NaN  5 - PROPERTY DAMAGE ONLY  \n",
       "3  03/29/2023 10:29:00 PM           NaN  5 - PROPERTY DAMAGE ONLY  \n",
       "4  03/29/2023 10:29:00 PM           NaN  5 - PROPERTY DAMAGE ONLY  "
      ]
     },
     "execution_count": 34,
     "metadata": {},
     "output_type": "execute_result"
    }
   ],
   "source": [
    "raw.iloc[:,0:10].head()  # What does the table look like?"
   ]
  },
  {
   "attachments": {},
   "cell_type": "markdown",
   "metadata": {},
   "source": [
    "We note that there are several columns that can be split up into the \"quantitative measure\" and description. These columns are: \n",
    "- `CRASHSEVERITY`\n",
    "- `GENDER`\n",
    "- `INJURIES`\n",
    "- `LIGHTCONDITIONSPRIMARY`\n",
    "- `MANNEROFCRASH`\n",
    "- `ROADCONDITIONSPRIMARY`\n",
    "- `ROADSURFACE`\n",
    "- `UNITTYPE`\n",
    "- `TYPEOFPERSON`\n",
    "- `WEATHER`"
   ]
  },
  {
   "cell_type": "code",
   "execution_count": 35,
   "metadata": {},
   "outputs": [
    {
     "data": {
      "text/plain": [
       "array([nan, '5 - NO APPARENTY INJURY', '3 - SUSPECTED MINOR INJURY',\n",
       "       '4 - POSSIBLE INJURY', '2 - SUSPECTED SERIOUS INJURY', '1 - FATAL',\n",
       "       '1 - NO INJURY / NONE REPORTED', '2 - POSSIBLE',\n",
       "       '3 - NON-INCAPACITATING', '4 - INCAPACITATING', '5 - FATAL'],\n",
       "      dtype=object)"
      ]
     },
     "execution_count": 35,
     "metadata": {},
     "output_type": "execute_result"
    }
   ],
   "source": [
    "data.INJURIES.unique()"
   ]
  },
  {
   "cell_type": "code",
   "execution_count": 36,
   "metadata": {},
   "outputs": [
    {
     "data": {
      "text/plain": [
       "ADDRESS_X                          object\n",
       "LATITUDE_X                        float64\n",
       "LONGITUDE_X                       float64\n",
       "AGE                               float64\n",
       "COMMUNITY_COUNCIL_NEIGHBORHOOD     object\n",
       "CPD_NEIGHBORHOOD                   object\n",
       "SNA_NEIGHBORHOOD                   object\n",
       "CRASHDATE                          object\n",
       "CRASHLOCATION                      object\n",
       "CRASHSEVERITY                      object\n",
       "CRASHSEVERITYID                   float64\n",
       "DATECRASHREPORTED                  object\n",
       "DAYOFWEEK                          object\n",
       "GENDER                             object\n",
       "INJURIES                           object\n",
       "INSTANCEID                         object\n",
       "LIGHTCONDITIONSPRIMARY             object\n",
       "LOCALREPORTNO                       int64\n",
       "MANNEROFCRASH                      object\n",
       "ROADCONDITIONSPRIMARY              object\n",
       "ROADCONTOUR                        object\n",
       "ROADSURFACE                        object\n",
       "ROADCLASS                         float64\n",
       "ROADCLASSDESC                      object\n",
       "UNITTYPE                           object\n",
       "TYPEOFPERSON                       object\n",
       "WEATHER                            object\n",
       "ZIP                                object\n",
       "dtype: object"
      ]
     },
     "execution_count": 36,
     "metadata": {},
     "output_type": "execute_result"
    }
   ],
   "source": [
    "raw.dtypes  # Columns and data types"
   ]
  },
  {
   "attachments": {},
   "cell_type": "markdown",
   "metadata": {},
   "source": [
    "In addition, converting the data types of some of the fields would be useful for analysis. These fields are:\n",
    "- `CRASHDATE` `object` to datetime\n",
    "- `LOCALREPORTNO` `int64` to `str`\n",
    "- `DATECRASHREPORED` `object` to datetime\n",
    "- `CRASHSEVERITYID` `float64` to `str`"
   ]
  },
  {
   "attachments": {},
   "cell_type": "markdown",
   "metadata": {},
   "source": [
    "Finally, we notice that `ZIP` is string but has decimal points. We will need to remove those."
   ]
  },
  {
   "attachments": {},
   "cell_type": "markdown",
   "metadata": {},
   "source": [
    "# Reformatting Data"
   ]
  },
  {
   "cell_type": "code",
   "execution_count": 37,
   "metadata": {},
   "outputs": [],
   "source": [
    "data = raw "
   ]
  },
  {
   "attachments": {},
   "cell_type": "markdown",
   "metadata": {},
   "source": [
    "##  Converting data types"
   ]
  },
  {
   "cell_type": "code",
   "execution_count": 38,
   "metadata": {},
   "outputs": [
    {
     "name": "stderr",
     "output_type": "stream",
     "text": [
      "C:\\Users\\Ern\\AppData\\Local\\Temp\\ipykernel_17800\\1858008429.py:2: FutureWarning: In a future version, `df.iloc[:, i] = newvals` will attempt to set the values inplace instead of always setting a new array. To retain the old behavior, use either `df[df.columns[i]] = newvals` or, if columns are non-unique, `df.isetitem(i, newvals)`\n",
      "  data.loc[:, 'CRASHDATE'] = pd.to_datetime(data.CRASHDATE)\n",
      "C:\\Users\\Ern\\AppData\\Local\\Temp\\ipykernel_17800\\1858008429.py:3: FutureWarning: In a future version, `df.iloc[:, i] = newvals` will attempt to set the values inplace instead of always setting a new array. To retain the old behavior, use either `df[df.columns[i]] = newvals` or, if columns are non-unique, `df.isetitem(i, newvals)`\n",
      "  data.loc[:, 'DATECRASHREPORTED'] = pd.to_datetime(data.DATECRASHREPORTED)\n"
     ]
    }
   ],
   "source": [
    "# Strings to dates\n",
    "data.loc[:, 'CRASHDATE'] = pd.to_datetime(data.CRASHDATE)\n",
    "data.loc[:, 'DATECRASHREPORTED'] = pd.to_datetime(data.DATECRASHREPORTED)\n",
    "\n",
    "# Numbers to strings\n",
    "data.loc[:, 'LOCALREPORTNO'] = data.LOCALREPORTNO.apply(str )\n",
    "data.loc[:, 'CRASHSEVERITYID'] = data.CRASHSEVERITYID.apply(str)"
   ]
  },
  {
   "cell_type": "code",
   "execution_count": 39,
   "metadata": {},
   "outputs": [],
   "source": [
    "# Stripping the trailing zeros from ZIP \n",
    "data.loc[:,'ZIP'] = data.ZIP.astype(str)\n",
    "data.loc[:,'ZIP'] = data.ZIP.str[:5]"
   ]
  },
  {
   "attachments": {},
   "cell_type": "markdown",
   "metadata": {},
   "source": [
    "## Splitting fields"
   ]
  },
  {
   "cell_type": "code",
   "execution_count": 40,
   "metadata": {},
   "outputs": [
    {
     "data": {
      "text/plain": [
       "array(['1 - CLEAR', '2 - CLOUDY', '99 - OTHER/UNKNOWN', '4 - RAIN',\n",
       "       '6 - SNOW', '9 - FREEZING RAIN OR FREEZING DRIZZLE',\n",
       "       '7 - SEVERE CROSSWINDS', '5 - SLEET, HAIL', '3 - FOG, SMOG, SMOKE',\n",
       "       '8 - BLOWING SAND, SOIL, DIRT, SNOW', '9 - OTHER/UNKNOWN',\n",
       "       '5 - SLEET,HAIL', nan], dtype=object)"
      ]
     },
     "execution_count": 40,
     "metadata": {},
     "output_type": "execute_result"
    }
   ],
   "source": [
    "data.WEATHER.unique()"
   ]
  },
  {
   "cell_type": "code",
   "execution_count": 41,
   "metadata": {},
   "outputs": [],
   "source": [
    "# Separate scores from descriptions\n",
    "data[['CRASHSEVERITY','CRASHSEVERITYDESCR']] = data.CRASHSEVERITY.str.split(pat=' - ', expand=True)\n",
    "data.CRASHSEVERITY = data.CRASHSEVERITY.astype('Int64')\n",
    "\n",
    "data[['ROADCONTOUR','ROADCONTOURDESCR']] = data.ROADCONTOUR.str.split(pat=' - ', expand=True)\n",
    "data.ROADCONTOUR = data.ROADCONTOUR.astype('Int64')\n",
    "\n",
    "data[['MANNEROFCRASH', 'MANNEROFCRASHDESCR']] = data.MANNEROFCRASH.str.split(pat=' - ', expand=True)\n",
    "data.MANNEROFCRASH = data.MANNEROFCRASH.astype('Int64')\n",
    "\n",
    "data[['TYPEOFPERSON','TYPEOFPERSONDESCR']] = data.TYPEOFPERSON.str.split(pat=' - ', expand=True)"
   ]
  },
  {
   "attachments": {},
   "cell_type": "markdown",
   "metadata": {},
   "source": [
    "Some fields are more complicated than a simple string split. These fields are:\n",
    "- `GENDER`: Some values have a code and a description, others just a description. \n",
    "- `INJURIES`: There seem to be two different measurement systems, one ascending in severity and one descending in severity.\n",
    "- `LIGHTCONDITIONSPRIMARY`: There are multiple values, which can conflict, per score.\n",
    "- `ROADCONDITIONSPRIMARY`: There are multiple values per score.\n",
    "- `ROADSURFACE`: There are multiple values per score and the same value mapped to differing scores.\n",
    "- `UNITTYPE`: There are multiple values per score.\n",
    "- `WEATHER`: There are multiple values per score.\n",
    "\n",
    "Let us examine these fields in greater detail."
   ]
  },
  {
   "attachments": {},
   "cell_type": "markdown",
   "metadata": {},
   "source": [
    "### Gender"
   ]
  },
  {
   "cell_type": "code",
   "execution_count": 42,
   "metadata": {},
   "outputs": [
    {
     "data": {
      "text/plain": [
       "array([nan, 'F - FEMALE', 'M - MALE', 'U - UNKNOWN', 'FEMALE', 'MALE'],\n",
       "      dtype=object)"
      ]
     },
     "execution_count": 42,
     "metadata": {},
     "output_type": "execute_result"
    }
   ],
   "source": [
    "data.GENDER.unique()"
   ]
  },
  {
   "attachments": {},
   "cell_type": "markdown",
   "metadata": {},
   "source": [
    "The space the description strings take up is negligible, so let us remove the codes from the field to make the values consistent."
   ]
  },
  {
   "cell_type": "code",
   "execution_count": 45,
   "metadata": {},
   "outputs": [
    {
     "data": {
      "text/plain": [
       "array([nan, 'FEMALE', 'MALE', 'UNKNOWN'], dtype=object)"
      ]
     },
     "execution_count": 45,
     "metadata": {},
     "output_type": "execute_result"
    }
   ],
   "source": [
    "data['GENDER'] = data.GENDER.str.replace('F - ', '')\n",
    "data['GENDER'] = data.GENDER.str.replace('M - ', '')\n",
    "data['GENDER'] = data.GENDER.str.replace('U - ', '')\n",
    "data.GENDER.unique()"
   ]
  },
  {
   "attachments": {},
   "cell_type": "markdown",
   "metadata": {},
   "source": [
    "# Other"
   ]
  },
  {
   "cell_type": "code",
   "execution_count": 16,
   "metadata": {},
   "outputs": [
    {
     "data": {
      "text/plain": [
       "ADDRESS_X                          object\n",
       "LATITUDE_X                        float64\n",
       "LONGITUDE_X                       float64\n",
       "AGE                               float64\n",
       "COMMUNITY_COUNCIL_NEIGHBORHOOD     object\n",
       "CPD_NEIGHBORHOOD                   object\n",
       "SNA_NEIGHBORHOOD                   object\n",
       "CRASHDATE                          object\n",
       "CRASHLOCATION                      object\n",
       "CRASHSEVERITY                      object\n",
       "CRASHSEVERITYID                   float64\n",
       "DATECRASHREPORTED                  object\n",
       "DAYOFWEEK                          object\n",
       "GENDER                             object\n",
       "INJURIES                           object\n",
       "INSTANCEID                         object\n",
       "LIGHTCONDITIONSPRIMARY             object\n",
       "LOCALREPORTNO                       int64\n",
       "MANNEROFCRASH                      object\n",
       "ROADCONDITIONSPRIMARY              object\n",
       "ROADCONTOUR                        object\n",
       "ROADSURFACE                        object\n",
       "ROADCLASS                         float64\n",
       "ROADCLASSDESC                      object\n",
       "UNITTYPE                           object\n",
       "TYPEOFPERSON                       object\n",
       "WEATHER                            object\n",
       "ZIP                                object\n",
       "dtype: object"
      ]
     },
     "execution_count": 16,
     "metadata": {},
     "output_type": "execute_result"
    }
   ],
   "source": [
    "data.dtypes"
   ]
  },
  {
   "cell_type": "code",
   "execution_count": 99,
   "metadata": {},
   "outputs": [
    {
     "data": {
      "text/plain": [
       "(324723, 30)"
      ]
     },
     "execution_count": 99,
     "metadata": {},
     "output_type": "execute_result"
    }
   ],
   "source": [
    "data.shape"
   ]
  },
  {
   "cell_type": "code",
   "execution_count": 17,
   "metadata": {},
   "outputs": [
    {
     "ename": "AttributeError",
     "evalue": "'DataFrame' object has no attribute 'instance_id'",
     "output_type": "error",
     "traceback": [
      "\u001b[1;31m---------------------------------------------------------------------------\u001b[0m",
      "\u001b[1;31mAttributeError\u001b[0m                            Traceback (most recent call last)",
      "Cell \u001b[1;32mIn[17], line 1\u001b[0m\n\u001b[1;32m----> 1\u001b[0m \u001b[39mlen\u001b[39m(data\u001b[39m.\u001b[39;49minstance_id\u001b[39m.\u001b[39munique())\n",
      "File \u001b[1;32mc:\\Users\\Ern\\AppData\\Local\\Programs\\Python\\Python311\\Lib\\site-packages\\pandas\\core\\generic.py:5902\u001b[0m, in \u001b[0;36mNDFrame.__getattr__\u001b[1;34m(self, name)\u001b[0m\n\u001b[0;32m   5895\u001b[0m \u001b[39mif\u001b[39;00m (\n\u001b[0;32m   5896\u001b[0m     name \u001b[39mnot\u001b[39;00m \u001b[39min\u001b[39;00m \u001b[39mself\u001b[39m\u001b[39m.\u001b[39m_internal_names_set\n\u001b[0;32m   5897\u001b[0m     \u001b[39mand\u001b[39;00m name \u001b[39mnot\u001b[39;00m \u001b[39min\u001b[39;00m \u001b[39mself\u001b[39m\u001b[39m.\u001b[39m_metadata\n\u001b[0;32m   5898\u001b[0m     \u001b[39mand\u001b[39;00m name \u001b[39mnot\u001b[39;00m \u001b[39min\u001b[39;00m \u001b[39mself\u001b[39m\u001b[39m.\u001b[39m_accessors\n\u001b[0;32m   5899\u001b[0m     \u001b[39mand\u001b[39;00m \u001b[39mself\u001b[39m\u001b[39m.\u001b[39m_info_axis\u001b[39m.\u001b[39m_can_hold_identifiers_and_holds_name(name)\n\u001b[0;32m   5900\u001b[0m ):\n\u001b[0;32m   5901\u001b[0m     \u001b[39mreturn\u001b[39;00m \u001b[39mself\u001b[39m[name]\n\u001b[1;32m-> 5902\u001b[0m \u001b[39mreturn\u001b[39;00m \u001b[39mobject\u001b[39;49m\u001b[39m.\u001b[39;49m\u001b[39m__getattribute__\u001b[39;49m(\u001b[39mself\u001b[39;49m, name)\n",
      "\u001b[1;31mAttributeError\u001b[0m: 'DataFrame' object has no attribute 'instance_id'"
     ]
    }
   ],
   "source": [
    "len(data.instance_id.unique())"
   ]
  },
  {
   "attachments": {},
   "cell_type": "markdown",
   "metadata": {},
   "source": [
    "Since the size of the table is larger than the number of unique IDs, we know that one accident may be captured in several rows."
   ]
  },
  {
   "cell_type": "code",
   "execution_count": 11,
   "metadata": {},
   "outputs": [
    {
     "data": {
      "text/html": [
       "<div>\n",
       "<style scoped>\n",
       "    .dataframe tbody tr th:only-of-type {\n",
       "        vertical-align: middle;\n",
       "    }\n",
       "\n",
       "    .dataframe tbody tr th {\n",
       "        vertical-align: top;\n",
       "    }\n",
       "\n",
       "    .dataframe thead th {\n",
       "        text-align: right;\n",
       "    }\n",
       "</style>\n",
       "<table border=\"1\" class=\"dataframe\">\n",
       "  <thead>\n",
       "    <tr style=\"text-align: right;\">\n",
       "      <th></th>\n",
       "      <th>LATITUDE_X</th>\n",
       "      <th>LONGITUDE_X</th>\n",
       "      <th>AGE</th>\n",
       "      <th>CRASHSEVERITYID</th>\n",
       "      <th>LOCALREPORTNO</th>\n",
       "      <th>ROADCLASS</th>\n",
       "    </tr>\n",
       "  </thead>\n",
       "  <tbody>\n",
       "    <tr>\n",
       "      <th>count</th>\n",
       "      <td>3.285290e+05</td>\n",
       "      <td>3.285270e+05</td>\n",
       "      <td>287961.000000</td>\n",
       "      <td>328551.000000</td>\n",
       "      <td>3.285580e+05</td>\n",
       "      <td>203133.000000</td>\n",
       "    </tr>\n",
       "    <tr>\n",
       "      <th>mean</th>\n",
       "      <td>2.633354e+03</td>\n",
       "      <td>-1.199095e+04</td>\n",
       "      <td>37.465070</td>\n",
       "      <td>82733.375893</td>\n",
       "      <td>1.846722e+08</td>\n",
       "      <td>2.825745</td>\n",
       "    </tr>\n",
       "    <tr>\n",
       "      <th>std</th>\n",
       "      <td>1.469781e+06</td>\n",
       "      <td>6.819152e+06</td>\n",
       "      <td>16.585971</td>\n",
       "      <td>99293.182335</td>\n",
       "      <td>7.679149e+08</td>\n",
       "      <td>1.484126</td>\n",
       "    </tr>\n",
       "    <tr>\n",
       "      <th>min</th>\n",
       "      <td>-8.449023e+01</td>\n",
       "      <td>-3.908552e+09</td>\n",
       "      <td>0.000000</td>\n",
       "      <td>1.000000</td>\n",
       "      <td>1.400000e+01</td>\n",
       "      <td>0.000000</td>\n",
       "    </tr>\n",
       "    <tr>\n",
       "      <th>25%</th>\n",
       "      <td>3.911740e+01</td>\n",
       "      <td>-8.454953e+01</td>\n",
       "      <td>24.000000</td>\n",
       "      <td>3.000000</td>\n",
       "      <td>1.550171e+08</td>\n",
       "      <td>2.000000</td>\n",
       "    </tr>\n",
       "    <tr>\n",
       "      <th>50%</th>\n",
       "      <td>3.913663e+01</td>\n",
       "      <td>-8.451502e+01</td>\n",
       "      <td>34.000000</td>\n",
       "      <td>3.000000</td>\n",
       "      <td>1.850029e+08</td>\n",
       "      <td>2.000000</td>\n",
       "    </tr>\n",
       "    <tr>\n",
       "      <th>75%</th>\n",
       "      <td>3.916096e+01</td>\n",
       "      <td>-8.448473e+01</td>\n",
       "      <td>49.000000</td>\n",
       "      <td>201905.000000</td>\n",
       "      <td>2.050094e+08</td>\n",
       "      <td>4.000000</td>\n",
       "    </tr>\n",
       "    <tr>\n",
       "      <th>max</th>\n",
       "      <td>8.424329e+08</td>\n",
       "      <td>1.000000e-03</td>\n",
       "      <td>933.000000</td>\n",
       "      <td>201905.000000</td>\n",
       "      <td>2.201140e+11</td>\n",
       "      <td>10.000000</td>\n",
       "    </tr>\n",
       "  </tbody>\n",
       "</table>\n",
       "</div>"
      ],
      "text/plain": [
       "         LATITUDE_X   LONGITUDE_X            AGE  CRASHSEVERITYID  \\\n",
       "count  3.285290e+05  3.285270e+05  287961.000000    328551.000000   \n",
       "mean   2.633354e+03 -1.199095e+04      37.465070     82733.375893   \n",
       "std    1.469781e+06  6.819152e+06      16.585971     99293.182335   \n",
       "min   -8.449023e+01 -3.908552e+09       0.000000         1.000000   \n",
       "25%    3.911740e+01 -8.454953e+01      24.000000         3.000000   \n",
       "50%    3.913663e+01 -8.451502e+01      34.000000         3.000000   \n",
       "75%    3.916096e+01 -8.448473e+01      49.000000    201905.000000   \n",
       "max    8.424329e+08  1.000000e-03     933.000000    201905.000000   \n",
       "\n",
       "       LOCALREPORTNO      ROADCLASS  \n",
       "count   3.285580e+05  203133.000000  \n",
       "mean    1.846722e+08       2.825745  \n",
       "std     7.679149e+08       1.484126  \n",
       "min     1.400000e+01       0.000000  \n",
       "25%     1.550171e+08       2.000000  \n",
       "50%     1.850029e+08       2.000000  \n",
       "75%     2.050094e+08       4.000000  \n",
       "max     2.201140e+11      10.000000  "
      ]
     },
     "execution_count": 11,
     "metadata": {},
     "output_type": "execute_result"
    }
   ],
   "source": [
    "raw.describe()"
   ]
  },
  {
   "cell_type": "code",
   "execution_count": 12,
   "metadata": {},
   "outputs": [
    {
     "ename": "AttributeError",
     "evalue": "'DataFrame' object has no attribute 'address_x'",
     "output_type": "error",
     "traceback": [
      "\u001b[1;31m---------------------------------------------------------------------------\u001b[0m",
      "\u001b[1;31mAttributeError\u001b[0m                            Traceback (most recent call last)",
      "Cell \u001b[1;32mIn[12], line 1\u001b[0m\n\u001b[1;32m----> 1\u001b[0m data\u001b[39m.\u001b[39;49maddress_x    \u001b[39m# Will want to separate block # from street.\u001b[39;00m\n",
      "File \u001b[1;32mc:\\Users\\Ern\\AppData\\Local\\Programs\\Python\\Python311\\Lib\\site-packages\\pandas\\core\\generic.py:5902\u001b[0m, in \u001b[0;36mNDFrame.__getattr__\u001b[1;34m(self, name)\u001b[0m\n\u001b[0;32m   5895\u001b[0m \u001b[39mif\u001b[39;00m (\n\u001b[0;32m   5896\u001b[0m     name \u001b[39mnot\u001b[39;00m \u001b[39min\u001b[39;00m \u001b[39mself\u001b[39m\u001b[39m.\u001b[39m_internal_names_set\n\u001b[0;32m   5897\u001b[0m     \u001b[39mand\u001b[39;00m name \u001b[39mnot\u001b[39;00m \u001b[39min\u001b[39;00m \u001b[39mself\u001b[39m\u001b[39m.\u001b[39m_metadata\n\u001b[0;32m   5898\u001b[0m     \u001b[39mand\u001b[39;00m name \u001b[39mnot\u001b[39;00m \u001b[39min\u001b[39;00m \u001b[39mself\u001b[39m\u001b[39m.\u001b[39m_accessors\n\u001b[0;32m   5899\u001b[0m     \u001b[39mand\u001b[39;00m \u001b[39mself\u001b[39m\u001b[39m.\u001b[39m_info_axis\u001b[39m.\u001b[39m_can_hold_identifiers_and_holds_name(name)\n\u001b[0;32m   5900\u001b[0m ):\n\u001b[0;32m   5901\u001b[0m     \u001b[39mreturn\u001b[39;00m \u001b[39mself\u001b[39m[name]\n\u001b[1;32m-> 5902\u001b[0m \u001b[39mreturn\u001b[39;00m \u001b[39mobject\u001b[39;49m\u001b[39m.\u001b[39;49m\u001b[39m__getattribute__\u001b[39;49m(\u001b[39mself\u001b[39;49m, name)\n",
      "\u001b[1;31mAttributeError\u001b[0m: 'DataFrame' object has no attribute 'address_x'"
     ]
    }
   ],
   "source": [
    "data.address_x    # Will want to separate block # from street."
   ]
  },
  {
   "cell_type": "code",
   "execution_count": 13,
   "metadata": {},
   "outputs": [
    {
     "data": {
      "text/html": [
       "<div>\n",
       "<style scoped>\n",
       "    .dataframe tbody tr th:only-of-type {\n",
       "        vertical-align: middle;\n",
       "    }\n",
       "\n",
       "    .dataframe tbody tr th {\n",
       "        vertical-align: top;\n",
       "    }\n",
       "\n",
       "    .dataframe thead th {\n",
       "        text-align: right;\n",
       "    }\n",
       "</style>\n",
       "<table border=\"1\" class=\"dataframe\">\n",
       "  <thead>\n",
       "    <tr style=\"text-align: right;\">\n",
       "      <th></th>\n",
       "      <th>ADDRESS_X</th>\n",
       "      <th>LATITUDE_X</th>\n",
       "      <th>LONGITUDE_X</th>\n",
       "      <th>AGE</th>\n",
       "      <th>COMMUNITY_COUNCIL_NEIGHBORHOOD</th>\n",
       "      <th>CPD_NEIGHBORHOOD</th>\n",
       "      <th>SNA_NEIGHBORHOOD</th>\n",
       "      <th>CRASHDATE</th>\n",
       "      <th>CRASHLOCATION</th>\n",
       "      <th>CRASHSEVERITY</th>\n",
       "      <th>...</th>\n",
       "      <th>MANNEROFCRASH</th>\n",
       "      <th>ROADCONDITIONSPRIMARY</th>\n",
       "      <th>ROADCONTOUR</th>\n",
       "      <th>ROADSURFACE</th>\n",
       "      <th>ROADCLASS</th>\n",
       "      <th>ROADCLASSDESC</th>\n",
       "      <th>UNITTYPE</th>\n",
       "      <th>TYPEOFPERSON</th>\n",
       "      <th>WEATHER</th>\n",
       "      <th>ZIP</th>\n",
       "    </tr>\n",
       "  </thead>\n",
       "  <tbody>\n",
       "    <tr>\n",
       "      <th>0</th>\n",
       "      <td>S I75 AT 2-7 MM</td>\n",
       "      <td>39.125153</td>\n",
       "      <td>-84.537191</td>\n",
       "      <td>NaN</td>\n",
       "      <td>WEST END</td>\n",
       "      <td>QUEENSGATE</td>\n",
       "      <td>QUEENSGATE</td>\n",
       "      <td>03/30/2023 12:57:00 AM</td>\n",
       "      <td>NaN</td>\n",
       "      <td>5 - PROPERTY DAMAGE ONLY</td>\n",
       "      <td>...</td>\n",
       "      <td>7 - SIDESWIPE, SAME DIRECTION</td>\n",
       "      <td>01 - DRY</td>\n",
       "      <td>1 - STRAIGHT LEVEL</td>\n",
       "      <td>2 - BLACKTOP, BITUMINOUS, ASPHALT</td>\n",
       "      <td>NaN</td>\n",
       "      <td>NaN</td>\n",
       "      <td>NaN</td>\n",
       "      <td>NaN</td>\n",
       "      <td>1 - CLEAR</td>\n",
       "      <td>45223.0</td>\n",
       "    </tr>\n",
       "    <tr>\n",
       "      <th>1</th>\n",
       "      <td>2XX E LIBERTY ST</td>\n",
       "      <td>39.113294</td>\n",
       "      <td>-84.513194</td>\n",
       "      <td>32.0</td>\n",
       "      <td>MOUNT AUBURN</td>\n",
       "      <td>MOUNT  AUBURN</td>\n",
       "      <td>OVER-THE-RHINE</td>\n",
       "      <td>03/29/2023 11:45:00 PM</td>\n",
       "      <td>NaN</td>\n",
       "      <td>5 - PROPERTY DAMAGE ONLY</td>\n",
       "      <td>...</td>\n",
       "      <td>6 - ANGLE</td>\n",
       "      <td>01 - DRY</td>\n",
       "      <td>2 - STRAIGHT GRADE</td>\n",
       "      <td>2 - BLACKTOP, BITUMINOUS, ASPHALT</td>\n",
       "      <td>NaN</td>\n",
       "      <td>NaN</td>\n",
       "      <td>19 - BUS (16+ PASSENGERS)</td>\n",
       "      <td>D - DRIVER</td>\n",
       "      <td>1 - CLEAR</td>\n",
       "      <td>45202.0</td>\n",
       "    </tr>\n",
       "    <tr>\n",
       "      <th>2</th>\n",
       "      <td>2XX E LIBERTY ST</td>\n",
       "      <td>39.112334</td>\n",
       "      <td>-84.513164</td>\n",
       "      <td>24.0</td>\n",
       "      <td>MOUNT AUBURN</td>\n",
       "      <td>MOUNT  AUBURN</td>\n",
       "      <td>OVER-THE-RHINE</td>\n",
       "      <td>03/29/2023 11:45:00 PM</td>\n",
       "      <td>NaN</td>\n",
       "      <td>5 - PROPERTY DAMAGE ONLY</td>\n",
       "      <td>...</td>\n",
       "      <td>6 - ANGLE</td>\n",
       "      <td>01 - DRY</td>\n",
       "      <td>2 - STRAIGHT GRADE</td>\n",
       "      <td>2 - BLACKTOP, BITUMINOUS, ASPHALT</td>\n",
       "      <td>NaN</td>\n",
       "      <td>NaN</td>\n",
       "      <td>01 - PASSENGER CAR</td>\n",
       "      <td>O - OCCUPANT</td>\n",
       "      <td>1 - CLEAR</td>\n",
       "      <td>45202.0</td>\n",
       "    </tr>\n",
       "    <tr>\n",
       "      <th>3</th>\n",
       "      <td>6XX CENTRAL AV</td>\n",
       "      <td>39.101560</td>\n",
       "      <td>-84.519050</td>\n",
       "      <td>45.0</td>\n",
       "      <td>WEST END</td>\n",
       "      <td>QUEENSGATE</td>\n",
       "      <td>WEST END</td>\n",
       "      <td>03/29/2023 10:29:00 PM</td>\n",
       "      <td>NaN</td>\n",
       "      <td>5 - PROPERTY DAMAGE ONLY</td>\n",
       "      <td>...</td>\n",
       "      <td>2 - REAR-END</td>\n",
       "      <td>01 - DRY</td>\n",
       "      <td>1 - STRAIGHT LEVEL</td>\n",
       "      <td>2 - BLACKTOP, BITUMINOUS, ASPHALT</td>\n",
       "      <td>6.0</td>\n",
       "      <td>Ramps</td>\n",
       "      <td>01 - PASSENGER CAR</td>\n",
       "      <td>D - DRIVER</td>\n",
       "      <td>1 - CLEAR</td>\n",
       "      <td>45203.0</td>\n",
       "    </tr>\n",
       "    <tr>\n",
       "      <th>4</th>\n",
       "      <td>6XX CENTRAL AV</td>\n",
       "      <td>39.102170</td>\n",
       "      <td>-84.519620</td>\n",
       "      <td>38.0</td>\n",
       "      <td>WEST END</td>\n",
       "      <td>QUEENSGATE</td>\n",
       "      <td>WEST END</td>\n",
       "      <td>03/29/2023 10:29:00 PM</td>\n",
       "      <td>NaN</td>\n",
       "      <td>5 - PROPERTY DAMAGE ONLY</td>\n",
       "      <td>...</td>\n",
       "      <td>2 - REAR-END</td>\n",
       "      <td>01 - DRY</td>\n",
       "      <td>1 - STRAIGHT LEVEL</td>\n",
       "      <td>2 - BLACKTOP, BITUMINOUS, ASPHALT</td>\n",
       "      <td>6.0</td>\n",
       "      <td>Ramps</td>\n",
       "      <td>03 - SPORT UTILITY VEHICLE</td>\n",
       "      <td>D - DRIVER</td>\n",
       "      <td>1 - CLEAR</td>\n",
       "      <td>45203.0</td>\n",
       "    </tr>\n",
       "  </tbody>\n",
       "</table>\n",
       "<p>5 rows × 28 columns</p>\n",
       "</div>"
      ],
      "text/plain": [
       "          ADDRESS_X  LATITUDE_X  LONGITUDE_X   AGE  \\\n",
       "0   S I75 AT 2-7 MM   39.125153   -84.537191   NaN   \n",
       "1  2XX E LIBERTY ST   39.113294   -84.513194  32.0   \n",
       "2  2XX E LIBERTY ST   39.112334   -84.513164  24.0   \n",
       "3    6XX CENTRAL AV   39.101560   -84.519050  45.0   \n",
       "4    6XX CENTRAL AV   39.102170   -84.519620  38.0   \n",
       "\n",
       "  COMMUNITY_COUNCIL_NEIGHBORHOOD CPD_NEIGHBORHOOD SNA_NEIGHBORHOOD  \\\n",
       "0                       WEST END       QUEENSGATE       QUEENSGATE   \n",
       "1                   MOUNT AUBURN    MOUNT  AUBURN   OVER-THE-RHINE   \n",
       "2                   MOUNT AUBURN    MOUNT  AUBURN   OVER-THE-RHINE   \n",
       "3                       WEST END       QUEENSGATE         WEST END   \n",
       "4                       WEST END       QUEENSGATE         WEST END   \n",
       "\n",
       "                CRASHDATE CRASHLOCATION             CRASHSEVERITY  ...  \\\n",
       "0  03/30/2023 12:57:00 AM           NaN  5 - PROPERTY DAMAGE ONLY  ...   \n",
       "1  03/29/2023 11:45:00 PM           NaN  5 - PROPERTY DAMAGE ONLY  ...   \n",
       "2  03/29/2023 11:45:00 PM           NaN  5 - PROPERTY DAMAGE ONLY  ...   \n",
       "3  03/29/2023 10:29:00 PM           NaN  5 - PROPERTY DAMAGE ONLY  ...   \n",
       "4  03/29/2023 10:29:00 PM           NaN  5 - PROPERTY DAMAGE ONLY  ...   \n",
       "\n",
       "                   MANNEROFCRASH ROADCONDITIONSPRIMARY         ROADCONTOUR  \\\n",
       "0  7 - SIDESWIPE, SAME DIRECTION              01 - DRY  1 - STRAIGHT LEVEL   \n",
       "1                      6 - ANGLE              01 - DRY  2 - STRAIGHT GRADE   \n",
       "2                      6 - ANGLE              01 - DRY  2 - STRAIGHT GRADE   \n",
       "3                   2 - REAR-END              01 - DRY  1 - STRAIGHT LEVEL   \n",
       "4                   2 - REAR-END              01 - DRY  1 - STRAIGHT LEVEL   \n",
       "\n",
       "                         ROADSURFACE ROADCLASS ROADCLASSDESC  \\\n",
       "0  2 - BLACKTOP, BITUMINOUS, ASPHALT       NaN           NaN   \n",
       "1  2 - BLACKTOP, BITUMINOUS, ASPHALT       NaN           NaN   \n",
       "2  2 - BLACKTOP, BITUMINOUS, ASPHALT       NaN           NaN   \n",
       "3  2 - BLACKTOP, BITUMINOUS, ASPHALT       6.0         Ramps   \n",
       "4  2 - BLACKTOP, BITUMINOUS, ASPHALT       6.0         Ramps   \n",
       "\n",
       "                     UNITTYPE  TYPEOFPERSON    WEATHER      ZIP  \n",
       "0                         NaN           NaN  1 - CLEAR  45223.0  \n",
       "1   19 - BUS (16+ PASSENGERS)    D - DRIVER  1 - CLEAR  45202.0  \n",
       "2          01 - PASSENGER CAR  O - OCCUPANT  1 - CLEAR  45202.0  \n",
       "3          01 - PASSENGER CAR    D - DRIVER  1 - CLEAR  45203.0  \n",
       "4  03 - SPORT UTILITY VEHICLE    D - DRIVER  1 - CLEAR  45203.0  \n",
       "\n",
       "[5 rows x 28 columns]"
      ]
     },
     "execution_count": 13,
     "metadata": {},
     "output_type": "execute_result"
    }
   ],
   "source": [
    "data.head()"
   ]
  }
 ],
 "metadata": {
  "kernelspec": {
   "display_name": "Python 3",
   "language": "python",
   "name": "python3"
  },
  "language_info": {
   "codemirror_mode": {
    "name": "ipython",
    "version": 3
   },
   "file_extension": ".py",
   "mimetype": "text/x-python",
   "name": "python",
   "nbconvert_exporter": "python",
   "pygments_lexer": "ipython3",
   "version": "3.11.0"
  },
  "orig_nbformat": 4,
  "vscode": {
   "interpreter": {
    "hash": "c3e96ec3f1cdb663977cb46f8728562ce9615f76831617ef0e10c94e3ade3df4"
   }
  }
 },
 "nbformat": 4,
 "nbformat_minor": 2
}
