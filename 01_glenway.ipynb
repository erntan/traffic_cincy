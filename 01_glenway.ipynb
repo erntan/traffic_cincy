{
 "cells": [
  {
   "cell_type": "code",
   "execution_count": 1,
   "metadata": {},
   "outputs": [],
   "source": [
    "import pandas as pd"
   ]
  },
  {
   "cell_type": "code",
   "execution_count": 2,
   "metadata": {},
   "outputs": [
    {
     "name": "stderr",
     "output_type": "stream",
     "text": [
      "c:\\Users\\Ern\\Documents\\projects\\cincy_traffic\\clean_crash_data.py:10: FutureWarning: In a future version, `df.iloc[:, i] = newvals` will attempt to set the values inplace instead of always setting a new array. To retain the old behavior, use either `df[df.columns[i]] = newvals` or, if columns are non-unique, `df.isetitem(i, newvals)`\n",
      "  crash_data.loc[:, 'CRASHDATE'] = pd.to_datetime(crash_data.CRASHDATE)\n",
      "c:\\Users\\Ern\\Documents\\projects\\cincy_traffic\\clean_crash_data.py:11: FutureWarning: In a future version, `df.iloc[:, i] = newvals` will attempt to set the values inplace instead of always setting a new array. To retain the old behavior, use either `df[df.columns[i]] = newvals` or, if columns are non-unique, `df.isetitem(i, newvals)`\n",
      "  crash_data.loc[:, 'DATECRASHREPORTED'] = pd.to_datetime(crash_data.DATECRASHREPORTED)\n",
      "c:\\Users\\Ern\\Documents\\projects\\cincy_traffic\\clean_crash_data.py:18: FutureWarning: In a future version, `df.iloc[:, i] = newvals` will attempt to set the values inplace instead of always setting a new array. To retain the old behavior, use either `df[df.columns[i]] = newvals` or, if columns are non-unique, `df.isetitem(i, newvals)`\n",
      "  crash_data.loc[:,'ZIP'] = crash_data.ZIP.astype(str)\n",
      "c:\\Users\\Ern\\Documents\\projects\\cincy_traffic\\clean_crash_data.py:47: FutureWarning: The default value of regex will change from True to False in a future version.\n",
      "  crash_data.CRASHLOCATION = crash_data.CRASHLOCATION.str.replace(r'\\d\\d - ', '')\n",
      "c:\\Users\\Ern\\Documents\\projects\\cincy_traffic\\clean_crash_data.py:60: FutureWarning: The default value of regex will change from True to False in a future version.\n",
      "  crash_data.UNITTYPE = crash_data.UNITTYPE.str.replace(r'\\d\\d - ', '')\n"
     ]
    }
   ],
   "source": [
    "from clean_crash_data import crash_data"
   ]
  },
  {
   "cell_type": "code",
   "execution_count": 6,
   "metadata": {},
   "outputs": [],
   "source": [
    "glenway_data = crash_data[crash_data.ADDRESS_X.str.contains('GLENWAY', na=False)]"
   ]
  },
  {
   "cell_type": "code",
   "execution_count": null,
   "metadata": {},
   "outputs": [],
   "source": []
  }
 ],
 "metadata": {
  "kernelspec": {
   "display_name": "Python 3",
   "language": "python",
   "name": "python3"
  },
  "language_info": {
   "codemirror_mode": {
    "name": "ipython",
    "version": 3
   },
   "file_extension": ".py",
   "mimetype": "text/x-python",
   "name": "python",
   "nbconvert_exporter": "python",
   "pygments_lexer": "ipython3",
   "version": "3.11.0"
  },
  "orig_nbformat": 4
 },
 "nbformat": 4,
 "nbformat_minor": 2
}
