{
 "cells": [
  {
   "cell_type": "code",
   "execution_count": 1,
   "metadata": {},
   "outputs": [],
   "source": [
    "import pandas as pd"
   ]
  },
  {
   "cell_type": "code",
   "execution_count": 2,
   "metadata": {},
   "outputs": [
    {
     "name": "stderr",
     "output_type": "stream",
     "text": [
      "c:\\Users\\Ern\\Documents\\projects\\cincy_traffic\\clean_crash_data.py:10: FutureWarning: In a future version, `df.iloc[:, i] = newvals` will attempt to set the values inplace instead of always setting a new array. To retain the old behavior, use either `df[df.columns[i]] = newvals` or, if columns are non-unique, `df.isetitem(i, newvals)`\n",
      "  crash_data.loc[:, 'CRASHDATE'] = pd.to_datetime(crash_data.CRASHDATE)\n",
      "c:\\Users\\Ern\\Documents\\projects\\cincy_traffic\\clean_crash_data.py:11: FutureWarning: In a future version, `df.iloc[:, i] = newvals` will attempt to set the values inplace instead of always setting a new array. To retain the old behavior, use either `df[df.columns[i]] = newvals` or, if columns are non-unique, `df.isetitem(i, newvals)`\n",
      "  crash_data.loc[:, 'DATECRASHREPORTED'] = pd.to_datetime(crash_data.DATECRASHREPORTED)\n",
      "c:\\Users\\Ern\\Documents\\projects\\cincy_traffic\\clean_crash_data.py:18: FutureWarning: In a future version, `df.iloc[:, i] = newvals` will attempt to set the values inplace instead of always setting a new array. To retain the old behavior, use either `df[df.columns[i]] = newvals` or, if columns are non-unique, `df.isetitem(i, newvals)`\n",
      "  crash_data.loc[:,'ZIP'] = crash_data.ZIP.astype(str)\n",
      "c:\\Users\\Ern\\Documents\\projects\\cincy_traffic\\clean_crash_data.py:47: FutureWarning: The default value of regex will change from True to False in a future version.\n",
      "  crash_data.CRASHLOCATION = crash_data.CRASHLOCATION.str.replace(r'\\d\\d - ', '')\n",
      "c:\\Users\\Ern\\Documents\\projects\\cincy_traffic\\clean_crash_data.py:60: FutureWarning: The default value of regex will change from True to False in a future version.\n",
      "  crash_data.UNITTYPE = crash_data.UNITTYPE.str.replace(r'\\d\\d - ', '')\n"
     ]
    }
   ],
   "source": [
    "from clean_crash_data import crash_data"
   ]
  },
  {
   "attachments": {},
   "cell_type": "markdown",
   "metadata": {},
   "source": [
    "# Comparing Glenway to Population"
   ]
  },
  {
   "attachments": {},
   "cell_type": "markdown",
   "metadata": {},
   "source": [
    "## Crash Incidents"
   ]
  },
  {
   "cell_type": "code",
   "execution_count": 20,
   "metadata": {},
   "outputs": [
    {
     "data": {
      "text/plain": [
       "Timestamp('2010-02-23 17:37:00')"
      ]
     },
     "execution_count": 20,
     "metadata": {},
     "output_type": "execute_result"
    }
   ],
   "source": [
    "crash_data.CRASHDATE.min()"
   ]
  },
  {
   "cell_type": "code",
   "execution_count": 21,
   "metadata": {},
   "outputs": [
    {
     "data": {
      "text/plain": [
       "Timestamp('2023-04-05 23:30:16')"
      ]
     },
     "execution_count": 21,
     "metadata": {},
     "output_type": "execute_result"
    }
   ],
   "source": [
    "crash_data.CRASHDATE.max()"
   ]
  },
  {
   "cell_type": "code",
   "execution_count": 3,
   "metadata": {},
   "outputs": [
    {
     "data": {
      "text/html": [
       "<div>\n",
       "<style scoped>\n",
       "    .dataframe tbody tr th:only-of-type {\n",
       "        vertical-align: middle;\n",
       "    }\n",
       "\n",
       "    .dataframe tbody tr th {\n",
       "        vertical-align: top;\n",
       "    }\n",
       "\n",
       "    .dataframe thead th {\n",
       "        text-align: right;\n",
       "    }\n",
       "</style>\n",
       "<table border=\"1\" class=\"dataframe\">\n",
       "  <thead>\n",
       "    <tr style=\"text-align: right;\">\n",
       "      <th></th>\n",
       "      <th>LATITUDE_X</th>\n",
       "      <th>LONGITUDE_X</th>\n",
       "      <th>AGE</th>\n",
       "      <th>CRASHSEVERITY</th>\n",
       "      <th>INJURIES</th>\n",
       "      <th>MANNEROFCRASH</th>\n",
       "      <th>ROADCONTOUR</th>\n",
       "      <th>ROADSURFACE</th>\n",
       "      <th>ROADCLASS</th>\n",
       "      <th>LIGHTCONDITIONS</th>\n",
       "      <th>ROADCONDITIONS</th>\n",
       "    </tr>\n",
       "  </thead>\n",
       "  <tbody>\n",
       "    <tr>\n",
       "      <th>count</th>\n",
       "      <td>3.291840e+05</td>\n",
       "      <td>3.291820e+05</td>\n",
       "      <td>288537.000000</td>\n",
       "      <td>329205.0</td>\n",
       "      <td>328908.0</td>\n",
       "      <td>329193.0</td>\n",
       "      <td>329193.0</td>\n",
       "      <td>329193.0</td>\n",
       "      <td>203584.000000</td>\n",
       "      <td>329193.0</td>\n",
       "      <td>329193.0</td>\n",
       "    </tr>\n",
       "    <tr>\n",
       "      <th>mean</th>\n",
       "      <td>2.632513e+03</td>\n",
       "      <td>-1.196852e+04</td>\n",
       "      <td>37.458738</td>\n",
       "      <td>3.484051</td>\n",
       "      <td>2.668007</td>\n",
       "      <td>4.262575</td>\n",
       "      <td>1.46932</td>\n",
       "      <td>1.853129</td>\n",
       "      <td>2.825753</td>\n",
       "      <td>1.795035</td>\n",
       "      <td>1.551853</td>\n",
       "    </tr>\n",
       "    <tr>\n",
       "      <th>std</th>\n",
       "      <td>1.468320e+06</td>\n",
       "      <td>6.812364e+06</td>\n",
       "      <td>16.502905</td>\n",
       "      <td>1.0809</td>\n",
       "      <td>1.837925</td>\n",
       "      <td>2.441699</td>\n",
       "      <td>0.857184</td>\n",
       "      <td>0.408109</td>\n",
       "      <td>1.483882</td>\n",
       "      <td>1.336298</td>\n",
       "      <td>4.993987</td>\n",
       "    </tr>\n",
       "    <tr>\n",
       "      <th>min</th>\n",
       "      <td>-8.449005e+01</td>\n",
       "      <td>-3.908552e+09</td>\n",
       "      <td>0.000000</td>\n",
       "      <td>1.0</td>\n",
       "      <td>1.0</td>\n",
       "      <td>1.0</td>\n",
       "      <td>1.0</td>\n",
       "      <td>1.0</td>\n",
       "      <td>0.000000</td>\n",
       "      <td>1.0</td>\n",
       "      <td>1.0</td>\n",
       "    </tr>\n",
       "    <tr>\n",
       "      <th>25%</th>\n",
       "      <td>3.911738e+01</td>\n",
       "      <td>-8.454953e+01</td>\n",
       "      <td>24.000000</td>\n",
       "      <td>3.0</td>\n",
       "      <td>1.0</td>\n",
       "      <td>2.0</td>\n",
       "      <td>1.0</td>\n",
       "      <td>2.0</td>\n",
       "      <td>2.000000</td>\n",
       "      <td>1.0</td>\n",
       "      <td>1.0</td>\n",
       "    </tr>\n",
       "    <tr>\n",
       "      <th>50%</th>\n",
       "      <td>3.913663e+01</td>\n",
       "      <td>-8.451503e+01</td>\n",
       "      <td>34.000000</td>\n",
       "      <td>3.0</td>\n",
       "      <td>1.0</td>\n",
       "      <td>6.0</td>\n",
       "      <td>1.0</td>\n",
       "      <td>2.0</td>\n",
       "      <td>2.000000</td>\n",
       "      <td>1.0</td>\n",
       "      <td>1.0</td>\n",
       "    </tr>\n",
       "    <tr>\n",
       "      <th>75%</th>\n",
       "      <td>3.916096e+01</td>\n",
       "      <td>-8.448475e+01</td>\n",
       "      <td>49.000000</td>\n",
       "      <td>5.0</td>\n",
       "      <td>5.0</td>\n",
       "      <td>6.0</td>\n",
       "      <td>2.0</td>\n",
       "      <td>2.0</td>\n",
       "      <td>4.000000</td>\n",
       "      <td>3.0</td>\n",
       "      <td>1.0</td>\n",
       "    </tr>\n",
       "    <tr>\n",
       "      <th>max</th>\n",
       "      <td>8.424329e+08</td>\n",
       "      <td>9.900000e-04</td>\n",
       "      <td>123.000000</td>\n",
       "      <td>5.0</td>\n",
       "      <td>5.0</td>\n",
       "      <td>9.0</td>\n",
       "      <td>9.0</td>\n",
       "      <td>9.0</td>\n",
       "      <td>10.000000</td>\n",
       "      <td>9.0</td>\n",
       "      <td>99.0</td>\n",
       "    </tr>\n",
       "  </tbody>\n",
       "</table>\n",
       "</div>"
      ],
      "text/plain": [
       "         LATITUDE_X   LONGITUDE_X            AGE  CRASHSEVERITY  INJURIES  \\\n",
       "count  3.291840e+05  3.291820e+05  288537.000000       329205.0  328908.0   \n",
       "mean   2.632513e+03 -1.196852e+04      37.458738       3.484051  2.668007   \n",
       "std    1.468320e+06  6.812364e+06      16.502905         1.0809  1.837925   \n",
       "min   -8.449005e+01 -3.908552e+09       0.000000            1.0       1.0   \n",
       "25%    3.911738e+01 -8.454953e+01      24.000000            3.0       1.0   \n",
       "50%    3.913663e+01 -8.451503e+01      34.000000            3.0       1.0   \n",
       "75%    3.916096e+01 -8.448475e+01      49.000000            5.0       5.0   \n",
       "max    8.424329e+08  9.900000e-04     123.000000            5.0       5.0   \n",
       "\n",
       "       MANNEROFCRASH  ROADCONTOUR  ROADSURFACE      ROADCLASS  \\\n",
       "count       329193.0     329193.0     329193.0  203584.000000   \n",
       "mean        4.262575      1.46932     1.853129       2.825753   \n",
       "std         2.441699     0.857184     0.408109       1.483882   \n",
       "min              1.0          1.0          1.0       0.000000   \n",
       "25%              2.0          1.0          2.0       2.000000   \n",
       "50%              6.0          1.0          2.0       2.000000   \n",
       "75%              6.0          2.0          2.0       4.000000   \n",
       "max              9.0          9.0          9.0      10.000000   \n",
       "\n",
       "       LIGHTCONDITIONS  ROADCONDITIONS  \n",
       "count         329193.0        329193.0  \n",
       "mean          1.795035        1.551853  \n",
       "std           1.336298        4.993987  \n",
       "min                1.0             1.0  \n",
       "25%                1.0             1.0  \n",
       "50%                1.0             1.0  \n",
       "75%                3.0             1.0  \n",
       "max                9.0            99.0  "
      ]
     },
     "execution_count": 3,
     "metadata": {},
     "output_type": "execute_result"
    }
   ],
   "source": [
    "crash_data.describe()"
   ]
  },
  {
   "cell_type": "code",
   "execution_count": 4,
   "metadata": {},
   "outputs": [
    {
     "data": {
      "text/plain": [
       "Index(['ADDRESS_X', 'LATITUDE_X', 'LONGITUDE_X', 'AGE',\n",
       "       'COMMUNITY_COUNCIL_NEIGHBORHOOD', 'CPD_NEIGHBORHOOD',\n",
       "       'SNA_NEIGHBORHOOD', 'CRASHDATE', 'CRASHLOCATION', 'CRASHSEVERITY',\n",
       "       'CRASHSEVERITYID', 'DATECRASHREPORTED', 'DAYOFWEEK', 'GENDER',\n",
       "       'INJURIES', 'INSTANCEID', 'LOCALREPORTNO', 'MANNEROFCRASH',\n",
       "       'ROADCONTOUR', 'ROADSURFACE', 'ROADCLASS', 'ROADCLASSDESC', 'UNITTYPE',\n",
       "       'TYPEOFPERSON', 'WEATHER', 'ZIP', 'CRASHSEVERITYDESCR',\n",
       "       'ROADCONTOURDESCR', 'MANNEROFCRASHDESCR', 'TYPEOFPERSONDESCR',\n",
       "       'LIGHTCONDITIONS', 'LIGHTCONDITIONSDESCR', 'ROADCONDITIONS',\n",
       "       'ROADCONDITIONSDESCR', 'ROADSURFACEDESCR', 'INJURIESDESCR', 'STREET'],\n",
       "      dtype='object')"
      ]
     },
     "execution_count": 4,
     "metadata": {},
     "output_type": "execute_result"
    }
   ],
   "source": [
    "crash_data.columns"
   ]
  },
  {
   "cell_type": "code",
   "execution_count": 7,
   "metadata": {},
   "outputs": [
    {
     "data": {
      "text/html": [
       "<div>\n",
       "<style scoped>\n",
       "    .dataframe tbody tr th:only-of-type {\n",
       "        vertical-align: middle;\n",
       "    }\n",
       "\n",
       "    .dataframe tbody tr th {\n",
       "        vertical-align: top;\n",
       "    }\n",
       "\n",
       "    .dataframe thead th {\n",
       "        text-align: right;\n",
       "    }\n",
       "</style>\n",
       "<table border=\"1\" class=\"dataframe\">\n",
       "  <thead>\n",
       "    <tr style=\"text-align: right;\">\n",
       "      <th></th>\n",
       "      <th>ADDRESS_X</th>\n",
       "      <th>LOCALREPORTNO</th>\n",
       "    </tr>\n",
       "  </thead>\n",
       "  <tbody>\n",
       "    <tr>\n",
       "      <th>0</th>\n",
       "      <td>16XX HARRISON AVE</td>\n",
       "      <td>235003837</td>\n",
       "    </tr>\n",
       "    <tr>\n",
       "      <th>1</th>\n",
       "      <td>16XX HARRISON AVE</td>\n",
       "      <td>235003837</td>\n",
       "    </tr>\n",
       "    <tr>\n",
       "      <th>2</th>\n",
       "      <td>16XX HARRISON AVE</td>\n",
       "      <td>235003837</td>\n",
       "    </tr>\n",
       "    <tr>\n",
       "      <th>3</th>\n",
       "      <td>11XX SYCAMORE ST</td>\n",
       "      <td>235003836</td>\n",
       "    </tr>\n",
       "    <tr>\n",
       "      <th>4</th>\n",
       "      <td>11XX SYCAMORE ST</td>\n",
       "      <td>235003836</td>\n",
       "    </tr>\n",
       "  </tbody>\n",
       "</table>\n",
       "</div>"
      ],
      "text/plain": [
       "           ADDRESS_X LOCALREPORTNO\n",
       "0  16XX HARRISON AVE     235003837\n",
       "1  16XX HARRISON AVE     235003837\n",
       "2  16XX HARRISON AVE     235003837\n",
       "3   11XX SYCAMORE ST     235003836\n",
       "4   11XX SYCAMORE ST     235003836"
      ]
     },
     "execution_count": 7,
     "metadata": {},
     "output_type": "execute_result"
    }
   ],
   "source": [
    "crash_data[['ADDRESS_X', 'LOCALREPORTNO']].head()"
   ]
  },
  {
   "cell_type": "code",
   "execution_count": 16,
   "metadata": {},
   "outputs": [],
   "source": [
    "incidents_by_block = crash_data[['ADDRESS_X', 'LOCALREPORTNO']].groupby('ADDRESS_X').nunique().sort_values('LOCALREPORTNO',ascending=False)"
   ]
  },
  {
   "cell_type": "code",
   "execution_count": 18,
   "metadata": {},
   "outputs": [
    {
     "data": {
      "text/html": [
       "<div>\n",
       "<style scoped>\n",
       "    .dataframe tbody tr th:only-of-type {\n",
       "        vertical-align: middle;\n",
       "    }\n",
       "\n",
       "    .dataframe tbody tr th {\n",
       "        vertical-align: top;\n",
       "    }\n",
       "\n",
       "    .dataframe thead th {\n",
       "        text-align: right;\n",
       "    }\n",
       "</style>\n",
       "<table border=\"1\" class=\"dataframe\">\n",
       "  <thead>\n",
       "    <tr style=\"text-align: right;\">\n",
       "      <th></th>\n",
       "      <th>LOCALREPORTNO</th>\n",
       "    </tr>\n",
       "  </thead>\n",
       "  <tbody>\n",
       "    <tr>\n",
       "      <th>count</th>\n",
       "      <td>13255.000000</td>\n",
       "    </tr>\n",
       "    <tr>\n",
       "      <th>mean</th>\n",
       "      <td>12.825726</td>\n",
       "    </tr>\n",
       "    <tr>\n",
       "      <th>std</th>\n",
       "      <td>30.413601</td>\n",
       "    </tr>\n",
       "    <tr>\n",
       "      <th>min</th>\n",
       "      <td>1.000000</td>\n",
       "    </tr>\n",
       "    <tr>\n",
       "      <th>25%</th>\n",
       "      <td>1.000000</td>\n",
       "    </tr>\n",
       "    <tr>\n",
       "      <th>50%</th>\n",
       "      <td>3.000000</td>\n",
       "    </tr>\n",
       "    <tr>\n",
       "      <th>75%</th>\n",
       "      <td>10.000000</td>\n",
       "    </tr>\n",
       "    <tr>\n",
       "      <th>max</th>\n",
       "      <td>700.000000</td>\n",
       "    </tr>\n",
       "  </tbody>\n",
       "</table>\n",
       "</div>"
      ],
      "text/plain": [
       "       LOCALREPORTNO\n",
       "count   13255.000000\n",
       "mean       12.825726\n",
       "std        30.413601\n",
       "min         1.000000\n",
       "25%         1.000000\n",
       "50%         3.000000\n",
       "75%        10.000000\n",
       "max       700.000000"
      ]
     },
     "execution_count": 18,
     "metadata": {},
     "output_type": "execute_result"
    }
   ],
   "source": [
    "incidents_by_block.describe()"
   ]
  },
  {
   "cell_type": "code",
   "execution_count": 19,
   "metadata": {},
   "outputs": [
    {
     "data": {
      "text/html": [
       "<div>\n",
       "<style scoped>\n",
       "    .dataframe tbody tr th:only-of-type {\n",
       "        vertical-align: middle;\n",
       "    }\n",
       "\n",
       "    .dataframe tbody tr th {\n",
       "        vertical-align: top;\n",
       "    }\n",
       "\n",
       "    .dataframe thead th {\n",
       "        text-align: right;\n",
       "    }\n",
       "</style>\n",
       "<table border=\"1\" class=\"dataframe\">\n",
       "  <thead>\n",
       "    <tr style=\"text-align: right;\">\n",
       "      <th></th>\n",
       "      <th>LOCALREPORTNO</th>\n",
       "    </tr>\n",
       "    <tr>\n",
       "      <th>ADDRESS_X</th>\n",
       "      <th></th>\n",
       "    </tr>\n",
       "  </thead>\n",
       "  <tbody>\n",
       "    <tr>\n",
       "      <th>W MITCHELL AVE</th>\n",
       "      <td>700</td>\n",
       "    </tr>\n",
       "    <tr>\n",
       "      <th>2XX W MITCHELL AVE</th>\n",
       "      <td>576</td>\n",
       "    </tr>\n",
       "    <tr>\n",
       "      <th>1XX W MITCHELL AVE</th>\n",
       "      <td>484</td>\n",
       "    </tr>\n",
       "    <tr>\n",
       "      <th>61XX GLENWAY AVE</th>\n",
       "      <td>472</td>\n",
       "    </tr>\n",
       "    <tr>\n",
       "      <th>2XX CALHOUN ST</th>\n",
       "      <td>405</td>\n",
       "    </tr>\n",
       "  </tbody>\n",
       "</table>\n",
       "</div>"
      ],
      "text/plain": [
       "                    LOCALREPORTNO\n",
       "ADDRESS_X                        \n",
       "W MITCHELL AVE                700\n",
       "2XX W MITCHELL AVE            576\n",
       "1XX W MITCHELL AVE            484\n",
       "61XX GLENWAY AVE              472\n",
       "2XX CALHOUN ST                405"
      ]
     },
     "execution_count": 19,
     "metadata": {},
     "output_type": "execute_result"
    }
   ],
   "source": [
    "incidents_by_block.head()"
   ]
  },
  {
   "cell_type": "code",
   "execution_count": 26,
   "metadata": {},
   "outputs": [
    {
     "data": {
      "text/plain": [
       "LOCALREPORTNO    0.986871\n",
       "dtype: float64"
      ]
     },
     "execution_count": 26,
     "metadata": {},
     "output_type": "execute_result"
    }
   ],
   "source": [
    "incidents_by_block[incidents_by_block.LOCALREPORTNO < 472].sum() / incidents_by_block.LOCALREPORTNO.sum()"
   ]
  },
  {
   "attachments": {},
   "cell_type": "markdown",
   "metadata": {},
   "source": [
    "61XX GLENWAY AVE has 472 crashes from 2010-02-23 to 2023-04-05, whereas 75% of all street blocks have had at most 10 crashes in that same timeframe. 61XX GLENWAY AVE has had more crashes than 98.6871% of any streets."
   ]
  },
  {
   "attachments": {},
   "cell_type": "markdown",
   "metadata": {},
   "source": [
    "# Glenway"
   ]
  },
  {
   "cell_type": "code",
   "execution_count": 3,
   "metadata": {},
   "outputs": [],
   "source": [
    "glenway_data = crash_data[crash_data.ADDRESS_X.str.contains('GLENWAY', na=False)]"
   ]
  },
  {
   "cell_type": "code",
   "execution_count": null,
   "metadata": {},
   "outputs": [],
   "source": []
  }
 ],
 "metadata": {
  "kernelspec": {
   "display_name": "Python 3",
   "language": "python",
   "name": "python3"
  },
  "language_info": {
   "codemirror_mode": {
    "name": "ipython",
    "version": 3
   },
   "file_extension": ".py",
   "mimetype": "text/x-python",
   "name": "python",
   "nbconvert_exporter": "python",
   "pygments_lexer": "ipython3",
   "version": "3.11.0"
  },
  "orig_nbformat": 4
 },
 "nbformat": 4,
 "nbformat_minor": 2
}
