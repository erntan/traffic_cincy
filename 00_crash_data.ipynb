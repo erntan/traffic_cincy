{
 "cells": [
  {
   "cell_type": "code",
   "execution_count": 1,
   "metadata": {},
   "outputs": [],
   "source": [
    "import pandas as pd \n",
    "# from sodapy import Socrata  # API for data"
   ]
  },
  {
   "cell_type": "code",
   "execution_count": 2,
   "metadata": {},
   "outputs": [],
   "source": [
    "# Use the API to get raw data \n",
    "# client = Socrata(\"data.cincinnati-oh.gov\", None)\n",
    "# crash_raw = pd.DataFrame.from_records(\n",
    "#                 client.get('rvmt-pkmq', limit=1000000)\n",
    "#             )\n",
    "\n",
    "# Using the API is faster than using pd.read_json"
   ]
  },
  {
   "cell_type": "code",
   "execution_count": 3,
   "metadata": {},
   "outputs": [
    {
     "name": "stderr",
     "output_type": "stream",
     "text": [
      "C:\\Users\\Ern\\AppData\\Local\\Temp\\ipykernel_13660\\1786469094.py:2: DtypeWarning: Columns (8,27) have mixed types. Specify dtype option on import or set low_memory=False.\n",
      "  raw = pd.read_csv(\"Traffic_Crash_Reports__CPD_.csv\")\n"
     ]
    }
   ],
   "source": [
    "# Get the raw data \n",
    "raw = pd.read_csv(\"Traffic_Crash_Reports__CPD_.csv\")"
   ]
  },
  {
   "attachments": {},
   "cell_type": "markdown",
   "metadata": {},
   "source": [
    "# Raw Data Overview"
   ]
  },
  {
   "cell_type": "code",
   "execution_count": 4,
   "metadata": {},
   "outputs": [
    {
     "data": {
      "text/plain": [
       "(328558, 28)"
      ]
     },
     "execution_count": 4,
     "metadata": {},
     "output_type": "execute_result"
    }
   ],
   "source": [
    "raw.shape"
   ]
  },
  {
   "cell_type": "code",
   "execution_count": 5,
   "metadata": {},
   "outputs": [
    {
     "data": {
      "text/plain": [
       "Index(['ADDRESS_X', 'LATITUDE_X', 'LONGITUDE_X', 'AGE',\n",
       "       'COMMUNITY_COUNCIL_NEIGHBORHOOD', 'CPD_NEIGHBORHOOD',\n",
       "       'SNA_NEIGHBORHOOD', 'CRASHDATE', 'CRASHLOCATION', 'CRASHSEVERITY',\n",
       "       'CRASHSEVERITYID', 'DATECRASHREPORTED', 'DAYOFWEEK', 'GENDER',\n",
       "       'INJURIES', 'INSTANCEID', 'LIGHTCONDITIONSPRIMARY', 'LOCALREPORTNO',\n",
       "       'MANNEROFCRASH', 'ROADCONDITIONSPRIMARY', 'ROADCONTOUR', 'ROADSURFACE',\n",
       "       'ROADCLASS', 'ROADCLASSDESC', 'UNITTYPE', 'TYPEOFPERSON', 'WEATHER',\n",
       "       'ZIP'],\n",
       "      dtype='object')"
      ]
     },
     "execution_count": 5,
     "metadata": {},
     "output_type": "execute_result"
    }
   ],
   "source": [
    "raw.columns"
   ]
  },
  {
   "cell_type": "code",
   "execution_count": 6,
   "metadata": {},
   "outputs": [
    {
     "data": {
      "text/html": [
       "<div>\n",
       "<style scoped>\n",
       "    .dataframe tbody tr th:only-of-type {\n",
       "        vertical-align: middle;\n",
       "    }\n",
       "\n",
       "    .dataframe tbody tr th {\n",
       "        vertical-align: top;\n",
       "    }\n",
       "\n",
       "    .dataframe thead th {\n",
       "        text-align: right;\n",
       "    }\n",
       "</style>\n",
       "<table border=\"1\" class=\"dataframe\">\n",
       "  <thead>\n",
       "    <tr style=\"text-align: right;\">\n",
       "      <th></th>\n",
       "      <th>ADDRESS_X</th>\n",
       "      <th>LATITUDE_X</th>\n",
       "      <th>LONGITUDE_X</th>\n",
       "      <th>AGE</th>\n",
       "      <th>COMMUNITY_COUNCIL_NEIGHBORHOOD</th>\n",
       "      <th>CPD_NEIGHBORHOOD</th>\n",
       "      <th>SNA_NEIGHBORHOOD</th>\n",
       "      <th>CRASHDATE</th>\n",
       "      <th>CRASHLOCATION</th>\n",
       "      <th>CRASHSEVERITY</th>\n",
       "    </tr>\n",
       "  </thead>\n",
       "  <tbody>\n",
       "    <tr>\n",
       "      <th>0</th>\n",
       "      <td>S I75 AT 2-7 MM</td>\n",
       "      <td>39.125153</td>\n",
       "      <td>-84.537191</td>\n",
       "      <td>NaN</td>\n",
       "      <td>WEST END</td>\n",
       "      <td>QUEENSGATE</td>\n",
       "      <td>QUEENSGATE</td>\n",
       "      <td>03/30/2023 12:57:00 AM</td>\n",
       "      <td>NaN</td>\n",
       "      <td>5 - PROPERTY DAMAGE ONLY</td>\n",
       "    </tr>\n",
       "    <tr>\n",
       "      <th>1</th>\n",
       "      <td>2XX E LIBERTY ST</td>\n",
       "      <td>39.113294</td>\n",
       "      <td>-84.513194</td>\n",
       "      <td>32.0</td>\n",
       "      <td>MOUNT AUBURN</td>\n",
       "      <td>MOUNT  AUBURN</td>\n",
       "      <td>OVER-THE-RHINE</td>\n",
       "      <td>03/29/2023 11:45:00 PM</td>\n",
       "      <td>NaN</td>\n",
       "      <td>5 - PROPERTY DAMAGE ONLY</td>\n",
       "    </tr>\n",
       "    <tr>\n",
       "      <th>2</th>\n",
       "      <td>2XX E LIBERTY ST</td>\n",
       "      <td>39.112334</td>\n",
       "      <td>-84.513164</td>\n",
       "      <td>24.0</td>\n",
       "      <td>MOUNT AUBURN</td>\n",
       "      <td>MOUNT  AUBURN</td>\n",
       "      <td>OVER-THE-RHINE</td>\n",
       "      <td>03/29/2023 11:45:00 PM</td>\n",
       "      <td>NaN</td>\n",
       "      <td>5 - PROPERTY DAMAGE ONLY</td>\n",
       "    </tr>\n",
       "    <tr>\n",
       "      <th>3</th>\n",
       "      <td>6XX CENTRAL AV</td>\n",
       "      <td>39.101560</td>\n",
       "      <td>-84.519050</td>\n",
       "      <td>45.0</td>\n",
       "      <td>WEST END</td>\n",
       "      <td>QUEENSGATE</td>\n",
       "      <td>WEST END</td>\n",
       "      <td>03/29/2023 10:29:00 PM</td>\n",
       "      <td>NaN</td>\n",
       "      <td>5 - PROPERTY DAMAGE ONLY</td>\n",
       "    </tr>\n",
       "    <tr>\n",
       "      <th>4</th>\n",
       "      <td>6XX CENTRAL AV</td>\n",
       "      <td>39.102170</td>\n",
       "      <td>-84.519620</td>\n",
       "      <td>38.0</td>\n",
       "      <td>WEST END</td>\n",
       "      <td>QUEENSGATE</td>\n",
       "      <td>WEST END</td>\n",
       "      <td>03/29/2023 10:29:00 PM</td>\n",
       "      <td>NaN</td>\n",
       "      <td>5 - PROPERTY DAMAGE ONLY</td>\n",
       "    </tr>\n",
       "  </tbody>\n",
       "</table>\n",
       "</div>"
      ],
      "text/plain": [
       "          ADDRESS_X  LATITUDE_X  LONGITUDE_X   AGE  \\\n",
       "0   S I75 AT 2-7 MM   39.125153   -84.537191   NaN   \n",
       "1  2XX E LIBERTY ST   39.113294   -84.513194  32.0   \n",
       "2  2XX E LIBERTY ST   39.112334   -84.513164  24.0   \n",
       "3    6XX CENTRAL AV   39.101560   -84.519050  45.0   \n",
       "4    6XX CENTRAL AV   39.102170   -84.519620  38.0   \n",
       "\n",
       "  COMMUNITY_COUNCIL_NEIGHBORHOOD CPD_NEIGHBORHOOD SNA_NEIGHBORHOOD  \\\n",
       "0                       WEST END       QUEENSGATE       QUEENSGATE   \n",
       "1                   MOUNT AUBURN    MOUNT  AUBURN   OVER-THE-RHINE   \n",
       "2                   MOUNT AUBURN    MOUNT  AUBURN   OVER-THE-RHINE   \n",
       "3                       WEST END       QUEENSGATE         WEST END   \n",
       "4                       WEST END       QUEENSGATE         WEST END   \n",
       "\n",
       "                CRASHDATE CRASHLOCATION             CRASHSEVERITY  \n",
       "0  03/30/2023 12:57:00 AM           NaN  5 - PROPERTY DAMAGE ONLY  \n",
       "1  03/29/2023 11:45:00 PM           NaN  5 - PROPERTY DAMAGE ONLY  \n",
       "2  03/29/2023 11:45:00 PM           NaN  5 - PROPERTY DAMAGE ONLY  \n",
       "3  03/29/2023 10:29:00 PM           NaN  5 - PROPERTY DAMAGE ONLY  \n",
       "4  03/29/2023 10:29:00 PM           NaN  5 - PROPERTY DAMAGE ONLY  "
      ]
     },
     "execution_count": 6,
     "metadata": {},
     "output_type": "execute_result"
    }
   ],
   "source": [
    "raw.iloc[:,0:10].head()  # What does the table look like?"
   ]
  },
  {
   "cell_type": "code",
   "execution_count": 7,
   "metadata": {},
   "outputs": [
    {
     "data": {
      "text/plain": [
       "ADDRESS_X                          object\n",
       "LATITUDE_X                        float64\n",
       "LONGITUDE_X                       float64\n",
       "AGE                               float64\n",
       "COMMUNITY_COUNCIL_NEIGHBORHOOD     object\n",
       "CPD_NEIGHBORHOOD                   object\n",
       "SNA_NEIGHBORHOOD                   object\n",
       "CRASHDATE                          object\n",
       "CRASHLOCATION                      object\n",
       "CRASHSEVERITY                      object\n",
       "CRASHSEVERITYID                   float64\n",
       "DATECRASHREPORTED                  object\n",
       "DAYOFWEEK                          object\n",
       "GENDER                             object\n",
       "INJURIES                           object\n",
       "INSTANCEID                         object\n",
       "LIGHTCONDITIONSPRIMARY             object\n",
       "LOCALREPORTNO                       int64\n",
       "MANNEROFCRASH                      object\n",
       "ROADCONDITIONSPRIMARY              object\n",
       "ROADCONTOUR                        object\n",
       "ROADSURFACE                        object\n",
       "ROADCLASS                         float64\n",
       "ROADCLASSDESC                      object\n",
       "UNITTYPE                           object\n",
       "TYPEOFPERSON                       object\n",
       "WEATHER                            object\n",
       "ZIP                                object\n",
       "dtype: object"
      ]
     },
     "execution_count": 7,
     "metadata": {},
     "output_type": "execute_result"
    }
   ],
   "source": [
    "raw.dtypes  # Columns and data types"
   ]
  },
  {
   "attachments": {},
   "cell_type": "markdown",
   "metadata": {},
   "source": [
    "# Reformatting Data"
   ]
  },
  {
   "attachments": {},
   "cell_type": "markdown",
   "metadata": {},
   "source": [
    "We note that there are several columns that can be split up into the \"quantitative measure\" and description. These columns are: \n",
    "- `CRASHSEVERITY`\n",
    "- `GENDER`\n",
    "- `INJURIES`\n",
    "- `LIGHTCONDITIONSPRIMARY`\n",
    "- `MANNEROFCRASH`\n",
    "- `ROADCONDITIONSPRIMARY`\n",
    "- `ROADSURFACE`\n",
    "- `UNITTYPE`\n",
    "- `TYPEOFPERSON`\n",
    "- `WEATHER`\n",
    "\n",
    "In addition, converting the data types of some of the fields would be useful for analysis. These fields are:\n",
    "- `CRASHDATE` `object` to datetime\n",
    "- `LOCALREPORTNO` `int64` to `str`\n",
    "- `DATECRASHREPORED` `object` to datetime\n",
    "- `CRASHSEVERITYID` `float64` to `str`\n",
    "\n",
    "Finally, we notice that `ZIP` is string but has decimal points. We will need to remove those."
   ]
  },
  {
   "cell_type": "code",
   "execution_count": 8,
   "metadata": {},
   "outputs": [],
   "source": [
    "data = raw "
   ]
  },
  {
   "attachments": {},
   "cell_type": "markdown",
   "metadata": {},
   "source": [
    "##  Converting data types"
   ]
  },
  {
   "cell_type": "code",
   "execution_count": 9,
   "metadata": {},
   "outputs": [
    {
     "name": "stderr",
     "output_type": "stream",
     "text": [
      "C:\\Users\\Ern\\AppData\\Local\\Temp\\ipykernel_13660\\1858008429.py:2: FutureWarning: In a future version, `df.iloc[:, i] = newvals` will attempt to set the values inplace instead of always setting a new array. To retain the old behavior, use either `df[df.columns[i]] = newvals` or, if columns are non-unique, `df.isetitem(i, newvals)`\n",
      "  data.loc[:, 'CRASHDATE'] = pd.to_datetime(data.CRASHDATE)\n",
      "C:\\Users\\Ern\\AppData\\Local\\Temp\\ipykernel_13660\\1858008429.py:3: FutureWarning: In a future version, `df.iloc[:, i] = newvals` will attempt to set the values inplace instead of always setting a new array. To retain the old behavior, use either `df[df.columns[i]] = newvals` or, if columns are non-unique, `df.isetitem(i, newvals)`\n",
      "  data.loc[:, 'DATECRASHREPORTED'] = pd.to_datetime(data.DATECRASHREPORTED)\n"
     ]
    }
   ],
   "source": [
    "# Strings to dates\n",
    "data.loc[:, 'CRASHDATE'] = pd.to_datetime(data.CRASHDATE)\n",
    "data.loc[:, 'DATECRASHREPORTED'] = pd.to_datetime(data.DATECRASHREPORTED)\n",
    "\n",
    "# Numbers to strings\n",
    "data.loc[:, 'LOCALREPORTNO'] = data.LOCALREPORTNO.apply(str )\n",
    "data.loc[:, 'CRASHSEVERITYID'] = data.CRASHSEVERITYID.apply(str)"
   ]
  },
  {
   "cell_type": "code",
   "execution_count": 10,
   "metadata": {},
   "outputs": [],
   "source": [
    "# Stripping the trailing zeros from ZIP \n",
    "data.loc[:,'ZIP'] = data.ZIP.astype(str)\n",
    "data.loc[:,'ZIP'] = data.ZIP.str[:5]"
   ]
  },
  {
   "attachments": {},
   "cell_type": "markdown",
   "metadata": {},
   "source": [
    "## Splitting fields"
   ]
  },
  {
   "cell_type": "code",
   "execution_count": 11,
   "metadata": {},
   "outputs": [],
   "source": [
    "# Separate scores from descriptions\n",
    "data[['CRASHSEVERITY','CRASHSEVERITYDESCR']] = data.CRASHSEVERITY.str.split(pat=' - ', expand=True)\n",
    "data.CRASHSEVERITY = data.CRASHSEVERITY.astype('Int64')\n",
    "\n",
    "data[['ROADCONTOUR','ROADCONTOURDESCR']] = data.ROADCONTOUR.str.split(pat=' - ', expand=True)\n",
    "data.ROADCONTOUR = data.ROADCONTOUR.astype('Int64')\n",
    "\n",
    "data[['MANNEROFCRASH', 'MANNEROFCRASHDESCR']] = data.MANNEROFCRASH.str.split(pat=' - ', expand=True)\n",
    "data.MANNEROFCRASH = data.MANNEROFCRASH.astype('Int64')\n",
    "\n",
    "data[['TYPEOFPERSON','TYPEOFPERSONDESCR']] = data.TYPEOFPERSON.str.split(pat=' - ', expand=True)"
   ]
  },
  {
   "attachments": {},
   "cell_type": "markdown",
   "metadata": {},
   "source": [
    "Some fields are more complicated than a simple string split. These fields are:\n",
    "- `GENDER`: Some values have a code and a description, others just a description. \n",
    "- `INJURIES`: There seem to be two different measurement systems, one ascending in severity and one descending in severity.\n",
    "- `LIGHTCONDITIONSPRIMARY`: There are multiple values, which can conflict, per score.\n",
    "- `ROADCONDITIONSPRIMARY`: There are multiple values per score.\n",
    "- `ROADSURFACE`: There are multiple values per score and the same value mapped to differing scores.\n",
    "- `UNITTYPE`: There are multiple values per score.\n",
    "- `WEATHER`: There are multiple values per score.\n",
    "\n",
    "Let us examine these fields in greater detail."
   ]
  },
  {
   "attachments": {},
   "cell_type": "markdown",
   "metadata": {},
   "source": [
    "### Gender"
   ]
  },
  {
   "cell_type": "code",
   "execution_count": 12,
   "metadata": {},
   "outputs": [
    {
     "data": {
      "text/plain": [
       "array([nan, 'F - FEMALE', 'M - MALE', 'U - UNKNOWN', 'FEMALE', 'MALE'],\n",
       "      dtype=object)"
      ]
     },
     "execution_count": 12,
     "metadata": {},
     "output_type": "execute_result"
    }
   ],
   "source": [
    "data.GENDER.unique()"
   ]
  },
  {
   "attachments": {},
   "cell_type": "markdown",
   "metadata": {},
   "source": [
    "The space the description strings take up is negligible, so let us remove the codes from the field to make the values consistent."
   ]
  },
  {
   "cell_type": "code",
   "execution_count": 13,
   "metadata": {},
   "outputs": [
    {
     "data": {
      "text/plain": [
       "array([nan, 'FEMALE', 'MALE', 'UNKNOWN'], dtype=object)"
      ]
     },
     "execution_count": 13,
     "metadata": {},
     "output_type": "execute_result"
    }
   ],
   "source": [
    "data['GENDER'] = data.GENDER.str.replace('F - ', '')\n",
    "data['GENDER'] = data.GENDER.str.replace('M - ', '')\n",
    "data['GENDER'] = data.GENDER.str.replace('U - ', '')\n",
    "data.GENDER.unique()"
   ]
  },
  {
   "attachments": {},
   "cell_type": "markdown",
   "metadata": {},
   "source": [
    "### Injuries"
   ]
  },
  {
   "cell_type": "code",
   "execution_count": 14,
   "metadata": {},
   "outputs": [
    {
     "data": {
      "text/plain": [
       "array([nan, '5 - NO APPARENTY INJURY', '3 - SUSPECTED MINOR INJURY',\n",
       "       '4 - POSSIBLE INJURY', '2 - SUSPECTED SERIOUS INJURY', '1 - FATAL',\n",
       "       '1 - NO INJURY / NONE REPORTED', '2 - POSSIBLE',\n",
       "       '3 - NON-INCAPACITATING', '4 - INCAPACITATING', '5 - FATAL'],\n",
       "      dtype=object)"
      ]
     },
     "execution_count": 14,
     "metadata": {},
     "output_type": "execute_result"
    }
   ],
   "source": [
    "data.INJURIES.unique()"
   ]
  },
  {
   "attachments": {},
   "cell_type": "markdown",
   "metadata": {},
   "source": [
    "It is clear that there is some hierarchy of injuries. Are these scales differing by system? By time? (Perhaps the entry system was changed at some point)\n"
   ]
  },
  {
   "attachments": {},
   "cell_type": "markdown",
   "metadata": {},
   "source": [
    "For now, let us split the field."
   ]
  },
  {
   "cell_type": "code",
   "execution_count": 15,
   "metadata": {},
   "outputs": [],
   "source": [
    "data[['INJURIES', 'INJURIESDESCR']] = data.INJURIES.str.split(pat=' - ', expand=True)\n",
    "data.INJURIES = data.INJURIES.astype('Int64')"
   ]
  },
  {
   "cell_type": "code",
   "execution_count": 16,
   "metadata": {},
   "outputs": [],
   "source": [
    "# Fix the typo in `5 - NO APPARENTY INJURY`\n",
    "data.loc[data['INJURIESDESCR'] == 'NO APPARENTY INJURY', 'INJURIESDESCR'] = 'NO APPARENT INJURY'"
   ]
  },
  {
   "attachments": {},
   "cell_type": "markdown",
   "metadata": {},
   "source": [
    "### Light conditions"
   ]
  },
  {
   "cell_type": "code",
   "execution_count": 17,
   "metadata": {},
   "outputs": [
    {
     "data": {
      "text/plain": [
       "array(['3 - DARK - LIGHTED ROADWAY', '2 - DUSK', '1 - DAYLIGHT',\n",
       "       '5 - DARK – UNKNOWN ROADWAY LIGHTING', '9 - UNKNOWN', '2 - DAWN',\n",
       "       '4 - DARK – ROADWAY NOT LIGHTED', '9 - OTHER', '8 - OTHER',\n",
       "       '4 - DARK - LIGHTED ROADWAY',\n",
       "       '6 - DARK – UNKNOWN ROADWAY LIGHTING',\n",
       "       '5 - DARK – ROADWAY NOT LIGHTED', '3 - DUSK',\n",
       "       '5 - DARK – ROADWAY NOT LIGHTIED', nan], dtype=object)"
      ]
     },
     "execution_count": 17,
     "metadata": {},
     "output_type": "execute_result"
    }
   ],
   "source": [
    "data.LIGHTCONDITIONSPRIMARY.unique()"
   ]
  },
  {
   "attachments": {},
   "cell_type": "markdown",
   "metadata": {},
   "source": [
    "Similarly to `INJURIES`, it is clear there is a hierarchy from light to dark, but there are multiple scales. Let us split the field."
   ]
  },
  {
   "cell_type": "code",
   "execution_count": 18,
   "metadata": {},
   "outputs": [],
   "source": [
    "data['LIGHTCONDITIONS'] = data.LIGHTCONDITIONSPRIMARY.str[0]\n",
    "data.LIGHTCONDITIONS = data.LIGHTCONDITIONS.astype('Int64')\n",
    "data['LIGHTCONDITIONSDESCR'] = data.LIGHTCONDITIONSPRIMARY.str[4:]\n",
    "data.drop(columns='LIGHTCONDITIONSPRIMARY', inplace=True)"
   ]
  },
  {
   "attachments": {},
   "cell_type": "markdown",
   "metadata": {},
   "source": [
    "### Road conditions"
   ]
  },
  {
   "cell_type": "code",
   "execution_count": 19,
   "metadata": {},
   "outputs": [
    {
     "data": {
      "text/plain": [
       "array(['01 - DRY', '09 - UNKNOWN', '02 - WET', '03 - SNOW',\n",
       "       '05 - SAND, MUD, DIRT, OIL, GRAVEL', '04 - ICE', '07 - SLUSH',\n",
       "       '09 - OTHER', '06 - WATER (STANDING, MOVING)', '99 - UNKNOWN',\n",
       "       '10 - OTHER', nan], dtype=object)"
      ]
     },
     "execution_count": 19,
     "metadata": {},
     "output_type": "execute_result"
    }
   ],
   "source": [
    "data.ROADCONDITIONSPRIMARY.unique()"
   ]
  },
  {
   "cell_type": "code",
   "execution_count": 20,
   "metadata": {},
   "outputs": [],
   "source": [
    "data['ROADCONDITIONS'] = data.ROADCONDITIONSPRIMARY.str[0:2]\n",
    "data.ROADCONDITIONS = data.ROADCONDITIONS.astype('Int64')\n",
    "data['ROADCONDITIONSDESCR'] = data.ROADCONDITIONSPRIMARY.str[5:]\n",
    "data.drop(columns='ROADCONDITIONSPRIMARY', inplace=True)"
   ]
  },
  {
   "attachments": {},
   "cell_type": "markdown",
   "metadata": {},
   "source": [
    "### Road surface"
   ]
  },
  {
   "cell_type": "code",
   "execution_count": 21,
   "metadata": {},
   "outputs": [
    {
     "data": {
      "text/plain": [
       "array(['2 - BLACKTOP, BITUMINOUS, ASPHALT', '1 - CONCRETE',\n",
       "       '4 - SLAG, GRAVEL, STONE', '3 - BRICK/BLOCK', '9 - UNKNOWN',\n",
       "       '9 - OTHER', '5 - DIRT', '6 - OTHER', nan], dtype=object)"
      ]
     },
     "execution_count": 21,
     "metadata": {},
     "output_type": "execute_result"
    }
   ],
   "source": [
    "data.ROADSURFACE.unique()"
   ]
  },
  {
   "attachments": {},
   "cell_type": "markdown",
   "metadata": {},
   "source": [
    "The inconsistency is with a score of 9, where the value can be either \"Unknown\" or \"Other\". For now, we will simply split the score from the description."
   ]
  },
  {
   "cell_type": "code",
   "execution_count": 22,
   "metadata": {},
   "outputs": [],
   "source": [
    "data[['ROADSURFACE', 'ROADSURFACEDESCR']] = data.ROADSURFACE.str.split(pat=' - ', expand=True)\n",
    "data.ROADSURFACE = data.ROADSURFACE.astype('Int64')"
   ]
  },
  {
   "attachments": {},
   "cell_type": "markdown",
   "metadata": {},
   "source": [
    "### Unit type"
   ]
  },
  {
   "cell_type": "code",
   "execution_count": 23,
   "metadata": {},
   "outputs": [
    {
     "data": {
      "text/plain": [
       "<bound method Series.unique of 0                                NaN\n",
       "1          19 - BUS (16+ PASSENGERS)\n",
       "2                 01 - PASSENGER CAR\n",
       "3                 01 - PASSENGER CAR\n",
       "4         03 - SPORT UTILITY VEHICLE\n",
       "                     ...            \n",
       "328553    06 - SPORT UTILITY VEHICLE\n",
       "328554                 03 - MID SIZE\n",
       "328555                 03 - MID SIZE\n",
       "328556                 03 - MID SIZE\n",
       "328557                 03 - MID SIZE\n",
       "Name: UNITTYPE, Length: 328558, dtype: object>"
      ]
     },
     "execution_count": 23,
     "metadata": {},
     "output_type": "execute_result"
    }
   ],
   "source": [
    "data.UNITTYPE.unique"
   ]
  },
  {
   "attachments": {},
   "cell_type": "markdown",
   "metadata": {},
   "source": [
    "There doesn't seem to be any real hierarchy, so let us remove the scores from unit type."
   ]
  },
  {
   "cell_type": "code",
   "execution_count": 24,
   "metadata": {},
   "outputs": [
    {
     "name": "stderr",
     "output_type": "stream",
     "text": [
      "C:\\Users\\Ern\\AppData\\Local\\Temp\\ipykernel_13660\\3808989830.py:1: FutureWarning: The default value of regex will change from True to False in a future version.\n",
      "  data.UNITTYPE = data.UNITTYPE.str.replace(r'\\d\\d - ', '')\n"
     ]
    }
   ],
   "source": [
    "data.UNITTYPE = data.UNITTYPE.str.replace(r'\\d\\d - ', '')"
   ]
  },
  {
   "attachments": {},
   "cell_type": "markdown",
   "metadata": {},
   "source": [
    "# Crash Data Overview"
   ]
  },
  {
   "cell_type": "code",
   "execution_count": 25,
   "metadata": {},
   "outputs": [
    {
     "data": {
      "text/plain": [
       "(328558, 36)"
      ]
     },
     "execution_count": 25,
     "metadata": {},
     "output_type": "execute_result"
    }
   ],
   "source": [
    "data.shape"
   ]
  },
  {
   "cell_type": "code",
   "execution_count": 26,
   "metadata": {},
   "outputs": [
    {
     "data": {
      "text/plain": [
       "ADDRESS_X                                 object\n",
       "LATITUDE_X                               float64\n",
       "LONGITUDE_X                              float64\n",
       "AGE                                      float64\n",
       "COMMUNITY_COUNCIL_NEIGHBORHOOD            object\n",
       "CPD_NEIGHBORHOOD                          object\n",
       "SNA_NEIGHBORHOOD                          object\n",
       "CRASHDATE                         datetime64[ns]\n",
       "CRASHLOCATION                             object\n",
       "CRASHSEVERITY                              Int64\n",
       "CRASHSEVERITYID                           object\n",
       "DATECRASHREPORTED                 datetime64[ns]\n",
       "DAYOFWEEK                                 object\n",
       "GENDER                                    object\n",
       "INJURIES                                   Int64\n",
       "INSTANCEID                                object\n",
       "LOCALREPORTNO                             object\n",
       "MANNEROFCRASH                              Int64\n",
       "ROADCONTOUR                                Int64\n",
       "ROADSURFACE                                Int64\n",
       "ROADCLASS                                float64\n",
       "ROADCLASSDESC                             object\n",
       "UNITTYPE                                  object\n",
       "TYPEOFPERSON                              object\n",
       "WEATHER                                   object\n",
       "ZIP                                       object\n",
       "CRASHSEVERITYDESCR                        object\n",
       "ROADCONTOURDESCR                          object\n",
       "MANNEROFCRASHDESCR                        object\n",
       "TYPEOFPERSONDESCR                         object\n",
       "INJURIESDESCR                             object\n",
       "LIGHTCONDITIONS                            Int64\n",
       "LIGHTCONDITIONSDESCR                      object\n",
       "ROADCONDITIONS                             Int64\n",
       "ROADCONDITIONSDESCR                       object\n",
       "ROADSURFACEDESCR                          object\n",
       "dtype: object"
      ]
     },
     "execution_count": 26,
     "metadata": {},
     "output_type": "execute_result"
    }
   ],
   "source": [
    "data.dtypes"
   ]
  },
  {
   "cell_type": "code",
   "execution_count": 27,
   "metadata": {},
   "outputs": [
    {
     "data": {
      "text/html": [
       "<div>\n",
       "<style scoped>\n",
       "    .dataframe tbody tr th:only-of-type {\n",
       "        vertical-align: middle;\n",
       "    }\n",
       "\n",
       "    .dataframe tbody tr th {\n",
       "        vertical-align: top;\n",
       "    }\n",
       "\n",
       "    .dataframe thead th {\n",
       "        text-align: right;\n",
       "    }\n",
       "</style>\n",
       "<table border=\"1\" class=\"dataframe\">\n",
       "  <thead>\n",
       "    <tr style=\"text-align: right;\">\n",
       "      <th></th>\n",
       "      <th>LATITUDE_X</th>\n",
       "      <th>LONGITUDE_X</th>\n",
       "      <th>AGE</th>\n",
       "      <th>CRASHSEVERITY</th>\n",
       "      <th>INJURIES</th>\n",
       "      <th>MANNEROFCRASH</th>\n",
       "      <th>ROADCONTOUR</th>\n",
       "      <th>ROADSURFACE</th>\n",
       "      <th>ROADCLASS</th>\n",
       "      <th>LIGHTCONDITIONS</th>\n",
       "      <th>ROADCONDITIONS</th>\n",
       "    </tr>\n",
       "  </thead>\n",
       "  <tbody>\n",
       "    <tr>\n",
       "      <th>count</th>\n",
       "      <td>3.285290e+05</td>\n",
       "      <td>3.285270e+05</td>\n",
       "      <td>287961.000000</td>\n",
       "      <td>328551.0</td>\n",
       "      <td>328250.0</td>\n",
       "      <td>328537.0</td>\n",
       "      <td>328537.0</td>\n",
       "      <td>328537.0</td>\n",
       "      <td>203133.000000</td>\n",
       "      <td>328537.0</td>\n",
       "      <td>328537.0</td>\n",
       "    </tr>\n",
       "    <tr>\n",
       "      <th>mean</th>\n",
       "      <td>2.633354e+03</td>\n",
       "      <td>-1.199095e+04</td>\n",
       "      <td>37.465070</td>\n",
       "      <td>3.481904</td>\n",
       "      <td>2.663829</td>\n",
       "      <td>4.262655</td>\n",
       "      <td>1.469451</td>\n",
       "      <td>1.853091</td>\n",
       "      <td>2.825745</td>\n",
       "      <td>1.79539</td>\n",
       "      <td>1.551956</td>\n",
       "    </tr>\n",
       "    <tr>\n",
       "      <th>std</th>\n",
       "      <td>1.469781e+06</td>\n",
       "      <td>6.819152e+06</td>\n",
       "      <td>16.585971</td>\n",
       "      <td>1.080332</td>\n",
       "      <td>1.837182</td>\n",
       "      <td>2.441715</td>\n",
       "      <td>0.857321</td>\n",
       "      <td>0.408198</td>\n",
       "      <td>1.484126</td>\n",
       "      <td>1.336644</td>\n",
       "      <td>4.998746</td>\n",
       "    </tr>\n",
       "    <tr>\n",
       "      <th>min</th>\n",
       "      <td>-8.449023e+01</td>\n",
       "      <td>-3.908552e+09</td>\n",
       "      <td>0.000000</td>\n",
       "      <td>1.0</td>\n",
       "      <td>1.0</td>\n",
       "      <td>1.0</td>\n",
       "      <td>1.0</td>\n",
       "      <td>1.0</td>\n",
       "      <td>0.000000</td>\n",
       "      <td>1.0</td>\n",
       "      <td>1.0</td>\n",
       "    </tr>\n",
       "    <tr>\n",
       "      <th>25%</th>\n",
       "      <td>3.911740e+01</td>\n",
       "      <td>-8.454953e+01</td>\n",
       "      <td>24.000000</td>\n",
       "      <td>3.0</td>\n",
       "      <td>1.0</td>\n",
       "      <td>2.0</td>\n",
       "      <td>1.0</td>\n",
       "      <td>2.0</td>\n",
       "      <td>2.000000</td>\n",
       "      <td>1.0</td>\n",
       "      <td>1.0</td>\n",
       "    </tr>\n",
       "    <tr>\n",
       "      <th>50%</th>\n",
       "      <td>3.913663e+01</td>\n",
       "      <td>-8.451502e+01</td>\n",
       "      <td>34.000000</td>\n",
       "      <td>3.0</td>\n",
       "      <td>1.0</td>\n",
       "      <td>6.0</td>\n",
       "      <td>1.0</td>\n",
       "      <td>2.0</td>\n",
       "      <td>2.000000</td>\n",
       "      <td>1.0</td>\n",
       "      <td>1.0</td>\n",
       "    </tr>\n",
       "    <tr>\n",
       "      <th>75%</th>\n",
       "      <td>3.916096e+01</td>\n",
       "      <td>-8.448473e+01</td>\n",
       "      <td>49.000000</td>\n",
       "      <td>5.0</td>\n",
       "      <td>5.0</td>\n",
       "      <td>6.0</td>\n",
       "      <td>2.0</td>\n",
       "      <td>2.0</td>\n",
       "      <td>4.000000</td>\n",
       "      <td>3.0</td>\n",
       "      <td>1.0</td>\n",
       "    </tr>\n",
       "    <tr>\n",
       "      <th>max</th>\n",
       "      <td>8.424329e+08</td>\n",
       "      <td>1.000000e-03</td>\n",
       "      <td>933.000000</td>\n",
       "      <td>5.0</td>\n",
       "      <td>5.0</td>\n",
       "      <td>9.0</td>\n",
       "      <td>9.0</td>\n",
       "      <td>9.0</td>\n",
       "      <td>10.000000</td>\n",
       "      <td>9.0</td>\n",
       "      <td>99.0</td>\n",
       "    </tr>\n",
       "  </tbody>\n",
       "</table>\n",
       "</div>"
      ],
      "text/plain": [
       "         LATITUDE_X   LONGITUDE_X            AGE  CRASHSEVERITY  INJURIES  \\\n",
       "count  3.285290e+05  3.285270e+05  287961.000000       328551.0  328250.0   \n",
       "mean   2.633354e+03 -1.199095e+04      37.465070       3.481904  2.663829   \n",
       "std    1.469781e+06  6.819152e+06      16.585971       1.080332  1.837182   \n",
       "min   -8.449023e+01 -3.908552e+09       0.000000            1.0       1.0   \n",
       "25%    3.911740e+01 -8.454953e+01      24.000000            3.0       1.0   \n",
       "50%    3.913663e+01 -8.451502e+01      34.000000            3.0       1.0   \n",
       "75%    3.916096e+01 -8.448473e+01      49.000000            5.0       5.0   \n",
       "max    8.424329e+08  1.000000e-03     933.000000            5.0       5.0   \n",
       "\n",
       "       MANNEROFCRASH  ROADCONTOUR  ROADSURFACE      ROADCLASS  \\\n",
       "count       328537.0     328537.0     328537.0  203133.000000   \n",
       "mean        4.262655     1.469451     1.853091       2.825745   \n",
       "std         2.441715     0.857321     0.408198       1.484126   \n",
       "min              1.0          1.0          1.0       0.000000   \n",
       "25%              2.0          1.0          2.0       2.000000   \n",
       "50%              6.0          1.0          2.0       2.000000   \n",
       "75%              6.0          2.0          2.0       4.000000   \n",
       "max              9.0          9.0          9.0      10.000000   \n",
       "\n",
       "       LIGHTCONDITIONS  ROADCONDITIONS  \n",
       "count         328537.0        328537.0  \n",
       "mean           1.79539        1.551956  \n",
       "std           1.336644        4.998746  \n",
       "min                1.0             1.0  \n",
       "25%                1.0             1.0  \n",
       "50%                1.0             1.0  \n",
       "75%                3.0             1.0  \n",
       "max                9.0            99.0  "
      ]
     },
     "execution_count": 27,
     "metadata": {},
     "output_type": "execute_result"
    }
   ],
   "source": [
    "data.describe()"
   ]
  },
  {
   "attachments": {},
   "cell_type": "markdown",
   "metadata": {},
   "source": [
    "One remark is that the score value fields which use 9(9) as Unknown/Other skew the distribution. It may make sense to revisit these later."
   ]
  },
  {
   "cell_type": "code",
   "execution_count": 28,
   "metadata": {},
   "outputs": [
    {
     "data": {
      "text/html": [
       "<div>\n",
       "<style scoped>\n",
       "    .dataframe tbody tr th:only-of-type {\n",
       "        vertical-align: middle;\n",
       "    }\n",
       "\n",
       "    .dataframe tbody tr th {\n",
       "        vertical-align: top;\n",
       "    }\n",
       "\n",
       "    .dataframe thead th {\n",
       "        text-align: right;\n",
       "    }\n",
       "</style>\n",
       "<table border=\"1\" class=\"dataframe\">\n",
       "  <thead>\n",
       "    <tr style=\"text-align: right;\">\n",
       "      <th></th>\n",
       "      <th>ADDRESS_X</th>\n",
       "      <th>LATITUDE_X</th>\n",
       "      <th>LONGITUDE_X</th>\n",
       "      <th>AGE</th>\n",
       "      <th>COMMUNITY_COUNCIL_NEIGHBORHOOD</th>\n",
       "      <th>CPD_NEIGHBORHOOD</th>\n",
       "      <th>SNA_NEIGHBORHOOD</th>\n",
       "      <th>CRASHDATE</th>\n",
       "      <th>CRASHLOCATION</th>\n",
       "      <th>CRASHSEVERITY</th>\n",
       "    </tr>\n",
       "  </thead>\n",
       "  <tbody>\n",
       "    <tr>\n",
       "      <th>0</th>\n",
       "      <td>S I75 AT 2-7 MM</td>\n",
       "      <td>39.125153</td>\n",
       "      <td>-84.537191</td>\n",
       "      <td>NaN</td>\n",
       "      <td>WEST END</td>\n",
       "      <td>QUEENSGATE</td>\n",
       "      <td>QUEENSGATE</td>\n",
       "      <td>2023-03-30 00:57:00</td>\n",
       "      <td>NaN</td>\n",
       "      <td>5</td>\n",
       "    </tr>\n",
       "    <tr>\n",
       "      <th>1</th>\n",
       "      <td>2XX E LIBERTY ST</td>\n",
       "      <td>39.113294</td>\n",
       "      <td>-84.513194</td>\n",
       "      <td>32.0</td>\n",
       "      <td>MOUNT AUBURN</td>\n",
       "      <td>MOUNT  AUBURN</td>\n",
       "      <td>OVER-THE-RHINE</td>\n",
       "      <td>2023-03-29 23:45:00</td>\n",
       "      <td>NaN</td>\n",
       "      <td>5</td>\n",
       "    </tr>\n",
       "    <tr>\n",
       "      <th>2</th>\n",
       "      <td>2XX E LIBERTY ST</td>\n",
       "      <td>39.112334</td>\n",
       "      <td>-84.513164</td>\n",
       "      <td>24.0</td>\n",
       "      <td>MOUNT AUBURN</td>\n",
       "      <td>MOUNT  AUBURN</td>\n",
       "      <td>OVER-THE-RHINE</td>\n",
       "      <td>2023-03-29 23:45:00</td>\n",
       "      <td>NaN</td>\n",
       "      <td>5</td>\n",
       "    </tr>\n",
       "    <tr>\n",
       "      <th>3</th>\n",
       "      <td>6XX CENTRAL AV</td>\n",
       "      <td>39.101560</td>\n",
       "      <td>-84.519050</td>\n",
       "      <td>45.0</td>\n",
       "      <td>WEST END</td>\n",
       "      <td>QUEENSGATE</td>\n",
       "      <td>WEST END</td>\n",
       "      <td>2023-03-29 22:29:00</td>\n",
       "      <td>NaN</td>\n",
       "      <td>5</td>\n",
       "    </tr>\n",
       "    <tr>\n",
       "      <th>4</th>\n",
       "      <td>6XX CENTRAL AV</td>\n",
       "      <td>39.102170</td>\n",
       "      <td>-84.519620</td>\n",
       "      <td>38.0</td>\n",
       "      <td>WEST END</td>\n",
       "      <td>QUEENSGATE</td>\n",
       "      <td>WEST END</td>\n",
       "      <td>2023-03-29 22:29:00</td>\n",
       "      <td>NaN</td>\n",
       "      <td>5</td>\n",
       "    </tr>\n",
       "  </tbody>\n",
       "</table>\n",
       "</div>"
      ],
      "text/plain": [
       "          ADDRESS_X  LATITUDE_X  LONGITUDE_X   AGE  \\\n",
       "0   S I75 AT 2-7 MM   39.125153   -84.537191   NaN   \n",
       "1  2XX E LIBERTY ST   39.113294   -84.513194  32.0   \n",
       "2  2XX E LIBERTY ST   39.112334   -84.513164  24.0   \n",
       "3    6XX CENTRAL AV   39.101560   -84.519050  45.0   \n",
       "4    6XX CENTRAL AV   39.102170   -84.519620  38.0   \n",
       "\n",
       "  COMMUNITY_COUNCIL_NEIGHBORHOOD CPD_NEIGHBORHOOD SNA_NEIGHBORHOOD  \\\n",
       "0                       WEST END       QUEENSGATE       QUEENSGATE   \n",
       "1                   MOUNT AUBURN    MOUNT  AUBURN   OVER-THE-RHINE   \n",
       "2                   MOUNT AUBURN    MOUNT  AUBURN   OVER-THE-RHINE   \n",
       "3                       WEST END       QUEENSGATE         WEST END   \n",
       "4                       WEST END       QUEENSGATE         WEST END   \n",
       "\n",
       "            CRASHDATE CRASHLOCATION  CRASHSEVERITY  \n",
       "0 2023-03-30 00:57:00           NaN              5  \n",
       "1 2023-03-29 23:45:00           NaN              5  \n",
       "2 2023-03-29 23:45:00           NaN              5  \n",
       "3 2023-03-29 22:29:00           NaN              5  \n",
       "4 2023-03-29 22:29:00           NaN              5  "
      ]
     },
     "execution_count": 28,
     "metadata": {},
     "output_type": "execute_result"
    }
   ],
   "source": [
    "data.iloc[0:5, 0:10]"
   ]
  },
  {
   "cell_type": "code",
   "execution_count": 29,
   "metadata": {},
   "outputs": [
    {
     "data": {
      "text/html": [
       "<div>\n",
       "<style scoped>\n",
       "    .dataframe tbody tr th:only-of-type {\n",
       "        vertical-align: middle;\n",
       "    }\n",
       "\n",
       "    .dataframe tbody tr th {\n",
       "        vertical-align: top;\n",
       "    }\n",
       "\n",
       "    .dataframe thead th {\n",
       "        text-align: right;\n",
       "    }\n",
       "</style>\n",
       "<table border=\"1\" class=\"dataframe\">\n",
       "  <thead>\n",
       "    <tr style=\"text-align: right;\">\n",
       "      <th></th>\n",
       "      <th>CRASHSEVERITYID</th>\n",
       "      <th>DATECRASHREPORTED</th>\n",
       "      <th>DAYOFWEEK</th>\n",
       "      <th>GENDER</th>\n",
       "      <th>INJURIES</th>\n",
       "      <th>INSTANCEID</th>\n",
       "      <th>LOCALREPORTNO</th>\n",
       "      <th>MANNEROFCRASH</th>\n",
       "      <th>ROADCONTOUR</th>\n",
       "      <th>ROADSURFACE</th>\n",
       "    </tr>\n",
       "  </thead>\n",
       "  <tbody>\n",
       "    <tr>\n",
       "      <th>0</th>\n",
       "      <td>201905.0</td>\n",
       "      <td>2023-03-30 00:58:00</td>\n",
       "      <td>THU</td>\n",
       "      <td>NaN</td>\n",
       "      <td>&lt;NA&gt;</td>\n",
       "      <td>AD46E8B0-1008-4FC0-BF47-1CFE6FBC30CC</td>\n",
       "      <td>235003518</td>\n",
       "      <td>7</td>\n",
       "      <td>1</td>\n",
       "      <td>2</td>\n",
       "    </tr>\n",
       "    <tr>\n",
       "      <th>1</th>\n",
       "      <td>201905.0</td>\n",
       "      <td>2023-03-29 23:47:00</td>\n",
       "      <td>WED</td>\n",
       "      <td>FEMALE</td>\n",
       "      <td>5</td>\n",
       "      <td>C14AF618-B333-4A43-8667-3D4182E493E7</td>\n",
       "      <td>235003517</td>\n",
       "      <td>6</td>\n",
       "      <td>2</td>\n",
       "      <td>2</td>\n",
       "    </tr>\n",
       "    <tr>\n",
       "      <th>2</th>\n",
       "      <td>201905.0</td>\n",
       "      <td>2023-03-29 23:47:00</td>\n",
       "      <td>WED</td>\n",
       "      <td>FEMALE</td>\n",
       "      <td>5</td>\n",
       "      <td>C14AF618-B333-4A43-8667-3D4182E493E7</td>\n",
       "      <td>235003517</td>\n",
       "      <td>6</td>\n",
       "      <td>2</td>\n",
       "      <td>2</td>\n",
       "    </tr>\n",
       "    <tr>\n",
       "      <th>3</th>\n",
       "      <td>201905.0</td>\n",
       "      <td>2023-03-29 22:32:00</td>\n",
       "      <td>WED</td>\n",
       "      <td>FEMALE</td>\n",
       "      <td>5</td>\n",
       "      <td>D0E6E797-8123-4DED-B4CD-745C640DFDAB</td>\n",
       "      <td>235003516</td>\n",
       "      <td>2</td>\n",
       "      <td>1</td>\n",
       "      <td>2</td>\n",
       "    </tr>\n",
       "    <tr>\n",
       "      <th>4</th>\n",
       "      <td>201905.0</td>\n",
       "      <td>2023-03-29 22:32:00</td>\n",
       "      <td>WED</td>\n",
       "      <td>MALE</td>\n",
       "      <td>5</td>\n",
       "      <td>D0E6E797-8123-4DED-B4CD-745C640DFDAB</td>\n",
       "      <td>235003516</td>\n",
       "      <td>2</td>\n",
       "      <td>1</td>\n",
       "      <td>2</td>\n",
       "    </tr>\n",
       "  </tbody>\n",
       "</table>\n",
       "</div>"
      ],
      "text/plain": [
       "  CRASHSEVERITYID   DATECRASHREPORTED DAYOFWEEK  GENDER  INJURIES  \\\n",
       "0        201905.0 2023-03-30 00:58:00       THU     NaN      <NA>   \n",
       "1        201905.0 2023-03-29 23:47:00       WED  FEMALE         5   \n",
       "2        201905.0 2023-03-29 23:47:00       WED  FEMALE         5   \n",
       "3        201905.0 2023-03-29 22:32:00       WED  FEMALE         5   \n",
       "4        201905.0 2023-03-29 22:32:00       WED    MALE         5   \n",
       "\n",
       "                             INSTANCEID LOCALREPORTNO  MANNEROFCRASH  \\\n",
       "0  AD46E8B0-1008-4FC0-BF47-1CFE6FBC30CC     235003518              7   \n",
       "1  C14AF618-B333-4A43-8667-3D4182E493E7     235003517              6   \n",
       "2  C14AF618-B333-4A43-8667-3D4182E493E7     235003517              6   \n",
       "3  D0E6E797-8123-4DED-B4CD-745C640DFDAB     235003516              2   \n",
       "4  D0E6E797-8123-4DED-B4CD-745C640DFDAB     235003516              2   \n",
       "\n",
       "   ROADCONTOUR  ROADSURFACE  \n",
       "0            1            2  \n",
       "1            2            2  \n",
       "2            2            2  \n",
       "3            1            2  \n",
       "4            1            2  "
      ]
     },
     "execution_count": 29,
     "metadata": {},
     "output_type": "execute_result"
    }
   ],
   "source": [
    "data.iloc[0:5, 10:20]"
   ]
  },
  {
   "cell_type": "code",
   "execution_count": 30,
   "metadata": {},
   "outputs": [
    {
     "data": {
      "text/html": [
       "<div>\n",
       "<style scoped>\n",
       "    .dataframe tbody tr th:only-of-type {\n",
       "        vertical-align: middle;\n",
       "    }\n",
       "\n",
       "    .dataframe tbody tr th {\n",
       "        vertical-align: top;\n",
       "    }\n",
       "\n",
       "    .dataframe thead th {\n",
       "        text-align: right;\n",
       "    }\n",
       "</style>\n",
       "<table border=\"1\" class=\"dataframe\">\n",
       "  <thead>\n",
       "    <tr style=\"text-align: right;\">\n",
       "      <th></th>\n",
       "      <th>ROADCLASS</th>\n",
       "      <th>ROADCLASSDESC</th>\n",
       "      <th>UNITTYPE</th>\n",
       "      <th>TYPEOFPERSON</th>\n",
       "      <th>WEATHER</th>\n",
       "      <th>ZIP</th>\n",
       "      <th>CRASHSEVERITYDESCR</th>\n",
       "      <th>ROADCONTOURDESCR</th>\n",
       "      <th>MANNEROFCRASHDESCR</th>\n",
       "      <th>TYPEOFPERSONDESCR</th>\n",
       "    </tr>\n",
       "  </thead>\n",
       "  <tbody>\n",
       "    <tr>\n",
       "      <th>0</th>\n",
       "      <td>NaN</td>\n",
       "      <td>NaN</td>\n",
       "      <td>NaN</td>\n",
       "      <td>NaN</td>\n",
       "      <td>1 - CLEAR</td>\n",
       "      <td>45223</td>\n",
       "      <td>PROPERTY DAMAGE ONLY</td>\n",
       "      <td>STRAIGHT LEVEL</td>\n",
       "      <td>SIDESWIPE, SAME DIRECTION</td>\n",
       "      <td>NaN</td>\n",
       "    </tr>\n",
       "    <tr>\n",
       "      <th>1</th>\n",
       "      <td>NaN</td>\n",
       "      <td>NaN</td>\n",
       "      <td>BUS (16+ PASSENGERS)</td>\n",
       "      <td>D</td>\n",
       "      <td>1 - CLEAR</td>\n",
       "      <td>45202</td>\n",
       "      <td>PROPERTY DAMAGE ONLY</td>\n",
       "      <td>STRAIGHT GRADE</td>\n",
       "      <td>ANGLE</td>\n",
       "      <td>DRIVER</td>\n",
       "    </tr>\n",
       "    <tr>\n",
       "      <th>2</th>\n",
       "      <td>NaN</td>\n",
       "      <td>NaN</td>\n",
       "      <td>PASSENGER CAR</td>\n",
       "      <td>O</td>\n",
       "      <td>1 - CLEAR</td>\n",
       "      <td>45202</td>\n",
       "      <td>PROPERTY DAMAGE ONLY</td>\n",
       "      <td>STRAIGHT GRADE</td>\n",
       "      <td>ANGLE</td>\n",
       "      <td>OCCUPANT</td>\n",
       "    </tr>\n",
       "    <tr>\n",
       "      <th>3</th>\n",
       "      <td>6.0</td>\n",
       "      <td>Ramps</td>\n",
       "      <td>PASSENGER CAR</td>\n",
       "      <td>D</td>\n",
       "      <td>1 - CLEAR</td>\n",
       "      <td>45203</td>\n",
       "      <td>PROPERTY DAMAGE ONLY</td>\n",
       "      <td>STRAIGHT LEVEL</td>\n",
       "      <td>REAR-END</td>\n",
       "      <td>DRIVER</td>\n",
       "    </tr>\n",
       "    <tr>\n",
       "      <th>4</th>\n",
       "      <td>6.0</td>\n",
       "      <td>Ramps</td>\n",
       "      <td>SPORT UTILITY VEHICLE</td>\n",
       "      <td>D</td>\n",
       "      <td>1 - CLEAR</td>\n",
       "      <td>45203</td>\n",
       "      <td>PROPERTY DAMAGE ONLY</td>\n",
       "      <td>STRAIGHT LEVEL</td>\n",
       "      <td>REAR-END</td>\n",
       "      <td>DRIVER</td>\n",
       "    </tr>\n",
       "  </tbody>\n",
       "</table>\n",
       "</div>"
      ],
      "text/plain": [
       "   ROADCLASS ROADCLASSDESC               UNITTYPE TYPEOFPERSON    WEATHER  \\\n",
       "0        NaN           NaN                    NaN          NaN  1 - CLEAR   \n",
       "1        NaN           NaN   BUS (16+ PASSENGERS)            D  1 - CLEAR   \n",
       "2        NaN           NaN          PASSENGER CAR            O  1 - CLEAR   \n",
       "3        6.0         Ramps          PASSENGER CAR            D  1 - CLEAR   \n",
       "4        6.0         Ramps  SPORT UTILITY VEHICLE            D  1 - CLEAR   \n",
       "\n",
       "     ZIP    CRASHSEVERITYDESCR ROADCONTOURDESCR         MANNEROFCRASHDESCR  \\\n",
       "0  45223  PROPERTY DAMAGE ONLY   STRAIGHT LEVEL  SIDESWIPE, SAME DIRECTION   \n",
       "1  45202  PROPERTY DAMAGE ONLY   STRAIGHT GRADE                      ANGLE   \n",
       "2  45202  PROPERTY DAMAGE ONLY   STRAIGHT GRADE                      ANGLE   \n",
       "3  45203  PROPERTY DAMAGE ONLY   STRAIGHT LEVEL                   REAR-END   \n",
       "4  45203  PROPERTY DAMAGE ONLY   STRAIGHT LEVEL                   REAR-END   \n",
       "\n",
       "  TYPEOFPERSONDESCR  \n",
       "0               NaN  \n",
       "1            DRIVER  \n",
       "2          OCCUPANT  \n",
       "3            DRIVER  \n",
       "4            DRIVER  "
      ]
     },
     "execution_count": 30,
     "metadata": {},
     "output_type": "execute_result"
    }
   ],
   "source": [
    "data.iloc[0:5, 20:30]"
   ]
  },
  {
   "cell_type": "code",
   "execution_count": 31,
   "metadata": {},
   "outputs": [
    {
     "data": {
      "text/html": [
       "<div>\n",
       "<style scoped>\n",
       "    .dataframe tbody tr th:only-of-type {\n",
       "        vertical-align: middle;\n",
       "    }\n",
       "\n",
       "    .dataframe tbody tr th {\n",
       "        vertical-align: top;\n",
       "    }\n",
       "\n",
       "    .dataframe thead th {\n",
       "        text-align: right;\n",
       "    }\n",
       "</style>\n",
       "<table border=\"1\" class=\"dataframe\">\n",
       "  <thead>\n",
       "    <tr style=\"text-align: right;\">\n",
       "      <th></th>\n",
       "      <th>INJURIESDESCR</th>\n",
       "      <th>LIGHTCONDITIONS</th>\n",
       "      <th>LIGHTCONDITIONSDESCR</th>\n",
       "      <th>ROADCONDITIONS</th>\n",
       "      <th>ROADCONDITIONSDESCR</th>\n",
       "      <th>ROADSURFACEDESCR</th>\n",
       "    </tr>\n",
       "  </thead>\n",
       "  <tbody>\n",
       "    <tr>\n",
       "      <th>0</th>\n",
       "      <td>NaN</td>\n",
       "      <td>3</td>\n",
       "      <td>DARK - LIGHTED ROADWAY</td>\n",
       "      <td>1</td>\n",
       "      <td>DRY</td>\n",
       "      <td>BLACKTOP, BITUMINOUS, ASPHALT</td>\n",
       "    </tr>\n",
       "    <tr>\n",
       "      <th>1</th>\n",
       "      <td>NO APPARENT INJURY</td>\n",
       "      <td>3</td>\n",
       "      <td>DARK - LIGHTED ROADWAY</td>\n",
       "      <td>1</td>\n",
       "      <td>DRY</td>\n",
       "      <td>BLACKTOP, BITUMINOUS, ASPHALT</td>\n",
       "    </tr>\n",
       "    <tr>\n",
       "      <th>2</th>\n",
       "      <td>NO APPARENT INJURY</td>\n",
       "      <td>3</td>\n",
       "      <td>DARK - LIGHTED ROADWAY</td>\n",
       "      <td>1</td>\n",
       "      <td>DRY</td>\n",
       "      <td>BLACKTOP, BITUMINOUS, ASPHALT</td>\n",
       "    </tr>\n",
       "    <tr>\n",
       "      <th>3</th>\n",
       "      <td>NO APPARENT INJURY</td>\n",
       "      <td>3</td>\n",
       "      <td>DARK - LIGHTED ROADWAY</td>\n",
       "      <td>1</td>\n",
       "      <td>DRY</td>\n",
       "      <td>BLACKTOP, BITUMINOUS, ASPHALT</td>\n",
       "    </tr>\n",
       "    <tr>\n",
       "      <th>4</th>\n",
       "      <td>NO APPARENT INJURY</td>\n",
       "      <td>3</td>\n",
       "      <td>DARK - LIGHTED ROADWAY</td>\n",
       "      <td>1</td>\n",
       "      <td>DRY</td>\n",
       "      <td>BLACKTOP, BITUMINOUS, ASPHALT</td>\n",
       "    </tr>\n",
       "  </tbody>\n",
       "</table>\n",
       "</div>"
      ],
      "text/plain": [
       "        INJURIESDESCR  LIGHTCONDITIONS    LIGHTCONDITIONSDESCR  \\\n",
       "0                 NaN                3  DARK - LIGHTED ROADWAY   \n",
       "1  NO APPARENT INJURY                3  DARK - LIGHTED ROADWAY   \n",
       "2  NO APPARENT INJURY                3  DARK - LIGHTED ROADWAY   \n",
       "3  NO APPARENT INJURY                3  DARK - LIGHTED ROADWAY   \n",
       "4  NO APPARENT INJURY                3  DARK - LIGHTED ROADWAY   \n",
       "\n",
       "   ROADCONDITIONS ROADCONDITIONSDESCR               ROADSURFACEDESCR  \n",
       "0               1                 DRY  BLACKTOP, BITUMINOUS, ASPHALT  \n",
       "1               1                 DRY  BLACKTOP, BITUMINOUS, ASPHALT  \n",
       "2               1                 DRY  BLACKTOP, BITUMINOUS, ASPHALT  \n",
       "3               1                 DRY  BLACKTOP, BITUMINOUS, ASPHALT  \n",
       "4               1                 DRY  BLACKTOP, BITUMINOUS, ASPHALT  "
      ]
     },
     "execution_count": 31,
     "metadata": {},
     "output_type": "execute_result"
    }
   ],
   "source": [
    "data.iloc[0:5, 30:40]"
   ]
  }
 ],
 "metadata": {
  "kernelspec": {
   "display_name": "Python 3",
   "language": "python",
   "name": "python3"
  },
  "language_info": {
   "codemirror_mode": {
    "name": "ipython",
    "version": 3
   },
   "file_extension": ".py",
   "mimetype": "text/x-python",
   "name": "python",
   "nbconvert_exporter": "python",
   "pygments_lexer": "ipython3",
   "version": "3.11.0"
  },
  "orig_nbformat": 4,
  "vscode": {
   "interpreter": {
    "hash": "c3e96ec3f1cdb663977cb46f8728562ce9615f76831617ef0e10c94e3ade3df4"
   }
  }
 },
 "nbformat": 4,
 "nbformat_minor": 2
}
